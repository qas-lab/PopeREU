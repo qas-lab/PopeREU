{
 "cells": [
  {
   "cell_type": "code",
   "execution_count": 2,
   "id": "d17456fd-ffee-4948-86c9-537c04793f1c",
   "metadata": {},
   "outputs": [],
   "source": [
    "%%capture\n",
    "import pandas as pd\n",
    "import zipfile\n",
    "!pip install torch\n",
    "from sklearn.feature_extraction.text import CountVectorizer\n",
    "from sklearn.naive_bayes import MultinomialNB\n",
    "from sklearn.model_selection import train_test_split\n",
    "from sklearn.metrics import accuracy_score, classification_report\n",
    "from sklearn.svm import SVC\n",
    "from sklearn.feature_extraction.text import TfidfVectorizer\n",
    "from sklearn.neural_network import MLPClassifier\n",
    "import torch\n",
    "import joblib\n",
    "\n",
    "df = pd.read_csv(zipfile.ZipFile('sentiAnalysis.zip').open('sentiAnalysis.csv'))"
   ]
  },
  {
   "cell_type": "code",
   "execution_count": 7,
   "id": "d9d5badb-ea89-4adc-b465-80bfe2ed865f",
   "metadata": {},
   "outputs": [],
   "source": [
    "def train_svm(df, feature_cols, target_col, test_size=0.2, random_state=42):\n",
    "# Fill missing values in feature columns\n",
    "    df[feature_cols] = df[feature_cols].fillna(' ')\n",
    "\n",
    "    # Combine feature columns into a single column for vectorization\n",
    "    df['combined'] = df[feature_cols].apply(lambda row: ' '.join(row.values.astype(str)), axis=1)\n",
    "\n",
    "    # Encode the combined text column\n",
    "    vectorizer = CountVectorizer()\n",
    "    X = vectorizer.fit_transform(df['combined'])\n",
    "\n",
    "    # Encode the target column\n",
    "    y = df[target_col]\n",
    "\n",
    "    # Ensure X and y have the same length\n",
    "    assert X.shape[0] == len(y), \"Features and labels have inconsistent lengths.\"\n",
    "\n",
    "    # Split the data into training and testing sets\n",
    "    X_train, X_test, y_train, y_test = train_test_split(X, y, test_size=.2, random_state=42)\n",
    "\n",
    "    # Initialize and train the SVM model\n",
    "    model = SVC()\n",
    "    model.fit(X_train, y_train)\n",
    "    # Make predictions\n",
    "    y_pred = model.predict(X_test)\n",
    "    # Evaluate the model\n",
    "    accuracy = accuracy_score(y_test, y_pred)\n",
    "    report = classification_report(y_test, y_pred)\n",
    "    \n",
    "    print(f'Accuracy: {accuracy}')\n",
    "    print('Classification Report:')\n",
    "    print(report)\n",
    "    \n",
    "    return accuracy, report, model\n"
   ]
  },
  {
   "cell_type": "code",
   "execution_count": 8,
   "id": "ddc7aab6-4677-46db-9b20-0e8ac20f45c0",
   "metadata": {},
   "outputs": [
    {
     "name": "stdout",
     "output_type": "stream",
     "text": [
      "Model and vectorizer trained and saved.\n"
     ]
    }
   ],
   "source": [
    "# Define input columns and target column\n",
    "input_columns = ['Emotion']\n",
    "target_column = 'TimeLabel'\n",
    "\n",
    "# Concatenate input columns to form the feature set\n",
    "X = df[input_columns].astype(str).apply(lambda row: ' '.join(row), axis=1)\n",
    "y = df[target_column]  # Target variable\n",
    "\n",
    "# Vectorize the text data\n",
    "vectorizer = CountVectorizer()\n",
    "X_vec = vectorizer.fit_transform(X)\n",
    "\n",
    "# Initialize and train the SVM model\n",
    "model = SVC(kernel='linear', random_state=42)\n",
    "model.fit(X_vec, y)\n",
    "\n",
    "# Save the trained model and vectorizer using joblib\n",
    "joblib.dump(model, 'SVMmodelTimeLabelEmotion.joblib')\n",
    "joblib.dump(vectorizer, 'SVMvectorizer1.joblib')\n",
    "\n",
    "print(\"Model and vectorizer trained and saved.\")\n"
   ]
  },
  {
   "cell_type": "code",
   "execution_count": 4,
   "id": "7c789b73-ef6e-4853-8c2e-7dbf291a68a9",
   "metadata": {},
   "outputs": [
    {
     "name": "stdout",
     "output_type": "stream",
     "text": [
      "Model and vectorizer trained and saved.\n"
     ]
    }
   ],
   "source": [
    "# Define input columns and target column\n",
    "input_columns = ['Emotion', 'Priority']\n",
    "target_column = 'TimeLabel'\n",
    "\n",
    "# Concatenate input columns to form the feature set\n",
    "X = df[input_columns].astype(str).apply(lambda row: ' '.join(row), axis=1)\n",
    "y = df[target_column]  # Target variable\n",
    "\n",
    "# Vectorize the text data\n",
    "vectorizer = CountVectorizer()\n",
    "X_vec = vectorizer.fit_transform(X)\n",
    "\n",
    "# Initialize and train the SVM model\n",
    "model = SVC(kernel='linear', random_state=42)\n",
    "model.fit(X_vec, y)\n",
    "\n",
    "# Save the trained model and vectorizer using joblib\n",
    "joblib.dump(model, 'SVMmodelTimeLabelPriorityEmotion.joblib')\n",
    "joblib.dump(vectorizer, 'SVMvectorizer2.joblib')\n",
    "\n",
    "print(\"Model and vectorizer trained and saved.\")"
   ]
  },
  {
   "cell_type": "code",
   "execution_count": 5,
   "id": "757d5433-e5ba-455a-b67c-2a5519f93fc2",
   "metadata": {},
   "outputs": [
    {
     "name": "stdout",
     "output_type": "stream",
     "text": [
      "Model and vectorizer trained and saved.\n"
     ]
    }
   ],
   "source": [
    "# Define input columns and target column\n",
    "input_columns = ['Priority']\n",
    "target_column = 'TimeLabel'\n",
    "\n",
    "# Concatenate input columns to form the feature set\n",
    "X = df[input_columns].astype(str).apply(lambda row: ' '.join(row), axis=1)\n",
    "y = df[target_column]  # Target variable\n",
    "\n",
    "# Vectorize the text data\n",
    "vectorizer = CountVectorizer()\n",
    "X_vec = vectorizer.fit_transform(X)\n",
    "\n",
    "# Initialize and train the SVM model\n",
    "model = SVC(kernel='linear', random_state=42)\n",
    "model.fit(X_vec, y)\n",
    "\n",
    "# Save the trained model and vectorizer using joblib\n",
    "joblib.dump(model, 'SVMmodelTimeLabelPriority.joblib')\n",
    "joblib.dump(vectorizer, 'SVMvectorizer3.joblib')\n",
    "\n",
    "print(\"Model and vectorizer trained and saved.\")"
   ]
  },
  {
   "cell_type": "code",
   "execution_count": 6,
   "id": "cebb0fbb-c325-4e6d-b95b-b110ec9f611b",
   "metadata": {},
   "outputs": [
    {
     "name": "stdout",
     "output_type": "stream",
     "text": [
      "Model and vectorizer trained and saved.\n"
     ]
    }
   ],
   "source": [
    "# Define input columns and target column\n",
    "input_columns = ['Emotion', 'Priority', 'Emotionality']\n",
    "target_column = 'TimeLabel'\n",
    "\n",
    "X = df[input_columns].astype(str).apply(lambda row: ' '.join(row), axis=1)\n",
    "y = df[target_column]  # Target variable\n",
    "\n",
    "# Vectorize the text data\n",
    "vectorizer = CountVectorizer()\n",
    "X_vec = vectorizer.fit_transform(X)\n",
    "\n",
    "# Initialize and train the SVM model\n",
    "model = SVC(kernel='linear', random_state=42)\n",
    "model.fit(X_vec, y)\n",
    "\n",
    "# Save the trained model and vectorizer using joblib\n",
    "joblib.dump(model, 'SVMmodelTimeLabelEmotionPriorityEmotionality.joblib')\n",
    "joblib.dump(vectorizer, 'SVMvectorizer4.joblib')\n",
    "\n",
    "print(\"Model and vectorizer trained and saved.\")"
   ]
  },
  {
   "cell_type": "code",
   "execution_count": 7,
   "id": "dabf0c06-fa22-4e71-9577-e6cfb8ad3215",
   "metadata": {},
   "outputs": [
    {
     "name": "stdout",
     "output_type": "stream",
     "text": [
      "Model and vectorizer trained and saved.\n"
     ]
    }
   ],
   "source": [
    "# Define input columns and target column\n",
    "input_columns = ['Emotionality']\n",
    "target_column = 'TimeLabel'\n",
    "\n",
    "X = df[input_columns].astype(str).apply(lambda row: ' '.join(row), axis=1)\n",
    "y = df[target_column]  # Target variable\n",
    "\n",
    "# Vectorize the text data\n",
    "vectorizer = CountVectorizer()\n",
    "X_vec = vectorizer.fit_transform(X)\n",
    "\n",
    "# Initialize and train the SVM model\n",
    "model = SVC(kernel='linear', random_state=42)\n",
    "model.fit(X_vec, y)\n",
    "\n",
    "# Save the trained model and vectorizer using joblib\n",
    "joblib.dump(model, 'SVMmodelTimeLabelEmotionality.joblib')\n",
    "joblib.dump(vectorizer, 'SVMvectorizer5.joblib')\n",
    "\n",
    "print(\"Model and vectorizer trained and saved.\")"
   ]
  },
  {
   "cell_type": "code",
   "execution_count": null,
   "id": "ff914170-35b5-4b13-8d73-d1e7d272d560",
   "metadata": {},
   "outputs": [],
   "source": []
  }
 ],
 "metadata": {
  "kernelspec": {
   "display_name": "Python 3 (ipykernel)",
   "language": "python",
   "name": "python3"
  },
  "language_info": {
   "codemirror_mode": {
    "name": "ipython",
    "version": 3
   },
   "file_extension": ".py",
   "mimetype": "text/x-python",
   "name": "python",
   "nbconvert_exporter": "python",
   "pygments_lexer": "ipython3",
   "version": "3.11.9"
  }
 },
 "nbformat": 4,
 "nbformat_minor": 5
}

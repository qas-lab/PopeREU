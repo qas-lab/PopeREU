{
 "cells": [
  {
   "cell_type": "code",
   "execution_count": 1,
   "id": "6591fae6-d7fb-419b-9563-ac2ee019a1d5",
   "metadata": {},
   "outputs": [],
   "source": [
    "%%capture\n",
    "import pandas as pd\n",
    "import zipfile\n",
    "!pip install torch\n",
    "from sklearn.feature_extraction.text import CountVectorizer\n",
    "from sklearn.naive_bayes import MultinomialNB\n",
    "from sklearn.model_selection import train_test_split\n",
    "from sklearn.metrics import accuracy_score, classification_report\n",
    "from sklearn.svm import SVC\n",
    "from sklearn.feature_extraction.text import TfidfVectorizer\n",
    "from sklearn.neural_network import MLPClassifier\n",
    "import torch\n",
    "\n",
    "df = pd.read_csv(zipfile.ZipFile('sentiAnalysis.zip').open('sentiAnalysis.csv'))"
   ]
  },
  {
   "cell_type": "code",
   "execution_count": 22,
   "id": "39ffabdb-8b67-48b4-b490-34fef6b7a55d",
   "metadata": {},
   "outputs": [],
   "source": [
    "\n",
    "def MLPmodel(df, input_columns, target_column, test_size=0.25, max_features=1000, hidden_layer_sizes=(64, 32), activation='relu', max_iter=100, random_state=42):\n",
    "    \"\"\"\n",
    "    Train and evaluate a neural network model on the provided DataFrame.\n",
    "    \n",
    "    Parameters:\n",
    "    - df: DataFrame containing the data.\n",
    "    - input_columns: List of column names to be used as input features.\n",
    "    - target_column: Name of the column to be used as the target variable.\n",
    "    - test_size: Proportion of the dataset to include in the test split.\n",
    "    - max_features: Maximum number of features for TF-IDF vectorization.\n",
    "    - hidden_layer_sizes: The ith element represents the number of neurons in the ith hidden layer.\n",
    "    - activation: Activation function for the hidden layer.\n",
    "    - max_iter: Maximum number of iterations for training the neural network.\n",
    "    - random_state: Seed used by the random number generator.\n",
    "    \n",
    "    Returns:\n",
    "    - accuracy: Test accuracy of the trained model.\n",
    "    \"\"\"\n",
    "    # Filter rows if target column is 'Resolution'\n",
    "    if target_column == 'Resolution':\n",
    "        df = df[df[target_column].isin(['INVALID', 'WORKSFORME', 'WONTFIX', 'FIXED'])]\n",
    "\n",
    "    # Fill NaN values with a space\n",
    "    df.fillna(' ', inplace=True)\n",
    "    \n",
    "    # Concatenate input columns to form the feature set\n",
    "    X = df[input_columns].apply(lambda row: ' '.join(row.values.astype(str)), axis=1)\n",
    "    y = df[target_column]  # Target variable\n",
    "\n",
    "    # Split the data\n",
    "    X_train, X_test, y_train, y_test = train_test_split(X, y, test_size=test_size, random_state=random_state)\n",
    "\n",
    "    # Vectorize the text data\n",
    "    vectorizer = TfidfVectorizer(max_features=max_features)\n",
    "    X_train_vec = vectorizer.fit_transform(X_train)\n",
    "    X_test_vec = vectorizer.transform(X_test)\n",
    "\n",
    "    # Initialize and train the MLPClassifier\n",
    "    model = MLPClassifier(hidden_layer_sizes=hidden_layer_sizes, activation=activation, max_iter=max_iter, random_state=random_state)\n",
    "    model.fit(X_train_vec, y_train)\n",
    "\n",
    "    # Make predictions on the test set\n",
    "    y_pred = model.predict(X_test_vec)\n",
    "\n",
    "    # Evaluate the model\n",
    "    accuracy = accuracy_score(y_test, y_pred)\n",
    "    print(\"Test Accuracy:\", accuracy)\n",
    "\n",
    "    return accuracy"
   ]
  },
  {
   "cell_type": "code",
   "execution_count": 23,
   "id": "5c1c0fab-ea9f-420d-a187-93759b58a4bf",
   "metadata": {},
   "outputs": [
    {
     "name": "stderr",
     "output_type": "stream",
     "text": [
      "/tmp/ipykernel_188022/1000455985.py:24: FutureWarning: Setting an item of incompatible dtype is deprecated and will raise an error in a future version of pandas. Value ' ' has dtype incompatible with float64, please explicitly cast to a compatible dtype first.\n",
      "  df.fillna(' ', inplace=True)\n",
      "/tmp/ipykernel_188022/1000455985.py:24: SettingWithCopyWarning: \n",
      "A value is trying to be set on a copy of a slice from a DataFrame\n",
      "\n",
      "See the caveats in the documentation: https://pandas.pydata.org/pandas-docs/stable/user_guide/indexing.html#returning-a-view-versus-a-copy\n",
      "  df.fillna(' ', inplace=True)\n"
     ]
    },
    {
     "name": "stdout",
     "output_type": "stream",
     "text": [
      "Test Accuracy: 0.4957866197699128\n"
     ]
    },
    {
     "data": {
      "text/plain": [
       "0.4957866197699128"
      ]
     },
     "execution_count": 23,
     "metadata": {},
     "output_type": "execute_result"
    }
   ],
   "source": [
    "MLPmodel(df, input_columns=['Component', 'Title', 'Description','emotion','Emotionality','Priority'], target_column='Resolution')"
   ]
  },
  {
   "cell_type": "code",
   "execution_count": 21,
   "id": "d86d7e99-8960-4877-8402-e63f508fad2d",
   "metadata": {},
   "outputs": [],
   "source": [
    "def SVMmodel(df, feature_cols, target_col, test_size=0.2, random_state=42):\n",
    "    # Fill missing values in feature columns\n",
    "    df[feature_cols] = df[feature_cols].fillna(' ')    \n",
    "    if target_col == 'Resolution':\n",
    "        df = df[df[target_col].isin(['INVALID', 'WORKSFORME', 'WONTFIX', 'FIXED'])]\n",
    "    \n",
    "\n",
    "    # Combine feature columns into a single column for vectorization\n",
    "    df['combined'] = df[feature_cols].apply(lambda row: ' '.join(row.values.astype(str)), axis=1)\n",
    "\n",
    "    # Encode the combined text column\n",
    "    vectorizer = CountVectorizer()\n",
    "    X = vectorizer.fit_transform(df['combined'])\n",
    "\n",
    "    # Encode the target column\n",
    "    y = df[target_col]\n",
    "\n",
    "    # Ensure X and y have the same length\n",
    "    assert X.shape[0] == len(y), \"Features and labels have inconsistent lengths.\"\n",
    "\n",
    "    # Split the data into training and testing sets\n",
    "    X_train, X_test, y_train, y_test = train_test_split(X, y, test_size=test_size, random_state=random_state)\n",
    "\n",
    "    # Initialize and train the SVM model\n",
    "    model = SVC()\n",
    "    model.fit(X_train, y_train)\n",
    "    # Make predictions\n",
    "    y_pred = model.predict(X_test)\n",
    "    # Evaluate the model\n",
    "    accuracy = accuracy_score(y_test, y_pred)\n",
    "    report = classification_report(y_test, y_pred)\n",
    "    \n",
    "    print(f'Accuracy: {accuracy}')\n",
    "    print('Classification Report:')\n",
    "    print(report)\n",
    "    \n",
    "    return accuracy, report, model\n",
    "\n"
   ]
  },
  {
   "cell_type": "code",
   "execution_count": 24,
   "id": "0511a52d-2918-4718-b77d-f50b1b7b15ec",
   "metadata": {},
   "outputs": [
    {
     "name": "stderr",
     "output_type": "stream",
     "text": [
      "/tmp/ipykernel_188022/3868803241.py:9: SettingWithCopyWarning: \n",
      "A value is trying to be set on a copy of a slice from a DataFrame.\n",
      "Try using .loc[row_indexer,col_indexer] = value instead\n",
      "\n",
      "See the caveats in the documentation: https://pandas.pydata.org/pandas-docs/stable/user_guide/indexing.html#returning-a-view-versus-a-copy\n",
      "  df['combined'] = df[feature_cols].apply(lambda row: ' '.join(row.values.astype(str)), axis=1)\n"
     ]
    },
    {
     "name": "stdout",
     "output_type": "stream",
     "text": [
      "Accuracy: 0.6116504854368932\n",
      "Classification Report:\n",
      "              precision    recall  f1-score   support\n",
      "\n",
      "       FIXED       0.62      0.98      0.75      6485\n",
      "     INVALID       0.67      0.06      0.11      1195\n",
      "     WONTFIX       0.52      0.14      0.23      1766\n",
      "  WORKSFORME       0.61      0.01      0.02      1472\n",
      "\n",
      "    accuracy                           0.61     10918\n",
      "   macro avg       0.60      0.30      0.28     10918\n",
      "weighted avg       0.61      0.61      0.50     10918\n",
      "\n"
     ]
    },
    {
     "data": {
      "text/plain": [
       "(0.6116504854368932,\n",
       " '              precision    recall  f1-score   support\\n\\n       FIXED       0.62      0.98      0.75      6485\\n     INVALID       0.67      0.06      0.11      1195\\n     WONTFIX       0.52      0.14      0.23      1766\\n  WORKSFORME       0.61      0.01      0.02      1472\\n\\n    accuracy                           0.61     10918\\n   macro avg       0.60      0.30      0.28     10918\\nweighted avg       0.61      0.61      0.50     10918\\n',\n",
       " SVC())"
      ]
     },
     "execution_count": 24,
     "metadata": {},
     "output_type": "execute_result"
    }
   ],
   "source": [
    "SVMmodel(df, feature_cols=['Component', 'Title', 'emotion', 'Priority'], target_col='Resolution')"
   ]
  },
  {
   "cell_type": "code",
   "execution_count": 1,
   "id": "98cb7d11-866d-4184-abff-d030891a7536",
   "metadata": {},
   "outputs": [
    {
     "ename": "NameError",
     "evalue": "name 'df' is not defined",
     "output_type": "error",
     "traceback": [
      "\u001b[0;31m---------------------------------------------------------------------------\u001b[0m",
      "\u001b[0;31mNameError\u001b[0m                                 Traceback (most recent call last)",
      "Cell \u001b[0;32mIn[1], line 1\u001b[0m\n\u001b[0;32m----> 1\u001b[0m df\n",
      "\u001b[0;31mNameError\u001b[0m: name 'df' is not defined"
     ]
    }
   ],
   "source": [
    "df"
   ]
  },
  {
   "cell_type": "code",
   "execution_count": null,
   "id": "6016c0a5-ee36-415f-9651-571da9573580",
   "metadata": {},
   "outputs": [],
   "source": []
  }
 ],
 "metadata": {
  "kernelspec": {
   "display_name": "Python 3 (ipykernel)",
   "language": "python",
   "name": "python3"
  },
  "language_info": {
   "codemirror_mode": {
    "name": "ipython",
    "version": 3
   },
   "file_extension": ".py",
   "mimetype": "text/x-python",
   "name": "python",
   "nbconvert_exporter": "python",
   "pygments_lexer": "ipython3",
   "version": "3.11.9"
  }
 },
 "nbformat": 4,
 "nbformat_minor": 5
}

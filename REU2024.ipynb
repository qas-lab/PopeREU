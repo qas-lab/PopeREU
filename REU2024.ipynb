{
 "cells": [
  {
   "cell_type": "code",
   "execution_count": 15,
   "id": "8cc27b35-0b56-49c2-be7e-08374a780bd7",
   "metadata": {
    "scrolled": true
   },
   "outputs": [],
   "source": [
    "%%capture\n",
    "!pip install pandas\n",
    "!pip install scipy\n",
    "!pip install matplotlib\n",
    "!pip install seaborn\n",
    "!pip install tensorflow\n",
    "import zipfile\n",
    "import os\n",
    "import pandas as pd\n",
    "import numpy as np\n",
    "import scipy.stats as st\n",
    "import matplotlib.pyplot as plt\n",
    "import seaborn as sns\n",
    "import requests\n",
    "import xml.etree.ElementTree as ET\n",
    "import tensorflow as tf"
   ]
  },
  {
   "cell_type": "code",
   "execution_count": 16,
   "id": "125316a5-9981-4115-80b2-f8186a71459e",
   "metadata": {},
   "outputs": [],
   "source": [
    "##accessing a CSV for bug data\n",
    "uploaded_zip = '/home/spope/EclipsePlatform/eclipse_platform.zip'\n",
    "extract_dir = '/home/spope/EclipsePlatform/extracted'\n",
    "if not os.path.exists(extract_dir):\n",
    "    os.makedirs(extract_dir)\n",
    "with zipfile.ZipFile(uploaded_zip, 'r') as zip_ref:\n",
    "    zip_ref.extractall(extract_dir)\n",
    "\n",
    "csv_file = os.path.join(extract_dir, 'eclipse_platform.csv')\n",
    "fulldata = pd.read_csv(csv_file)"
   ]
  },
  {
   "cell_type": "code",
   "execution_count": 17,
   "id": "7cbc8163",
   "metadata": {
    "scrolled": true
   },
   "outputs": [],
   "source": [
    "# Split the data into training and test sets\n",
    "train_size = int(0.8 * len(fulldata))\n",
    "test_size = len(fulldata) - train_size\n",
    "\n",
    "trainset, testset = fulldata[:train_size], fulldata[train_size:]"
   ]
  },
  {
   "cell_type": "code",
   "execution_count": 18,
   "id": "d2a66399",
   "metadata": {},
   "outputs": [],
   "source": [
    "#Creating a dataset to work with without messing up the initial one from the CSV\n",
    "timedata = trainset"
   ]
  },
  {
   "cell_type": "code",
   "execution_count": 19,
   "id": "47dd9b5f",
   "metadata": {
    "scrolled": true
   },
   "outputs": [],
   "source": [
    "# Create a copy of the DataFrame to avoid SettingWithCopyWarning\n",
    "timedata = timedata.copy()\n",
    "\n",
    "# Ensure the 'Created_time' and 'Resolved_time' columns are in a consistent datetime format\n",
    "timedata['Created_time'] = pd.to_datetime(timedata['Created_time'], utc=True)\n",
    "timedata['Resolved_time'] = pd.to_datetime(timedata['Resolved_time'], utc=True)\n",
    "\n",
    "# Convert to the desired format\n",
    "timedata['Created_time2'] = timedata['Created_time'].dt.strftime('%m/%d/%Y %H:%M')\n",
    "timedata['Resolved_time2'] = timedata['Resolved_time'].dt.strftime('%m/%d/%Y %H:%M')\n",
    "\n",
    "# Parse the formatted datetime strings back to datetime objects to ensure they are in the correct format\n",
    "timedata['Created_time2'] = pd.to_datetime(timedata['Created_time2'], format='%m/%d/%Y %H:%M')\n",
    "timedata['Resolved_time2'] = pd.to_datetime(timedata['Resolved_time2'], format='%m/%d/%Y %H:%M')\n",
    "\n",
    "# Calculate the duration in hours\n",
    "timedata['Duration'] = timedata['Resolved_time2'] - timedata['Created_time2']\n",
    "timedata['Duration_hours'] = timedata['Duration'].dt.total_seconds() / 3600\n",
    "\n",
    "# Drop the intermediate columns\n",
    "timedata.drop(['Created_time2', 'Resolved_time2', 'Duration'], axis=1, inplace=True)"
   ]
  },
  {
   "cell_type": "code",
   "execution_count": 20,
   "id": "0f02ed44",
   "metadata": {
    "scrolled": true
   },
   "outputs": [
    {
     "data": {
      "image/png": "[encoded data removed]",
      "text/plain": [
       "<Figure size 800x600 with 1 Axes>"
      ]
     },
     "metadata": {},
     "output_type": "display_data"
    }
   ],
   "source": [
    "# Create a copy of the DataFrame to avoid SettingWithCopyWarning\n",
    "timedata = timedata.copy()\n",
    "\n",
    "# Find the mean duration in hours\n",
    "mean_duration_hours = timedata['Duration_hours'].mean()\n",
    "\n",
    "# Apply labels based on the mean duration\n",
    "timedata.loc[:, 'label'] = timedata['Duration_hours'].apply(lambda x: 'long' if x >= mean_duration_hours else 'short')\n",
    "\n",
    "# Create a pie chart to show percentages of bugs that took a long time to fix and percentages that took a short time to fix\n",
    "label_counts = timedata['label'].value_counts()\n",
    "plt.figure(figsize=(8, 6))\n",
    "plt.pie(label_counts, labels=label_counts.index, autopct='%1.1f%%', startangle=140, colors=['#66b3ff', '#ff9999'])\n",
    "plt.title('Distribution of Duration Labels')\n",
    "plt.show()\n",
    "\n",
    "# Create a CSV that includes the duration\n",
    "timedata.to_csv(\"timedata.csv\", index=False)\n",
    "preprocessing = pd.read_csv('timedata.csv')\n",
    "\n"
   ]
  },
  {
   "cell_type": "code",
   "execution_count": 21,
   "id": "98fc5853-b53b-4b0c-a1bd-959b41f8dcd3",
   "metadata": {},
   "outputs": [],
   "source": [
    "import zipfile\n",
    "import os\n",
    "\n",
    "def zip_csv_file(csv_filename, zip_filename):\n",
    "    \"\"\"\n",
    "    Zip a CSV file.\n",
    "\n",
    "    Parameters:\n",
    "    - csv_filename: Name of the CSV file to zip.\n",
    "    - zip_filename: Name of the output zip file.\n",
    "    \"\"\"\n",
    "    # Create a ZipFile object\n",
    "    with zipfile.ZipFile(zip_filename, 'w', zipfile.ZIP_DEFLATED) as zipf:\n",
    "        # Add the CSV file to the zip file\n",
    "        zipf.write(csv_filename, os.path.basename(csv_filename))\n",
    "\n",
    "zip_csv_file(\"timedata.csv\", \"timedata.zip\")"
   ]
  },
  {
   "cell_type": "code",
   "execution_count": 24,
   "id": "70016526",
   "metadata": {},
   "outputs": [
    {
     "name": "stderr",
     "output_type": "stream",
     "text": [
      "[nltk_data] Downloading collection 'all'\n",
      "[nltk_data]    | \n",
      "[nltk_data]    | Downloading package abc to /home/spope/nltk_data...\n",
      "[nltk_data]    |   Package abc is already up-to-date!\n",
      "[nltk_data]    | Downloading package alpino to\n",
      "[nltk_data]    |     /home/spope/nltk_data...\n",
      "[nltk_data]    |   Package alpino is already up-to-date!\n",
      "[nltk_data]    | Downloading package averaged_perceptron_tagger to\n",
      "[nltk_data]    |     /home/spope/nltk_data...\n",
      "[nltk_data]    |   Package averaged_perceptron_tagger is already up-\n",
      "[nltk_data]    |       to-date!\n",
      "[nltk_data]    | Downloading package averaged_perceptron_tagger_ru to\n",
      "[nltk_data]    |     /home/spope/nltk_data...\n",
      "[nltk_data]    |   Package averaged_perceptron_tagger_ru is already\n",
      "[nltk_data]    |       up-to-date!\n",
      "[nltk_data]    | Downloading package basque_grammars to\n",
      "[nltk_data]    |     /home/spope/nltk_data...\n",
      "[nltk_data]    |   Package basque_grammars is already up-to-date!\n",
      "[nltk_data]    | Downloading package bcp47 to /home/spope/nltk_data...\n",
      "[nltk_data]    |   Package bcp47 is already up-to-date!\n",
      "[nltk_data]    | Downloading package biocreative_ppi to\n",
      "[nltk_data]    |     /home/spope/nltk_data...\n",
      "[nltk_data]    |   Package biocreative_ppi is already up-to-date!\n",
      "[nltk_data]    | Downloading package bllip_wsj_no_aux to\n",
      "[nltk_data]    |     /home/spope/nltk_data...\n",
      "[nltk_data]    |   Package bllip_wsj_no_aux is already up-to-date!\n",
      "[nltk_data]    | Downloading package book_grammars to\n",
      "[nltk_data]    |     /home/spope/nltk_data...\n",
      "[nltk_data]    |   Package book_grammars is already up-to-date!\n",
      "[nltk_data]    | Downloading package brown to /home/spope/nltk_data...\n",
      "[nltk_data]    |   Package brown is already up-to-date!\n",
      "[nltk_data]    | Downloading package brown_tei to\n",
      "[nltk_data]    |     /home/spope/nltk_data...\n",
      "[nltk_data]    |   Package brown_tei is already up-to-date!\n",
      "[nltk_data]    | Downloading package cess_cat to\n",
      "[nltk_data]    |     /home/spope/nltk_data...\n",
      "[nltk_data]    |   Package cess_cat is already up-to-date!\n",
      "[nltk_data]    | Downloading package cess_esp to\n",
      "[nltk_data]    |     /home/spope/nltk_data...\n",
      "[nltk_data]    |   Package cess_esp is already up-to-date!\n",
      "[nltk_data]    | Downloading package chat80 to\n",
      "[nltk_data]    |     /home/spope/nltk_data...\n",
      "[nltk_data]    |   Package chat80 is already up-to-date!\n",
      "[nltk_data]    | Downloading package city_database to\n",
      "[nltk_data]    |     /home/spope/nltk_data...\n",
      "[nltk_data]    |   Package city_database is already up-to-date!\n",
      "[nltk_data]    | Downloading package cmudict to\n",
      "[nltk_data]    |     /home/spope/nltk_data...\n",
      "[nltk_data]    |   Package cmudict is already up-to-date!\n",
      "[nltk_data]    | Downloading package comparative_sentences to\n",
      "[nltk_data]    |     /home/spope/nltk_data...\n",
      "[nltk_data]    |   Package comparative_sentences is already up-to-\n",
      "[nltk_data]    |       date!\n",
      "[nltk_data]    | Downloading package comtrans to\n",
      "[nltk_data]    |     /home/spope/nltk_data...\n",
      "[nltk_data]    |   Package comtrans is already up-to-date!\n",
      "[nltk_data]    | Downloading package conll2000 to\n",
      "[nltk_data]    |     /home/spope/nltk_data...\n",
      "[nltk_data]    |   Package conll2000 is already up-to-date!\n",
      "[nltk_data]    | Downloading package conll2002 to\n",
      "[nltk_data]    |     /home/spope/nltk_data...\n",
      "[nltk_data]    |   Package conll2002 is already up-to-date!\n",
      "[nltk_data]    | Downloading package conll2007 to\n",
      "[nltk_data]    |     /home/spope/nltk_data...\n",
      "[nltk_data]    |   Package conll2007 is already up-to-date!\n",
      "[nltk_data]    | Downloading package crubadan to\n",
      "[nltk_data]    |     /home/spope/nltk_data...\n",
      "[nltk_data]    |   Package crubadan is already up-to-date!\n",
      "[nltk_data]    | Downloading package dependency_treebank to\n",
      "[nltk_data]    |     /home/spope/nltk_data...\n",
      "[nltk_data]    |   Package dependency_treebank is already up-to-date!\n",
      "[nltk_data]    | Downloading package dolch to /home/spope/nltk_data...\n",
      "[nltk_data]    |   Package dolch is already up-to-date!\n",
      "[nltk_data]    | Downloading package europarl_raw to\n",
      "[nltk_data]    |     /home/spope/nltk_data...\n",
      "[nltk_data]    |   Package europarl_raw is already up-to-date!\n",
      "[nltk_data]    | Downloading package extended_omw to\n",
      "[nltk_data]    |     /home/spope/nltk_data...\n",
      "[nltk_data]    |   Package extended_omw is already up-to-date!\n",
      "[nltk_data]    | Downloading package floresta to\n",
      "[nltk_data]    |     /home/spope/nltk_data...\n",
      "[nltk_data]    |   Package floresta is already up-to-date!\n",
      "[nltk_data]    | Downloading package framenet_v15 to\n",
      "[nltk_data]    |     /home/spope/nltk_data...\n",
      "[nltk_data]    |   Package framenet_v15 is already up-to-date!\n",
      "[nltk_data]    | Downloading package framenet_v17 to\n",
      "[nltk_data]    |     /home/spope/nltk_data...\n",
      "[nltk_data]    |   Package framenet_v17 is already up-to-date!\n",
      "[nltk_data]    | Downloading package gazetteers to\n",
      "[nltk_data]    |     /home/spope/nltk_data...\n",
      "[nltk_data]    |   Package gazetteers is already up-to-date!\n",
      "[nltk_data]    | Downloading package genesis to\n",
      "[nltk_data]    |     /home/spope/nltk_data...\n",
      "[nltk_data]    |   Package genesis is already up-to-date!\n",
      "[nltk_data]    | Downloading package gutenberg to\n",
      "[nltk_data]    |     /home/spope/nltk_data...\n",
      "[nltk_data]    |   Package gutenberg is already up-to-date!\n",
      "[nltk_data]    | Downloading package ieer to /home/spope/nltk_data...\n",
      "[nltk_data]    |   Package ieer is already up-to-date!\n",
      "[nltk_data]    | Downloading package inaugural to\n",
      "[nltk_data]    |     /home/spope/nltk_data...\n",
      "[nltk_data]    |   Package inaugural is already up-to-date!\n",
      "[nltk_data]    | Downloading package indian to\n",
      "[nltk_data]    |     /home/spope/nltk_data...\n",
      "[nltk_data]    |   Package indian is already up-to-date!\n",
      "[nltk_data]    | Downloading package jeita to /home/spope/nltk_data...\n",
      "[nltk_data]    |   Package jeita is already up-to-date!\n",
      "[nltk_data]    | Downloading package kimmo to /home/spope/nltk_data...\n",
      "[nltk_data]    |   Package kimmo is already up-to-date!\n",
      "[nltk_data]    | Downloading package knbc to /home/spope/nltk_data...\n",
      "[nltk_data]    |   Package knbc is already up-to-date!\n",
      "[nltk_data]    | Downloading package large_grammars to\n",
      "[nltk_data]    |     /home/spope/nltk_data...\n",
      "[nltk_data]    |   Package large_grammars is already up-to-date!\n",
      "[nltk_data]    | Downloading package lin_thesaurus to\n",
      "[nltk_data]    |     /home/spope/nltk_data...\n",
      "[nltk_data]    |   Package lin_thesaurus is already up-to-date!\n",
      "[nltk_data]    | Downloading package mac_morpho to\n",
      "[nltk_data]    |     /home/spope/nltk_data...\n",
      "[nltk_data]    |   Package mac_morpho is already up-to-date!\n",
      "[nltk_data]    | Downloading package machado to\n",
      "[nltk_data]    |     /home/spope/nltk_data...\n",
      "[nltk_data]    |   Package machado is already up-to-date!\n",
      "[nltk_data]    | Downloading package masc_tagged to\n",
      "[nltk_data]    |     /home/spope/nltk_data...\n",
      "[nltk_data]    |   Package masc_tagged is already up-to-date!\n",
      "[nltk_data]    | Downloading package maxent_ne_chunker to\n",
      "[nltk_data]    |     /home/spope/nltk_data...\n",
      "[nltk_data]    |   Package maxent_ne_chunker is already up-to-date!\n",
      "[nltk_data]    | Downloading package maxent_treebank_pos_tagger to\n",
      "[nltk_data]    |     /home/spope/nltk_data...\n",
      "[nltk_data]    |   Package maxent_treebank_pos_tagger is already up-\n",
      "[nltk_data]    |       to-date!\n",
      "[nltk_data]    | Downloading package moses_sample to\n",
      "[nltk_data]    |     /home/spope/nltk_data...\n",
      "[nltk_data]    |   Package moses_sample is already up-to-date!\n",
      "[nltk_data]    | Downloading package movie_reviews to\n",
      "[nltk_data]    |     /home/spope/nltk_data...\n",
      "[nltk_data]    |   Package movie_reviews is already up-to-date!\n",
      "[nltk_data]    | Downloading package mte_teip5 to\n",
      "[nltk_data]    |     /home/spope/nltk_data...\n",
      "[nltk_data]    |   Package mte_teip5 is already up-to-date!\n",
      "[nltk_data]    | Downloading package mwa_ppdb to\n",
      "[nltk_data]    |     /home/spope/nltk_data...\n",
      "[nltk_data]    |   Package mwa_ppdb is already up-to-date!\n",
      "[nltk_data]    | Downloading package names to /home/spope/nltk_data...\n",
      "[nltk_data]    |   Package names is already up-to-date!\n",
      "[nltk_data]    | Downloading package nombank.1.0 to\n",
      "[nltk_data]    |     /home/spope/nltk_data...\n",
      "[nltk_data]    |   Package nombank.1.0 is already up-to-date!\n",
      "[nltk_data]    | Downloading package nonbreaking_prefixes to\n",
      "[nltk_data]    |     /home/spope/nltk_data...\n",
      "[nltk_data]    |   Package nonbreaking_prefixes is already up-to-date!\n",
      "[nltk_data]    | Downloading package nps_chat to\n",
      "[nltk_data]    |     /home/spope/nltk_data...\n",
      "[nltk_data]    |   Package nps_chat is already up-to-date!\n",
      "[nltk_data]    | Downloading package omw to /home/spope/nltk_data...\n",
      "[nltk_data]    |   Package omw is already up-to-date!\n",
      "[nltk_data]    | Downloading package omw-1.4 to\n",
      "[nltk_data]    |     /home/spope/nltk_data...\n",
      "[nltk_data]    |   Package omw-1.4 is already up-to-date!\n",
      "[nltk_data]    | Downloading package opinion_lexicon to\n",
      "[nltk_data]    |     /home/spope/nltk_data...\n",
      "[nltk_data]    |   Package opinion_lexicon is already up-to-date!\n",
      "[nltk_data]    | Downloading package panlex_swadesh to\n",
      "[nltk_data]    |     /home/spope/nltk_data...\n",
      "[nltk_data]    |   Package panlex_swadesh is already up-to-date!\n",
      "[nltk_data]    | Downloading package paradigms to\n",
      "[nltk_data]    |     /home/spope/nltk_data...\n",
      "[nltk_data]    |   Package paradigms is already up-to-date!\n",
      "[nltk_data]    | Downloading package pe08 to /home/spope/nltk_data...\n",
      "[nltk_data]    |   Package pe08 is already up-to-date!\n",
      "[nltk_data]    | Downloading package perluniprops to\n",
      "[nltk_data]    |     /home/spope/nltk_data...\n",
      "[nltk_data]    |   Package perluniprops is already up-to-date!\n",
      "[nltk_data]    | Downloading package pil to /home/spope/nltk_data...\n",
      "[nltk_data]    |   Package pil is already up-to-date!\n",
      "[nltk_data]    | Downloading package pl196x to\n",
      "[nltk_data]    |     /home/spope/nltk_data...\n",
      "[nltk_data]    |   Package pl196x is already up-to-date!\n",
      "[nltk_data]    | Downloading package porter_test to\n",
      "[nltk_data]    |     /home/spope/nltk_data...\n",
      "[nltk_data]    |   Package porter_test is already up-to-date!\n",
      "[nltk_data]    | Downloading package ppattach to\n",
      "[nltk_data]    |     /home/spope/nltk_data...\n",
      "[nltk_data]    |   Package ppattach is already up-to-date!\n",
      "[nltk_data]    | Downloading package problem_reports to\n",
      "[nltk_data]    |     /home/spope/nltk_data...\n",
      "[nltk_data]    |   Package problem_reports is already up-to-date!\n",
      "[nltk_data]    | Downloading package product_reviews_1 to\n",
      "[nltk_data]    |     /home/spope/nltk_data...\n",
      "[nltk_data]    |   Package product_reviews_1 is already up-to-date!\n",
      "[nltk_data]    | Downloading package product_reviews_2 to\n",
      "[nltk_data]    |     /home/spope/nltk_data...\n",
      "[nltk_data]    |   Package product_reviews_2 is already up-to-date!\n",
      "[nltk_data]    | Downloading package propbank to\n",
      "[nltk_data]    |     /home/spope/nltk_data...\n",
      "[nltk_data]    |   Package propbank is already up-to-date!\n",
      "[nltk_data]    | Downloading package pros_cons to\n",
      "[nltk_data]    |     /home/spope/nltk_data...\n",
      "[nltk_data]    |   Package pros_cons is already up-to-date!\n",
      "[nltk_data]    | Downloading package ptb to /home/spope/nltk_data...\n",
      "[nltk_data]    |   Package ptb is already up-to-date!\n",
      "[nltk_data]    | Downloading package punkt to /home/spope/nltk_data...\n",
      "[nltk_data]    |   Package punkt is already up-to-date!\n",
      "[nltk_data]    | Downloading package qc to /home/spope/nltk_data...\n",
      "[nltk_data]    |   Package qc is already up-to-date!\n",
      "[nltk_data]    | Downloading package reuters to\n",
      "[nltk_data]    |     /home/spope/nltk_data...\n",
      "[nltk_data]    |   Package reuters is already up-to-date!\n",
      "[nltk_data]    | Downloading package rslp to /home/spope/nltk_data...\n",
      "[nltk_data]    |   Package rslp is already up-to-date!\n",
      "[nltk_data]    | Downloading package rte to /home/spope/nltk_data...\n",
      "[nltk_data]    |   Package rte is already up-to-date!\n",
      "[nltk_data]    | Downloading package sample_grammars to\n",
      "[nltk_data]    |     /home/spope/nltk_data...\n",
      "[nltk_data]    |   Package sample_grammars is already up-to-date!\n",
      "[nltk_data]    | Downloading package semcor to\n",
      "[nltk_data]    |     /home/spope/nltk_data...\n",
      "[nltk_data]    |   Package semcor is already up-to-date!\n",
      "[nltk_data]    | Downloading package senseval to\n",
      "[nltk_data]    |     /home/spope/nltk_data...\n",
      "[nltk_data]    |   Package senseval is already up-to-date!\n",
      "[nltk_data]    | Downloading package sentence_polarity to\n",
      "[nltk_data]    |     /home/spope/nltk_data...\n",
      "[nltk_data]    |   Package sentence_polarity is already up-to-date!\n",
      "[nltk_data]    | Downloading package sentiwordnet to\n",
      "[nltk_data]    |     /home/spope/nltk_data...\n",
      "[nltk_data]    |   Package sentiwordnet is already up-to-date!\n",
      "[nltk_data]    | Downloading package shakespeare to\n",
      "[nltk_data]    |     /home/spope/nltk_data...\n",
      "[nltk_data]    |   Package shakespeare is already up-to-date!\n",
      "[nltk_data]    | Downloading package sinica_treebank to\n",
      "[nltk_data]    |     /home/spope/nltk_data...\n",
      "[nltk_data]    |   Package sinica_treebank is already up-to-date!\n",
      "[nltk_data]    | Downloading package smultron to\n",
      "[nltk_data]    |     /home/spope/nltk_data...\n",
      "[nltk_data]    |   Package smultron is already up-to-date!\n",
      "[nltk_data]    | Downloading package snowball_data to\n",
      "[nltk_data]    |     /home/spope/nltk_data...\n",
      "[nltk_data]    |   Package snowball_data is already up-to-date!\n",
      "[nltk_data]    | Downloading package spanish_grammars to\n",
      "[nltk_data]    |     /home/spope/nltk_data...\n",
      "[nltk_data]    |   Package spanish_grammars is already up-to-date!\n",
      "[nltk_data]    | Downloading package state_union to\n",
      "[nltk_data]    |     /home/spope/nltk_data...\n",
      "[nltk_data]    |   Package state_union is already up-to-date!\n",
      "[nltk_data]    | Downloading package stopwords to\n",
      "[nltk_data]    |     /home/spope/nltk_data...\n",
      "[nltk_data]    |   Package stopwords is already up-to-date!\n",
      "[nltk_data]    | Downloading package subjectivity to\n",
      "[nltk_data]    |     /home/spope/nltk_data...\n",
      "[nltk_data]    |   Package subjectivity is already up-to-date!\n",
      "[nltk_data]    | Downloading package swadesh to\n",
      "[nltk_data]    |     /home/spope/nltk_data...\n",
      "[nltk_data]    |   Package swadesh is already up-to-date!\n",
      "[nltk_data]    | Downloading package switchboard to\n",
      "[nltk_data]    |     /home/spope/nltk_data...\n",
      "[nltk_data]    |   Package switchboard is already up-to-date!\n",
      "[nltk_data]    | Downloading package tagsets to\n",
      "[nltk_data]    |     /home/spope/nltk_data...\n",
      "[nltk_data]    |   Package tagsets is already up-to-date!\n",
      "[nltk_data]    | Downloading package timit to /home/spope/nltk_data...\n",
      "[nltk_data]    |   Package timit is already up-to-date!\n",
      "[nltk_data]    | Downloading package toolbox to\n",
      "[nltk_data]    |     /home/spope/nltk_data...\n",
      "[nltk_data]    |   Package toolbox is already up-to-date!\n",
      "[nltk_data]    | Downloading package treebank to\n",
      "[nltk_data]    |     /home/spope/nltk_data...\n",
      "[nltk_data]    |   Package treebank is already up-to-date!\n",
      "[nltk_data]    | Downloading package twitter_samples to\n",
      "[nltk_data]    |     /home/spope/nltk_data...\n",
      "[nltk_data]    |   Package twitter_samples is already up-to-date!\n",
      "[nltk_data]    | Downloading package udhr to /home/spope/nltk_data...\n",
      "[nltk_data]    |   Package udhr is already up-to-date!\n",
      "[nltk_data]    | Downloading package udhr2 to /home/spope/nltk_data...\n",
      "[nltk_data]    |   Package udhr2 is already up-to-date!\n",
      "[nltk_data]    | Downloading package unicode_samples to\n",
      "[nltk_data]    |     /home/spope/nltk_data...\n",
      "[nltk_data]    |   Package unicode_samples is already up-to-date!\n",
      "[nltk_data]    | Downloading package universal_tagset to\n",
      "[nltk_data]    |     /home/spope/nltk_data...\n",
      "[nltk_data]    |   Package universal_tagset is already up-to-date!\n",
      "[nltk_data]    | Downloading package universal_treebanks_v20 to\n",
      "[nltk_data]    |     /home/spope/nltk_data...\n",
      "[nltk_data]    |   Package universal_treebanks_v20 is already up-to-\n",
      "[nltk_data]    |       date!\n",
      "[nltk_data]    | Downloading package vader_lexicon to\n",
      "[nltk_data]    |     /home/spope/nltk_data...\n",
      "[nltk_data]    |   Package vader_lexicon is already up-to-date!\n",
      "[nltk_data]    | Downloading package verbnet to\n",
      "[nltk_data]    |     /home/spope/nltk_data...\n",
      "[nltk_data]    |   Package verbnet is already up-to-date!\n",
      "[nltk_data]    | Downloading package verbnet3 to\n",
      "[nltk_data]    |     /home/spope/nltk_data...\n",
      "[nltk_data]    |   Package verbnet3 is already up-to-date!\n",
      "[nltk_data]    | Downloading package webtext to\n",
      "[nltk_data]    |     /home/spope/nltk_data...\n",
      "[nltk_data]    |   Package webtext is already up-to-date!\n",
      "[nltk_data]    | Downloading package wmt15_eval to\n",
      "[nltk_data]    |     /home/spope/nltk_data...\n",
      "[nltk_data]    |   Package wmt15_eval is already up-to-date!\n",
      "[nltk_data]    | Downloading package word2vec_sample to\n",
      "[nltk_data]    |     /home/spope/nltk_data...\n",
      "[nltk_data]    |   Package word2vec_sample is already up-to-date!\n",
      "[nltk_data]    | Downloading package wordnet to\n",
      "[nltk_data]    |     /home/spope/nltk_data...\n",
      "[nltk_data]    |   Package wordnet is already up-to-date!\n",
      "[nltk_data]    | Downloading package wordnet2021 to\n",
      "[nltk_data]    |     /home/spope/nltk_data...\n",
      "[nltk_data]    |   Package wordnet2021 is already up-to-date!\n",
      "[nltk_data]    | Downloading package wordnet2022 to\n",
      "[nltk_data]    |     /home/spope/nltk_data...\n",
      "[nltk_data]    |   Package wordnet2022 is already up-to-date!\n",
      "[nltk_data]    | Downloading package wordnet31 to\n",
      "[nltk_data]    |     /home/spope/nltk_data...\n",
      "[nltk_data]    |   Package wordnet31 is already up-to-date!\n",
      "[nltk_data]    | Downloading package wordnet_ic to\n",
      "[nltk_data]    |     /home/spope/nltk_data...\n",
      "[nltk_data]    |   Package wordnet_ic is already up-to-date!\n",
      "[nltk_data]    | Downloading package words to /home/spope/nltk_data...\n",
      "[nltk_data]    |   Package words is already up-to-date!\n",
      "[nltk_data]    | Downloading package ycoe to /home/spope/nltk_data...\n",
      "[nltk_data]    |   Package ycoe is already up-to-date!\n",
      "[nltk_data]    | \n",
      "[nltk_data]  Done downloading collection all\n",
      "[nltk_data] Downloading package punkt to /home/spope/nltk_data...\n",
      "[nltk_data]   Package punkt is already up-to-date!\n",
      "[nltk_data] Downloading package averaged_perceptron_tagger to\n",
      "[nltk_data]     /home/spope/nltk_data...\n",
      "[nltk_data]   Package averaged_perceptron_tagger is already up-to-\n",
      "[nltk_data]       date!\n"
     ]
    }
   ],
   "source": [
    "%%capture\n",
    "## imports for preprocessing\n",
    "!pip install -U scikit-learn\n",
    "!pip install nltk\n",
    "import nltk\n",
    "from nltk.sentiment.vader import SentimentIntensityAnalyzer\n",
    "from nltk.corpus import stopwords\n",
    "from nltk.tokenize import word_tokenize\n",
    "from nltk.stem import WordNetLemmatizer\n",
    "nltk.download('all')\n",
    "nltk.download('punkt')\n",
    "nltk.download('averaged_perceptron_tagger')"
   ]
  },
  {
   "cell_type": "code",
   "execution_count": 25,
   "id": "0fd22c55-34be-4f47-bc95-713da5cd45f6",
   "metadata": {},
   "outputs": [],
   "source": [
    "##removing stopwords\n",
    "\n",
    "#making all the items in the descriptions columns lower\n",
    "preprocessing['Description'] = preprocessing['Description'].str.lower()\n",
    "\n",
    "# Define stop words\n",
    "stop_words = set(stopwords.words('english'))\n",
    "\n",
    "# Remove stop words from each description\n",
    "for i in range(len(preprocessing)):\n",
    "    words = preprocessing.loc[i, 'Description'].split()\n",
    "    final_tokens = [word for word in words if word not in stop_words]\n",
    "    preprocessing.at[i, 'Description'] = ' '.join(final_tokens)"
   ]
  },
  {
   "cell_type": "code",
   "execution_count": 26,
   "id": "c4dd75f0-c0a0-47a6-bc5b-6610f191ed4c",
   "metadata": {},
   "outputs": [
    {
     "name": "stdout",
     "output_type": "stream",
     "text": [
      "The number of tokens is 9129643\n",
      "The number of unique tokens are 411003\n",
      "The number of total tokens after removing stopwords are 8956911\n"
     ]
    }
   ],
   "source": [
    "##checking to see if stop words were removed by counting the amount of them in the columns\n",
    "\n",
    "# Ensure 'Description' column is string type\n",
    "preprocessing['Description'] = preprocessing['Description'].astype(str)\n",
    "\n",
    "# Join all descriptions into a single string\n",
    "all_descriptions = ' '.join(preprocessing['Description'].tolist())\n",
    "\n",
    "# Tokenize the combined descriptions\n",
    "words = nltk.word_tokenize(all_descriptions)\n",
    "print(\"The number of tokens is\", len(words))\n",
    "\n",
    "# Split descriptions into sentences (assuming sentences are separated by full stops)\n",
    "sents = nltk.sent_tokenize(all_descriptions)\n",
    "\n",
    "# Calculate number of unique tokens\n",
    "unique_tokens = set(words)\n",
    "print(\"The number of unique tokens are\", len(unique_tokens))\n",
    "\n",
    "# Remove stopwords\n",
    "stop_words = set(stopwords.words('english'))\n",
    "final_tokens = [word for word in words if word.lower() not in stop_words]\n",
    "print(\"The number of total tokens after removing stopwords are\", len(final_tokens))\n"
   ]
  },
  {
   "cell_type": "code",
   "execution_count": 27,
   "id": "6e741d7f-25d4-404f-958e-266dac5ba151",
   "metadata": {
    "scrolled": true
   },
   "outputs": [
    {
     "data": {
      "text/plain": [
       "20425"
      ]
     },
     "execution_count": 27,
     "metadata": {},
     "output_type": "execute_result"
    }
   ],
   "source": [
    "## also checking to see if stop words were removed by counting the rows that include the word the\n",
    "\n",
    "processed_df = preprocessing\n",
    "\n",
    "# Convert 'description' column to string type\n",
    "processed_df['Description'] = processed_df['Description'].astype(str)\n",
    "\n",
    "keyword = 'the'\n",
    "found_rows = processed_df['Description'].str.contains(keyword, case=False)\n",
    "matching_rows = processed_df[found_rows]\n",
    "len(matching_rows)"
   ]
  },
  {
   "cell_type": "code",
   "execution_count": 28,
   "id": "93d35899-f2b2-4531-82c0-3e8d0f701f38",
   "metadata": {},
   "outputs": [],
   "source": [
    "##lemmatizing the descriptions\n",
    "\n",
    "preprocessing = pd.DataFrame(preprocessing)\n",
    "\n",
    "# Initialize the WordNet Lemmatizer\n",
    "lemmatizer = WordNetLemmatizer()\n",
    "\n",
    "# Function to lemmatize a sentence\n",
    "def lemmatize_sentence(sentence):\n",
    "    words = nltk.word_tokenize(sentence)\n",
    "    lemmatized_words = [lemmatizer.lemmatize(word, pos='v') for word in words]  # Lemmatize verbs (default)\n",
    "    return ' '.join(lemmatized_words)\n",
    "\n",
    "# Apply lemmatization to each row in the 'descriptions' column\n",
    "preprocessing['Description'] = preprocessing['Description'].apply(lemmatize_sentence)"
   ]
  },
  {
   "cell_type": "code",
   "execution_count": 30,
   "id": "8f3c8252-b11f-4b2d-935f-94c0214eccb4",
   "metadata": {
    "scrolled": true
   },
   "outputs": [],
   "source": [
    "%%capture\n",
    "##performing sentiment analysis on the description column\n",
    "\n",
    "sentiAnalysis = preprocessing\n",
    "from nltk.corpus import sentiwordnet as swn\n",
    "from nltk.corpus import wordnet as wn\n",
    "from nltk.tokenize import word_tokenize\n",
    "from nltk.tag import pos_tag\n",
    "\n",
    "def get_wordnet_pos(treebank_tag):\n",
    "    if treebank_tag.startswith('J'):\n",
    "        return wn.ADJ\n",
    "    elif treebank_tag.startswith('V'):\n",
    "        return wn.VERB\n",
    "    elif treebank_tag.startswith('N'):\n",
    "        return wn.NOUN\n",
    "    elif treebank_tag.startswith('R'):\n",
    "        return wn.ADV\n",
    "    else:\n",
    "        return None\n",
    "\n",
    "# Function to calculate sentiment scores\n",
    "def calculate_sentiment_scores(description):\n",
    "    tokens = word_tokenize(description)\n",
    "    tagged_tokens = pos_tag(tokens)\n",
    "    \n",
    "    pos_score = 0\n",
    "    neg_score = 0\n",
    "    token_count = 0\n",
    "    \n",
    "    for word, tag in tagged_tokens:\n",
    "        wn_tag = get_wordnet_pos(tag)\n",
    "        if wn_tag not in (wn.NOUN, wn.ADJ, wn.ADV):\n",
    "            continue\n",
    "        \n",
    "        synsets = list(swn.senti_synsets(word, wn_tag))\n",
    "        if not synsets:\n",
    "            continue\n",
    "        \n",
    "        # Use the first synset for simplicity\n",
    "        synset = synsets[0]\n",
    "        pos_score += synset.pos_score()\n",
    "        neg_score += synset.neg_score()\n",
    "        token_count += 1\n",
    "    \n",
    "    # Normalize scores by the number of tokens\n",
    "    if token_count > 0:\n",
    "        pos_score /= token_count\n",
    "        neg_score /= token_count\n",
    "    \n",
    "    return pos_score, neg_score\n",
    "\n",
    "# Apply sentiment score calculation to each description\n",
    "sentiAnalysis[['Pos_Score', 'Neg_Score']] = sentiAnalysis['Description'].apply(lambda x: pd.Series(calculate_sentiment_scores(x)))\n",
    "\n",
    "# Display the DataFrame with the new columns\n",
    "sentiAnalysis"
   ]
  },
  {
   "cell_type": "code",
   "execution_count": 32,
   "id": "ca7ae2d3-0128-48cc-bbd5-35b865783856",
   "metadata": {},
   "outputs": [],
   "source": [
    "\n",
    "##Creating a column for binary emotion (positive or negative)\n",
    "sentiAnalysis['emotion'] = sentiAnalysis['Pos_Score'] - sentiAnalysis['Neg_Score']\n",
    "\n",
    "# Assign labels based on the difference\n",
    "sentiAnalysis['emotion'] = sentiAnalysis['emotion'].apply(lambda x: 'positive' if x > 0 else 'negative')"
   ]
  },
  {
   "cell_type": "code",
   "execution_count": 33,
   "id": "55555872-69c6-40d6-aa38-d23a472ce022",
   "metadata": {},
   "outputs": [],
   "source": [
    "##Creating a column for total emotionality (positive + negative)\n",
    "sentiAnalysis['Emotionality'] = sentiAnalysis['Pos_Score']+ sentiAnalysis['Neg_Score']"
   ]
  },
  {
   "cell_type": "code",
   "execution_count": 34,
   "id": "aec083e4-eef8-405a-8262-692f103dd31b",
   "metadata": {},
   "outputs": [],
   "source": [
    "##saving to a CSV\n",
    "sentiAnalysis.to_csv(\"sentiAnalysis.csv\", index=False)\n",
    "DFsentiAnalysis = pd.read_csv('sentiAnalysis.csv')\n",
    "zip_csv_file(\"sentiAnalysis.csv\", \"sentiAnalysis.zip\")"
   ]
  },
  {
   "cell_type": "code",
   "execution_count": null,
   "id": "607c3e24-0250-431a-a190-cebecb493cbc",
   "metadata": {
    "scrolled": true
   },
   "outputs": [],
   "source": [
    "##installing stuff for word vectorization \n",
    "%%capture\n",
    "!pip install gensim pandas\n",
    "import gensim\n",
    "from gensim.utils import simple_preprocess\n",
    "from gensim.models import Word2Vec"
   ]
  },
  {
   "cell_type": "code",
   "execution_count": null,
   "id": "5c5fff0a-3afa-4576-afe6-ec834ada9d31",
   "metadata": {},
   "outputs": [],
   "source": [
    "##Vectorizing the descriptions\n",
    "nltk.download('stopwords')\n",
    "stop_words = set(stopwords.words('english'))\n",
    "\n",
    "DFsentiAnalysis['tokenized_descriptions'] = DFsentiAnalysis['Description'].astype(str).fillna('')\n",
    "model = Word2Vec(sentences=DFsentiAnalysis['tokenized_descriptions'], vector_size=100, window=5, min_count=1, workers=4)\n",
    "\n",
    "model.save(\"word2vec.model\")\n",
    "\n",
    "# Example of using the model to find similar words\n",
    "similar_words = model.wv.most_similar('annoying')\n",
    "print(similar_words)"
   ]
  },
  {
   "cell_type": "code",
   "execution_count": null,
   "id": "7bdb9530-9efd-4c79-8bf6-64e2c174a293",
   "metadata": {},
   "outputs": [],
   "source": [
    "##creating a coumn for the encoded labels of the vectors\n",
    "max_length = max(DFsentiAnalysis['vectorized_descriptions'].apply(len))\n",
    "X = pad_sequences(DFsentiAnalysis['vectorized_descriptions'], maxlen=max_length, dtype='float32', padding='post', value=0.0)\n",
    "from sklearn.preprocessing import LabelEncoder\n",
    "\n",
    "# Encode the labels\n",
    "label_encoder = LabelEncoder()\n",
    "DFsentiAnalysis['encoded_label'] = label_encoder.fit_transform(DFsentiAnalysis['label'])\n",
    "\n",
    "# Prepare the labels\n",
    "y = DFsentiAnalysis['encoded_label'].values"
   ]
  },
  {
   "cell_type": "code",
   "execution_count": null,
   "id": "d53ae3be-6b18-4e45-98f8-08952a41cacf",
   "metadata": {},
   "outputs": [],
   "source": [
    "##Importing for the MLP model\n",
    "from sklearn.model_selection import train_test_split\n",
    "from sklearn.feature_extraction.text import TfidfVectorizer\n",
    "from sklearn.neural_network import MLPClassifier\n",
    "from sklearn.metrics import accuracy_score"
   ]
  },
  {
   "cell_type": "code",
   "execution_count": 170,
   "id": "e6f0006f-3c56-4e03-8159-c5aecf502b72",
   "metadata": {},
   "outputs": [],
   "source": [
    "##creating a column for column for if a bug is fixed or not fixed\n",
    "def categorize_label(label):\n",
    "    if 'FIXED' in label.upper():  # Convert to uppercase and check for 'FIXED'\n",
    "        return 'FIXED'\n",
    "    else:\n",
    "        return 'NOTFIXED'\n",
    "\n",
    "# Apply the function to create 'eventual_label' column\n",
    "DFsentiAnalysis['eventual'] = DFsentiAnalysis['Resolution'].apply(categorize_label)\n",
    "df2=DFsentiAnalysis"
   ]
  },
  {
   "cell_type": "code",
   "execution_count": 171,
   "id": "ba914df5-7e66-4dbc-8828-8ffb469da61e",
   "metadata": {},
   "outputs": [],
   "source": [
    "##Function for the MLP\n",
    "def train_and_evaluate_model(df, input_columns, target_column, test_size=0.25, max_features=1000, hidden_layer_sizes=(64, 32), activation='relu', max_iter=100, random_state=42):\n",
    "    \"\"\"\n",
    "    Train and evaluate a neural network model on the provided DataFrame.\n",
    "    \n",
    "    Parameters:\n",
    "    - df: DataFrame containing the data.\n",
    "    - input_columns: List of column names to be used as input features.\n",
    "    - target_column: Name of the column to be used as the target variable.\n",
    "    - test_size: Proportion of the dataset to include in the test split.\n",
    "    - max_features: Maximum number of features for TF-IDF vectorization.\n",
    "    - hidden_layer_sizes: The ith element represents the number of neurons in the ith hidden layer.\n",
    "    - activation: Activation function for the hidden layer.\n",
    "    - max_iter: Maximum number of iterations for training the neural network.\n",
    "    - random_state: Seed used by the random number generator.\n",
    "    \n",
    "    Returns:\n",
    "    - accuracy: Test accuracy of the trained model.\n",
    "    \"\"\"\n",
    "    # Fill NaN values with a space\n",
    "    \n",
    "    df.fillna(' ', inplace=True)\n",
    "\n",
    "    #checking if input is label to only look at the columns that say fixed\n",
    "    if 'label' in target_column:\n",
    "        df = df[df['Resolution'].str.contains('FIXED', na=False)]\n",
    "        \n",
    "    # Concatenate input columns to form the feature set\n",
    "    X = df[input_columns].apply(lambda row: ' '.join(row.values.astype(str)), axis=1)\n",
    "    y = df[target_column]  # Target variable\n",
    "\n",
    "    # Split the data\n",
    "    X_train, X_test, y_train, y_test = train_test_split(X, y, test_size=test_size, random_state=random_state)\n",
    "\n",
    "    # Vectorize the text data\n",
    "    vectorizer = TfidfVectorizer(max_features=max_features)\n",
    "    X_train_vec = vectorizer.fit_transform(X_train)\n",
    "    X_test_vec = vectorizer.transform(X_test)\n",
    "\n",
    "    # Initialize and train the MLPClassifier\n",
    "    model = MLPClassifier(hidden_layer_sizes=hidden_layer_sizes, activation=activation, max_iter=max_iter, random_state=random_state)\n",
    "    model.fit(X_train_vec, y_train)\n",
    "\n",
    "    # Make predictions on the test set\n",
    "    y_pred = model.predict(X_test_vec)\n",
    "\n",
    "    # Evaluate the model\n",
    "    accuracy = accuracy_score(y_test, y_pred)\n",
    "    print(\"Test Accuracy:\", accuracy)\n"
   ]
  },
  {
   "cell_type": "code",
   "execution_count": 176,
   "id": "47bf5751-a06b-472d-b834-1b64a5d88fbd",
   "metadata": {},
   "outputs": [
    {
     "name": "stdout",
     "output_type": "stream",
     "text": [
      "Test Accuracy: 0.5709588397627855\n"
     ]
    }
   ],
   "source": [
    "##Testing for eventual label (FIXED or NOTFIXED) using priority and emotion: accuracy=.571\n",
    "train_and_evaluate_model(df2, input_columns=['Priority', 'emotion'], target_column='eventual')"
   ]
  },
  {
   "cell_type": "code",
   "execution_count": 172,
   "id": "9287ee16-ce4e-4f3c-8b46-b1e640ac6e3e",
   "metadata": {},
   "outputs": [
    {
     "name": "stdout",
     "output_type": "stream",
     "text": [
      "Test Accuracy: 0.5878691797310787\n"
     ]
    },
    {
     "name": "stderr",
     "output_type": "stream",
     "text": [
      "/home/spope/anaconda3/envs/reu/lib/python3.11/site-packages/sklearn/neural_network/_multilayer_perceptron.py:690: ConvergenceWarning: Stochastic Optimizer: Maximum iterations (100) reached and the optimization hasn't converged yet.\n",
      "  warnings.warn(\n"
     ]
    }
   ],
   "source": [
    "##Testing for eventual label (FIXED or NOTFIXED) using Description: accuracy=.588\n",
    "train_and_evaluate_model(df2, input_columns=['Description'], target_column='eventual')"
   ]
  },
  {
   "cell_type": "code",
   "execution_count": 173,
   "id": "1174631c-18dd-44fb-b401-1368c8f43cc0",
   "metadata": {},
   "outputs": [
    {
     "name": "stdout",
     "output_type": "stream",
     "text": [
      "Test Accuracy: 0.5709588397627855\n"
     ]
    }
   ],
   "source": [
    "##Testing for eventual label (FIXED or NOTFIXED) using Description: accuracy=.571\n",
    "train_and_evaluate_model(df2, input_columns=['Priority'], target_column='eventual')"
   ]
  },
  {
   "cell_type": "code",
   "execution_count": 174,
   "id": "411fe2eb-7cde-4cc0-8cda-fd7fcb0398cc",
   "metadata": {},
   "outputs": [
    {
     "name": "stdout",
     "output_type": "stream",
     "text": [
      "Test Accuracy: 0.5935646761787329\n"
     ]
    },
    {
     "name": "stderr",
     "output_type": "stream",
     "text": [
      "/home/spope/anaconda3/envs/reu/lib/python3.11/site-packages/sklearn/neural_network/_multilayer_perceptron.py:690: ConvergenceWarning: Stochastic Optimizer: Maximum iterations (100) reached and the optimization hasn't converged yet.\n",
      "  warnings.warn(\n"
     ]
    }
   ],
   "source": [
    "##Testing for eventual label (FIXED or NOTFIXED) using Description: accuracy=.594\n",
    "train_and_evaluate_model(df2, input_columns=['Priority', 'Description'], target_column='eventual')"
   ]
  },
  {
   "cell_type": "code",
   "execution_count": 175,
   "id": "c59aa052-75c5-4bfb-8f08-2d1043cca9f3",
   "metadata": {},
   "outputs": [
    {
     "name": "stdout",
     "output_type": "stream",
     "text": [
      "Test Accuracy: 0.5586283835359052\n"
     ]
    }
   ],
   "source": [
    "##Testing for eventual label (FIXED or NOTFIXED) using Description: accuracy=.558\n",
    "train_and_evaluate_model(df2, input_columns=['Priority', 'Emotionality'], target_column='eventual')"
   ]
  },
  {
   "cell_type": "code",
   "execution_count": 167,
   "id": "f4347965-323c-4dd6-aa67-52d488370c76",
   "metadata": {},
   "outputs": [
    {
     "name": "stdout",
     "output_type": "stream",
     "text": [
      "Test Accuracy: 0.8343753831065343\n"
     ]
    }
   ],
   "source": [
    "##Testing for label (Short or Long) using Priority and emotion: accuracy=.834\n",
    "train_and_evaluate_model(df2, input_columns=['Priority','emotion'], target_column='label')"
   ]
  },
  {
   "cell_type": "code",
   "execution_count": 150,
   "id": "4391fc81-eec8-42df-bd0a-bce215a721e1",
   "metadata": {},
   "outputs": [
    {
     "name": "stdout",
     "output_type": "stream",
     "text": [
      "Test Accuracy: 0.827264925830575\n"
     ]
    },
    {
     "name": "stderr",
     "output_type": "stream",
     "text": [
      "/home/spope/anaconda3/envs/reu/lib/python3.11/site-packages/sklearn/neural_network/_multilayer_perceptron.py:690: ConvergenceWarning: Stochastic Optimizer: Maximum iterations (100) reached and the optimization hasn't converged yet.\n",
      "  warnings.warn(\n"
     ]
    }
   ],
   "source": [
    "##Testing for label (Short or Long) using Priority and emotionality: accuracy=.827\n",
    "train_and_evaluate_model(df2, input_columns=['Priority','Emotionality'], target_column='label')"
   ]
  },
  {
   "cell_type": "code",
   "execution_count": 152,
   "id": "3b589eb7-5c80-432c-84c6-c4a5636452d7",
   "metadata": {},
   "outputs": [
    {
     "name": "stdout",
     "output_type": "stream",
     "text": [
      "Test Accuracy: 0.7740590903518451\n"
     ]
    }
   ],
   "source": [
    "##Testing for label (Short or Long) using Description,emotionality, and emotion: accuracy=.774\n",
    "train_and_evaluate_model(df2, input_columns=['Description','emotion', 'Emotionality'], target_column='label')"
   ]
  },
  {
   "cell_type": "code",
   "execution_count": 156,
   "id": "0b48fd99-7739-43bc-8dc4-50dbcf47f85b",
   "metadata": {},
   "outputs": [
    {
     "name": "stdout",
     "output_type": "stream",
     "text": [
      "Test Accuracy: 0.7718523967144784\n"
     ]
    }
   ],
   "source": [
    "##Testing for label (Short or Long) using Description: accuracy=.772\n",
    "train_and_evaluate_model(df2, input_columns=['Description'], target_column='label')"
   ]
  },
  {
   "cell_type": "code",
   "execution_count": 158,
   "id": "c7ed02be-7819-4cc4-b1d8-d495f4162e5b",
   "metadata": {},
   "outputs": [
    {
     "name": "stdout",
     "output_type": "stream",
     "text": [
      "Test Accuracy: 0.8344979771974991\n"
     ]
    }
   ],
   "source": [
    "##Testing for label (Short or Long) using emotion: accuracy=.834\n",
    "train_and_evaluate_model(df2, input_columns=['emotion'], target_column='label')"
   ]
  },
  {
   "cell_type": "code",
   "execution_count": 157,
   "id": "c080eb9d-d833-452c-92c0-3888c1d5e978",
   "metadata": {},
   "outputs": [
    {
     "name": "stdout",
     "output_type": "stream",
     "text": [
      "Test Accuracy: 0.8335172244697806\n"
     ]
    }
   ],
   "source": [
    "##Testing for label (Short or Long) using Emotionality: accuracy=.834\n",
    "train_and_evaluate_model(df2, input_columns=['Emotionality'], target_column='label')"
   ]
  }
 ],
 "metadata": {
  "kernelspec": {
   "display_name": "Python 3 (ipykernel)",
   "language": "python",
   "name": "python3"
  },
  "language_info": {
   "codemirror_mode": {
    "name": "ipython",
    "version": 3
   },
   "file_extension": ".py",
   "mimetype": "text/x-python",
   "name": "python",
   "nbconvert_exporter": "python",
   "pygments_lexer": "ipython3",
   "version": "3.11.9"
  }
 },
 "nbformat": 4,
 "nbformat_minor": 5
}

{
 "cells": [
  {
   "cell_type": "code",
   "execution_count": 93,
   "id": "b2f2c899-2c6a-481e-bd53-70f7fb23eabf",
   "metadata": {},
   "outputs": [
    {
     "name": "stderr",
     "output_type": "stream",
     "text": [
      "huggingface/tokenizers: The current process just got forked, after parallelism has already been used. Disabling parallelism to avoid deadlocks...\n",
      "To disable this warning, you can either:\n",
      "\t- Avoid using `tokenizers` before the fork if possible\n",
      "\t- Explicitly set the environment variable TOKENIZERS_PARALLELISM=(true | false)\n",
      "huggingface/tokenizers: The current process just got forked, after parallelism has already been used. Disabling parallelism to avoid deadlocks...\n",
      "To disable this warning, you can either:\n",
      "\t- Avoid using `tokenizers` before the fork if possible\n",
      "\t- Explicitly set the environment variable TOKENIZERS_PARALLELISM=(true | false)\n",
      "huggingface/tokenizers: The current process just got forked, after parallelism has already been used. Disabling parallelism to avoid deadlocks...\n",
      "To disable this warning, you can either:\n",
      "\t- Avoid using `tokenizers` before the fork if possible\n",
      "\t- Explicitly set the environment variable TOKENIZERS_PARALLELISM=(true | false)\n",
      "huggingface/tokenizers: The current process just got forked, after parallelism has already been used. Disabling parallelism to avoid deadlocks...\n",
      "To disable this warning, you can either:\n",
      "\t- Avoid using `tokenizers` before the fork if possible\n",
      "\t- Explicitly set the environment variable TOKENIZERS_PARALLELISM=(true | false)\n",
      "huggingface/tokenizers: The current process just got forked, after parallelism has already been used. Disabling parallelism to avoid deadlocks...\n",
      "To disable this warning, you can either:\n",
      "\t- Avoid using `tokenizers` before the fork if possible\n",
      "\t- Explicitly set the environment variable TOKENIZERS_PARALLELISM=(true | false)\n",
      "huggingface/tokenizers: The current process just got forked, after parallelism has already been used. Disabling parallelism to avoid deadlocks...\n",
      "To disable this warning, you can either:\n",
      "\t- Avoid using `tokenizers` before the fork if possible\n",
      "\t- Explicitly set the environment variable TOKENIZERS_PARALLELISM=(true | false)\n",
      "huggingface/tokenizers: The current process just got forked, after parallelism has already been used. Disabling parallelism to avoid deadlocks...\n",
      "To disable this warning, you can either:\n",
      "\t- Avoid using `tokenizers` before the fork if possible\n",
      "\t- Explicitly set the environment variable TOKENIZERS_PARALLELISM=(true | false)\n",
      "huggingface/tokenizers: The current process just got forked, after parallelism has already been used. Disabling parallelism to avoid deadlocks...\n",
      "To disable this warning, you can either:\n",
      "\t- Avoid using `tokenizers` before the fork if possible\n",
      "\t- Explicitly set the environment variable TOKENIZERS_PARALLELISM=(true | false)\n",
      "huggingface/tokenizers: The current process just got forked, after parallelism has already been used. Disabling parallelism to avoid deadlocks...\n",
      "To disable this warning, you can either:\n",
      "\t- Avoid using `tokenizers` before the fork if possible\n",
      "\t- Explicitly set the environment variable TOKENIZERS_PARALLELISM=(true | false)\n",
      "huggingface/tokenizers: The current process just got forked, after parallelism has already been used. Disabling parallelism to avoid deadlocks...\n",
      "To disable this warning, you can either:\n",
      "\t- Avoid using `tokenizers` before the fork if possible\n",
      "\t- Explicitly set the environment variable TOKENIZERS_PARALLELISM=(true | false)\n"
     ]
    }
   ],
   "source": [
    "%%capture\n",
    "!pip install pandas\n",
    "!pip install scipy\n",
    "!pip install matplotlib\n",
    "!pip install seaborn\n",
    "!pip install tensorflow\n",
    "import zipfile\n",
    "import os\n",
    "import pandas as pd\n",
    "import numpy as np\n",
    "import scipy.stats as st\n",
    "import matplotlib.pyplot as plt\n",
    "import seaborn as sns\n",
    "import requests\n",
    "\n",
    "## imports for preprocessing\n",
    "!pip install -U scikit-learn\n",
    "!pip install nltk\n",
    "import nltk\n",
    "from nltk.sentiment.vader import SentimentIntensityAnalyzer\n",
    "from nltk.corpus import stopwords\n",
    "from nltk.tokenize import word_tokenize\n",
    "from nltk.stem import WordNetLemmatizer\n",
    "nltk.download('all')\n",
    "nltk.download('punkt')\n",
    "nltk.download('averaged_perceptron_tagger')\n",
    "\n",
    "#imports for sentiment analysis\n",
    "from nltk.corpus import sentiwordnet as swn\n",
    "from nltk.corpus import wordnet as wn\n",
    "from nltk.tokenize import word_tokenize\n",
    "from nltk.tag import pos_tag\n",
    "\n",
    "#imports for graphs\n",
    "import matplotlib.pyplot as plt\n",
    "\n",
    "#imports for model prediction\n",
    "from sklearn.feature_extraction.text import TfidfVectorizer\n",
    "from sklearn.metrics import accuracy_score, f1_score, precision_score, classification_report, recall_score\n",
    "import warnings\n",
    "from pandas.errors import SettingWithCopyWarning\n",
    "import joblib\n",
    "import tensorflow as tf\n",
    "import os\n",
    "\n",
    "\n",
    "#Imports for Bert\n",
    "!pip install transformers umap-learn hdbscan scikit-learn pandas\n",
    "import torch\n",
    "from transformers import BertTokenizer, BertModel\n",
    "import umap\n",
    "import hdbscan\n",
    "from sklearn.linear_model import LogisticRegression\n",
    "!pip install bertopic\n",
    "!pip install tf_keras\n",
    "from bertopic import BERTopic"
   ]
  },
  {
   "cell_type": "code",
   "execution_count": 94,
   "id": "b3ddeb6f-a27a-441b-bfda-70a5b4124514",
   "metadata": {},
   "outputs": [],
   "source": [
    "##Accessing a CSV\n",
    "uploaded_zip = '/home/spope/EclipsePlatform/eclipse_platform.zip'\n",
    "extract_dir = '/home/spope/EclipsePlatform/extracted'\n",
    "if not os.path.exists(extract_dir):\n",
    "    os.makedirs(extract_dir)\n",
    "with zipfile.ZipFile(uploaded_zip, 'r') as zip_ref:\n",
    "    zip_ref.extractall(extract_dir)\n",
    "\n",
    "csv_file = os.path.join(extract_dir, 'eclipse_platform.csv')\n",
    "fulldata = pd.read_csv(csv_file)"
   ]
  },
  {
   "cell_type": "code",
   "execution_count": 95,
   "id": "86afeca9-4ac6-470e-96dc-4a0a7bcc3edc",
   "metadata": {},
   "outputs": [],
   "source": [
    "# Split the data into training and test sets\n",
    "def SplitData(dataset):\n",
    "        train_size = int(0.8 * len(dataset))\n",
    "        test_size = len(dataset) - train_size\n",
    "        trainset, testset = dataset[:train_size], dataset[train_size:]\n",
    "        return trainset, testset"
   ]
  },
  {
   "cell_type": "code",
   "execution_count": 149,
   "id": "f9a6ea03-c0c6-4283-8fd2-92f6bbc61f82",
   "metadata": {},
   "outputs": [],
   "source": [
    "class TimeSet:\n",
    "    def CreateDuration(dataset):\n",
    "        dataset['Created_time'] = pd.to_datetime(dataset['Created_time'], utc=True)\n",
    "        dataset['Resolved_time'] = pd.to_datetime(dataset['Resolved_time'], utc=True)\n",
    "\n",
    "        # Convert to the desired format\n",
    "        dataset['Created_time2'] = dataset['Created_time'].dt.strftime('%m/%d/%Y %H:%M')\n",
    "        dataset['Resolved_time2'] = dataset['Resolved_time'].dt.strftime('%m/%d/%Y %H:%M')\n",
    "\n",
    "        # Parse the formatted datetime strings back to datetime objects to ensure they are in the correct format\n",
    "        dataset['Created_time2'] = pd.to_datetime(dataset['Created_time2'], format='%m/%d/%Y %H:%M')\n",
    "        dataset['Resolved_time2'] = pd.to_datetime(dataset['Resolved_time2'], format='%m/%d/%Y %H:%M')\n",
    "\n",
    "        # Calculate the duration in hours\n",
    "        dataset['Duration'] = dataset['Resolved_time2'] - dataset['Created_time2']\n",
    "        dataset['Duration_hours'] = dataset['Duration'].dt.total_seconds() / 3600\n",
    "\n",
    "        # Drop the intermediate columns\n",
    "        dataset.drop(['Created_time2', 'Resolved_time2', 'Duration'], axis=1, inplace=True)\n",
    "    \n",
    "    def NoOutliers(df):\n",
    "        Q1 = df['Duration_hours'].quantile(0.25)\n",
    "        Q3 = df['Duration_hours'].quantile(0.75)\n",
    "\n",
    "        # Calculate the IQR\n",
    "        IQR = Q3 - Q1\n",
    "\n",
    "        # Define the lower and upper bounds for filtering outliers\n",
    "        lower_bound = Q1 - 1.5 * IQR\n",
    "        upper_bound = Q3 + 1.5 * IQR\n",
    "\n",
    "        # Filter out the outliers\n",
    "        df = df[(df['Duration_hours'] >= lower_bound) & (df['Duration_hours'] <= upper_bound)]\n",
    "        return(df)\n",
    "    def CreateTimeLabel(df):\n",
    "        threshold = df['Duration_hours'].quantile(0.70)\n",
    "\n",
    "    # Create a new column TimeLabel based on the threshold\n",
    "        df['TimeLabel'] = df['Duration_hours'].apply(lambda x: 'short' if x <= threshold else 'long')\n",
    "        df = df[df['Resolution'] == 'FIXED']\n",
    "        return df"
   ]
  },
  {
   "cell_type": "code",
   "execution_count": 97,
   "id": "0a74834c-431a-4201-9709-447a80e9e82e",
   "metadata": {},
   "outputs": [],
   "source": [
    "class Preprocessing:\n",
    "    def RemoveStopWords(dataset):\n",
    "        #making all the items in the descriptions columns lower\n",
    "        dataset['Description'] = dataset['Description'].str.lower()\n",
    "        # Define stop words\n",
    "        stop_words = set(stopwords.words('english'))\n",
    "         # Remove stop words\n",
    "        for index, row in dataset.iterrows():\n",
    "            # Check if the 'Description' is not NaN\n",
    "            if isinstance(row['Description'], str):\n",
    "                words = row['Description'].split()\n",
    "                final_tokens = [word for word in words if word not in stop_words]\n",
    "                dataset.at[index, 'Description'] = ' '.join(final_tokens)\n",
    "    \n",
    "        return dataset\n",
    "    def Lemmitization(dataset):\n",
    "        # Initialize the WordNet Lemmatizer\n",
    "        lemmatizer = WordNetLemmatizer()\n",
    "        # Function to lemmatize a sentence\n",
    "        def lemmatize_sentence(sentence):\n",
    "            words = nltk.word_tokenize(sentence)\n",
    "            lemmatized_words = [lemmatizer.lemmatize(word, pos='v') for word in words]  # Lemmatize verbs (default)\n",
    "            return ' '.join(lemmatized_words)\n",
    "        dataset['Description'] = dataset['Description'].astype(str)  # Convert all to strings\n",
    "\n",
    "        # Apply lemmatization to each row in the 'Description' column\n",
    "        dataset['Description'] = dataset['Description'].apply(lemmatize_sentence)\n"
   ]
  },
  {
   "cell_type": "code",
   "execution_count": 98,
   "id": "dae001fe-04ec-4dbe-9a50-431a11e804fa",
   "metadata": {},
   "outputs": [],
   "source": [
    "class SentimentAnalysis:\n",
    "    def get_wordnet_pos(treebank_tag):\n",
    "          if treebank_tag.startswith('J'):\n",
    "            return wn.ADJ\n",
    "          elif treebank_tag.startswith('V'):\n",
    "            return wn.VERB\n",
    "          elif treebank_tag.startswith('N'):\n",
    "            return wn.NOUN\n",
    "          elif treebank_tag.startswith('R'):\n",
    "            return wn.ADV\n",
    "          else:\n",
    "            return None\n",
    "    # Function to calculate sentiment scores\n",
    "    def CalculateSentimentScores(description):\n",
    "        tokens = word_tokenize(description)\n",
    "        tagged_tokens = pos_tag(tokens)\n",
    "        \n",
    "        pos_score = 0\n",
    "        neg_score = 0\n",
    "        token_count = 0\n",
    "    \n",
    "        for word, tag in tagged_tokens:\n",
    "            wn_tag = SentimentAnalysis.get_wordnet_pos(tag)\n",
    "            if wn_tag not in (wn.NOUN, wn.ADJ, wn.ADV):\n",
    "                continue\n",
    "        \n",
    "            synsets = list(swn.senti_synsets(word, wn_tag))\n",
    "            if not synsets:\n",
    "                continue\n",
    "        \n",
    "            # Use the first synset for simplicity\n",
    "            synset = synsets[0]\n",
    "            pos_score += synset.pos_score()\n",
    "            neg_score += synset.neg_score()\n",
    "            token_count += 1\n",
    "    \n",
    "        # Normalize scores by the number of tokens\n",
    "        if token_count > 0:\n",
    "            pos_score /= token_count\n",
    "            neg_score /= token_count\n",
    "            return pos_score, neg_score\n",
    "    # Apply sentiment score calculation to each description\n",
    "    def CreatePosNegColumns(dataset): \n",
    "        dataset[['Pos_Score', 'Neg_Score']] = dataset['Description'].apply(lambda x: pd.Series(SentimentAnalysis.CalculateSentimentScores(x)))\n",
    "    #Creating a column for Emotion (Positive or Negative)\n",
    "    def EmotionColumn(dataset):\n",
    "        #Creating a column for binary emotion (positive or negative)\n",
    "        dataset['Emotion'] = dataset['Pos_Score'] - dataset['Neg_Score']\n",
    "    \n",
    "        # Assign labels based on the difference\n",
    "        dataset['Emotion'] = dataset['Emotion'].apply(lambda x: 'positive' if x > 0 else 'negative')\n",
    "    def EmotionalityColumn(dataset):\n",
    "        dataset['Emotionality'] = dataset['Pos_Score']+ dataset['Neg_Score']"
   ]
  },
  {
   "cell_type": "code",
   "execution_count": 99,
   "id": "cba65290-d215-4948-9181-a7f98f774285",
   "metadata": {},
   "outputs": [],
   "source": [
    "def Destiny(df):\n",
    "    # Create a new column 'Destiny' with default value 'Not Fixed'\n",
    "    df['Destiny'] = 'Not Fixed'\n",
    "    \n",
    "    # Update 'Destiny' based on conditions in 'Resolution' column\n",
    "    df.loc[df['Resolution'] == 'FIXED', 'Destiny'] = 'Fixed'\n",
    "    return df"
   ]
  },
  {
   "cell_type": "code",
   "execution_count": 100,
   "id": "20a6f472-1d01-4cca-88a7-b246aa273009",
   "metadata": {},
   "outputs": [],
   "source": [
    "class FeatureEncoding:\n",
    "    def Emotion(df):\n",
    "    #Label Positive emotion at 1 and negative as 0\n",
    "        df['Emotion'] = df['Emotion'].map({'positive': 1, 'negative': 0})\n",
    "    def Priority(df):\n",
    "        # Label Priority Columns numerically\n",
    "        df['Priority'] = df['Priority'].map({'P1': 1, 'P2': 2, 'P3': 3, 'P4': 4, 'P5': 5})\n",
    "    def DropDescriptionNA(df):\n",
    "        df = df[df['Description'] != 'nan']"
   ]
  },
  {
   "cell_type": "code",
   "execution_count": 101,
   "id": "c4ba411a-76c1-4e51-8ba7-b84ee61c1943",
   "metadata": {},
   "outputs": [],
   "source": [
    "class BertTopic:\n",
    "    def Model(df):\n",
    "        model = BERTopic(nr_topics=\"10\")\n",
    "\n",
    "        # Prepare the documents\n",
    "        docs = df['Description'].fillna('').astype(str).tolist()\n",
    "\n",
    "        # Fit the model to your data\n",
    "        topics, probabilities = model.fit_transform(docs)\n",
    "        #adding a column for predicted topics\n",
    "        new_docs = df['Description'].fillna('').astype(str).to_list()\n",
    "        topics, probs = model.transform(new_docs)\n",
    "        df['Predicted_Topic'] = topics\n",
    "        return df"
   ]
  },
  {
   "cell_type": "code",
   "execution_count": 102,
   "id": "c026c439-d29f-43c3-b110-0e76d10b88f5",
   "metadata": {},
   "outputs": [],
   "source": [
    "def MLPModelTest(df, input_column, target_column, vectorizer_path, model_path):\n",
    "    if isinstance(input_column, str):\n",
    "        input_column = [input_column]\n",
    "    # Concatenate input columns to form the feature set\n",
    "    X = df[input_column].apply(lambda row: ' '.join(row.values.astype(str)), axis=1)\n",
    "    y = df[target_column]  # Target variable\n",
    "    \n",
    "    # Load the pre-trained model and vectorizer\n",
    "    model = joblib.load(model_path)\n",
    "    vectorizer = joblib.load(vectorizer_path)\n",
    "    \n",
    "    # Vectorize the text data\n",
    "    X_vec = vectorizer.transform(X)\n",
    "    \n",
    "    # Make predictions\n",
    "    predictions = model.predict(X_vec)\n",
    "    \n",
    "    # Calculate accuracy and F1 score\n",
    "    accuracy = accuracy_score(y, predictions)\n",
    "    f1 = f1_score(y, predictions, average='weighted')\n",
    "    precision = precision_score(y, predictions, average='weighted')\n",
    "    recall = recall_score(y, predictions, average='weighted')\n",
    "    print(f\"Accuracy: {accuracy:.2f}\")\n",
    "    print(f\"F1 Score: {f1:.2f}\")\n",
    "    print(f\"Precision: {precision}\")\n",
    "    print(f\"Recall: {recall:.2f}\")\n",
    "    report = classification_report(y, predictions)\n",
    "    print(report)\n"
   ]
  },
  {
   "cell_type": "code",
   "execution_count": 158,
   "id": "07706c5e-d805-4fb2-86ea-99ea2d8849d5",
   "metadata": {},
   "outputs": [],
   "source": [
    "import pandas as pd\n",
    "import joblib\n",
    "from tensorflow.keras.models import load_model\n",
    "from tensorflow.keras.preprocessing.text import Tokenizer\n",
    "from tensorflow.keras.preprocessing.sequence import pad_sequences\n",
    "from sklearn.metrics import accuracy_score, f1_score, precision_score, recall_score, classification_report\n",
    "\n",
    "def CNNModelTest(df, input_columns, target_column, tokenizer_path, model_path, max_len=100):\n",
    "    df['Emotion'] = df['Emotion'].map({'positive': 1, 'negative': 0})\n",
    "\n",
    "    # Map the Priority column\n",
    "    df['Priority'] = df['Priority'].map({'P1': 1, 'P2': 2, 'P3': 3, 'P4': 4, 'P5': 5})\n",
    "   \n",
    "    with tf.device('/cpu:0'):\n",
    "        if isinstance(input_columns, str):\n",
    "            input_columns = [input_columns]\n",
    "    \n",
    "        # Concatenate input columns to form the feature set\n",
    "        X = df[input_columns].apply(lambda row: ' '.join(row.values.astype(str)), axis=1)\n",
    "        y = pd.get_dummies(df[target_column])  # One-hot encode the target variable\n",
    "\n",
    "        # Load the pre-trained model and tokenizer\n",
    "        model = load_model(model_path)\n",
    "        tokenizer = joblib.load(tokenizer_path)\n",
    "\n",
    "        # Tokenize and pad the text data\n",
    "        X_seq = tokenizer.texts_to_sequences(X)\n",
    "        X_pad = pad_sequences(X_seq, maxlen=max_len)\n",
    "    \n",
    "        # Make predictions\n",
    "        predictions = model.predict(X_pad)\n",
    "        predicted_classes = predictions.argmax(axis=1)\n",
    "        true_classes = y.values.argmax(axis=1)\n",
    "\n",
    "        # Calculate accuracy and F1 score\n",
    "        accuracy = accuracy_score(true_classes, predicted_classes)\n",
    "        f1 = f1_score(true_classes, predicted_classes, average='weighted')\n",
    "        precision = precision_score(true_classes, predicted_classes, average='weighted')\n",
    "        recall = recall_score(true_classes, predicted_classes, average='weighted')\n",
    "\n",
    "        print(f\"Accuracy: {accuracy:.2f}\")\n",
    "        print(f\"F1 Score: {f1:.2f}\")\n",
    "        print(f\"Precision: {precision:.2f}\")\n",
    "        print(f\"Recall: {recall:.2f}\")\n",
    "        report = classification_report(true_classes, predicted_classes)\n",
    "        print(report)"
   ]
  },
  {
   "cell_type": "code",
   "execution_count": 165,
   "id": "2915161d-fa25-4301-a3ae-993f06d1b990",
   "metadata": {},
   "outputs": [],
   "source": [
    "def BerTopic(df, model_path, text_column ='Description', new_column_name=\"PredictedTopic\"):\n",
    "    # Load the trained BERTopic model\n",
    "    model = BERTopic.load(model_path)\n",
    "\n",
    "    # Prepare the documents\n",
    "    docs = df[text_column].fillna('').astype(str).tolist()\n",
    "\n",
    "    # Predict the topics for the new documents\n",
    "    topics, probabilities = model.transform(docs)\n",
    "\n",
    "    # Add the predicted topics as a new column\n",
    "    df[new_column_name] = topics\n",
    "\n",
    "    return df\n"
   ]
  },
  {
   "cell_type": "code",
   "execution_count": 177,
   "id": "41cdf41c-4200-4b7e-afd0-7c8befd4ef9e",
   "metadata": {},
   "outputs": [],
   "source": [
    "class Graphs:\n",
    "    def TimeLabelDis(df):\n",
    "        total_reports = len(df)\n",
    "\n",
    "        # Plotting the histogram\n",
    "        plt.figure(figsize=(10, 6))\n",
    "        n, bins, patches = plt.hist(df['Duration_hours'], bins=25, edgecolor='black', alpha=0.7)\n",
    "\n",
    "        # Calculate proportions\n",
    "        proportions = n / total_reports\n",
    "\n",
    "        # Clear the current y-axis values and use proportions\n",
    "        plt.cla()\n",
    "        plt.bar(bins[:-1], proportions, width=bins[1] - bins[0], edgecolor='black', alpha=0.7)\n",
    "        plt.title('Proportion Bug Reports Hours before Resolved')\n",
    "        plt.xlabel('Hours before Resolved')\n",
    "        plt.ylabel('Proportion')\n",
    "        plt.grid(axis='y', alpha=0.75)\n",
    "\n",
    "        # Display the plot\n",
    "        plt.show()\n"
   ]
  },
  {
   "cell_type": "code",
   "execution_count": 145,
   "id": "e034fc6c-f796-47e6-bd1a-713aa0ceddc2",
   "metadata": {},
   "outputs": [],
   "source": [
    "warnings.filterwarnings('ignore', category=SettingWithCopyWarning)\n",
    "\n",
    "def pipelineTimeLabel(dataset):\n",
    "    trainset, testset = SplitData(dataset)\n",
    "    TimeSet.CreateDuration(testset)\n",
    "    TimeSet.CreateDuration(trainset)\n",
    "    TimeSet.NoOutliers(trainset)\n",
    "    TimeSet.CreateTimeLabel(testset)\n",
    "    TimeSet.CreateTimeLabel(trainset)\n",
    "    Preprocessing.RemoveStopWords(testset)\n",
    "    Preprocessing.Lemmitization(testset)\n",
    "    SentimentAnalysis.CreatePosNegColumns(testset)\n",
    "    SentimentAnalysis.EmotionColumn(testset)\n",
    "    SentimentAnalysis.EmotionalityColumn(testset)\n",
    "    FeatureEncoding.Emotion(testset)\n",
    "    FeatureEncoding.Priority(testset)\n",
    "    FeatureEncoding.DropDescriptionNA(testset)\n",
    "    return trainset,testset"
   ]
  },
  {
   "cell_type": "code",
   "execution_count": 54,
   "id": "047cdef4-2a26-480c-b912-fad6fd3bd81a",
   "metadata": {},
   "outputs": [],
   "source": [
    "MLPtestset = pipelineTimeLabel(fulldata)"
   ]
  },
  {
   "cell_type": "code",
   "execution_count": 150,
   "id": "b1f508e8-a3c4-4393-91a0-d2e854a38616",
   "metadata": {},
   "outputs": [],
   "source": [
    "CNNtrainset, CNNtestset = pipelineTimeLabel(fulldata)"
   ]
  },
  {
   "cell_type": "code",
   "execution_count": 151,
   "id": "5d8411b7-910e-44d0-b624-012373576523",
   "metadata": {},
   "outputs": [],
   "source": [
    "CNNtestset.to_csv('CNNtestset.csv', index=False)\n",
    "CNNtrainset.to_csv('CNNtrainset.csv', index=False)"
   ]
  },
  {
   "cell_type": "code",
   "execution_count": 152,
   "id": "5246fc2c-3a67-4410-9f0f-cf5f345401b9",
   "metadata": {},
   "outputs": [],
   "source": [
    "CNNtestset = pd.read_csv('CNNtestset.csv')"
   ]
  },
  {
   "cell_type": "code",
   "execution_count": 153,
   "id": "3d51dc34-7413-4ace-8477-07b83384d940",
   "metadata": {},
   "outputs": [],
   "source": [
    "CNNtrainset = pd.read_csv('CNNtrainset.csv')"
   ]
  },
  {
   "cell_type": "code",
   "execution_count": 178,
   "id": "9105c1f1-3a23-49e4-a194-372e4d46dcb6",
   "metadata": {},
   "outputs": [
    {
     "data": {
      "image/png": "[encoded data removed]",
      "text/plain": [
       "<Figure size 1000x600 with 1 Axes>"
      ]
     },
     "metadata": {},
     "output_type": "display_data"
    }
   ],
   "source": [
    "Graphs.TimeLabelDis(CNNtrainset)"
   ]
  },
  {
   "cell_type": "code",
   "execution_count": 154,
   "id": "252f9205-e007-4e18-bb2e-7a9e7d8becee",
   "metadata": {},
   "outputs": [
    {
     "name": "stdout",
     "output_type": "stream",
     "text": [
      "Accuracy: 0.51\n",
      "F1 Score: 0.53\n",
      "Precision: 0.5772330193880563\n",
      "Recall: 0.51\n",
      "              precision    recall  f1-score   support\n",
      "\n",
      "        long       0.30      0.46      0.36      5110\n",
      "       short       0.70      0.53      0.61     11922\n",
      "\n",
      "    accuracy                           0.51     17032\n",
      "   macro avg       0.50      0.50      0.48     17032\n",
      "weighted avg       0.58      0.51      0.53     17032\n",
      "\n"
     ]
    }
   ],
   "source": [
    "MLPModelTest(CNNtestset, ['Priority', 'Emotionality','Emotion'], 'TimeLabel', model_path= 'MLPmodelTimeLabel.joblib', vectorizer_path='MLPvectorizer.joblib')"
   ]
  },
  {
   "cell_type": "code",
   "execution_count": 172,
   "id": "d08aa8de-2a93-4243-9f11-371aafc7a964",
   "metadata": {},
   "outputs": [
    {
     "name": "stderr",
     "output_type": "stream",
     "text": [
      "WARNING:absl:Compiled the loaded model, but the compiled metrics have yet to be built. `model.compile_metrics` will be empty until you train or evaluate the model.\n"
     ]
    },
    {
     "name": "stdout",
     "output_type": "stream",
     "text": [
      "\u001b[1m533/533\u001b[0m \u001b[32m━━━━━━━━━━━━━━━━━━━━\u001b[0m\u001b[37m\u001b[0m \u001b[1m3s\u001b[0m 5ms/step\n",
      "Accuracy: 0.70\n",
      "F1 Score: 0.58\n",
      "Precision: 0.49\n",
      "Recall: 0.70\n",
      "              precision    recall  f1-score   support\n",
      "\n",
      "           0       0.00      0.00      0.00      5110\n",
      "           1       0.70      1.00      0.82     11922\n",
      "\n",
      "    accuracy                           0.70     17032\n",
      "   macro avg       0.35      0.50      0.41     17032\n",
      "weighted avg       0.49      0.70      0.58     17032\n",
      "\n"
     ]
    }
   ],
   "source": [
    "# Restrict TensorFlow to use CPU only\n",
    "os.environ['CUDA_VISIBLE_DEVICES'] = '-1'\n",
    "CNNModelTest(CNNtestset, ['Emotionality','Priority','Emotion'], 'TimeLabel', model_path= 'CNNmodelFixedTime.h5', tokenizer_path='tokenizer.joblib')"
   ]
  },
  {
   "cell_type": "code",
   "execution_count": 174,
   "id": "1e574cde-dccd-4af9-b72e-3dfcbb428304",
   "metadata": {},
   "outputs": [
    {
     "ename": "RuntimeError",
     "evalue": "Attempting to deserialize object on a CUDA device but torch.cuda.is_available() is False. If you are running on a CPU-only machine, please use torch.load with map_location=torch.device('cpu') to map your storages to the CPU.",
     "output_type": "error",
     "traceback": [
      "\u001b[0;31m---------------------------------------------------------------------------\u001b[0m",
      "\u001b[0;31mRuntimeError\u001b[0m                              Traceback (most recent call last)",
      "Cell \u001b[0;32mIn[174], line 2\u001b[0m\n\u001b[1;32m      1\u001b[0m \u001b[38;5;28;01mwith\u001b[39;00m tf\u001b[38;5;241m.\u001b[39mdevice(\u001b[38;5;124m'\u001b[39m\u001b[38;5;124m/cpu:0\u001b[39m\u001b[38;5;124m'\u001b[39m):\n\u001b[0;32m----> 2\u001b[0m     BerTopic(CNNtestset, \u001b[38;5;124m'\u001b[39m\u001b[38;5;124mBertTopics\u001b[39m\u001b[38;5;124m'\u001b[39m)\n",
      "Cell \u001b[0;32mIn[165], line 3\u001b[0m, in \u001b[0;36mBerTopic\u001b[0;34m(df, model_path, text_column, new_column_name)\u001b[0m\n\u001b[1;32m      1\u001b[0m \u001b[38;5;28;01mdef\u001b[39;00m \u001b[38;5;21mBerTopic\u001b[39m(df, model_path, text_column \u001b[38;5;241m=\u001b[39m\u001b[38;5;124m'\u001b[39m\u001b[38;5;124mDescription\u001b[39m\u001b[38;5;124m'\u001b[39m, new_column_name\u001b[38;5;241m=\u001b[39m\u001b[38;5;124m\"\u001b[39m\u001b[38;5;124mPredictedTopic\u001b[39m\u001b[38;5;124m\"\u001b[39m):\n\u001b[1;32m      2\u001b[0m     \u001b[38;5;66;03m# Load the trained BERTopic model\u001b[39;00m\n\u001b[0;32m----> 3\u001b[0m     model \u001b[38;5;241m=\u001b[39m BERTopic\u001b[38;5;241m.\u001b[39mload(model_path)\n\u001b[1;32m      5\u001b[0m     \u001b[38;5;66;03m# Prepare the documents\u001b[39;00m\n\u001b[1;32m      6\u001b[0m     docs \u001b[38;5;241m=\u001b[39m df[text_column]\u001b[38;5;241m.\u001b[39mfillna(\u001b[38;5;124m'\u001b[39m\u001b[38;5;124m'\u001b[39m)\u001b[38;5;241m.\u001b[39mastype(\u001b[38;5;28mstr\u001b[39m)\u001b[38;5;241m.\u001b[39mtolist()\n",
      "File \u001b[0;32m~/anaconda3/envs/reu/lib/python3.11/site-packages/bertopic/_bertopic.py:3148\u001b[0m, in \u001b[0;36mBERTopic.load\u001b[0;34m(cls, path, embedding_model)\u001b[0m\n\u001b[1;32m   3146\u001b[0m             topic_model\u001b[38;5;241m.\u001b[39membedding_model \u001b[38;5;241m=\u001b[39m select_backend(embedding_model)\n\u001b[1;32m   3147\u001b[0m         \u001b[38;5;28;01melse\u001b[39;00m:\n\u001b[0;32m-> 3148\u001b[0m             topic_model \u001b[38;5;241m=\u001b[39m joblib\u001b[38;5;241m.\u001b[39mload(file)\n\u001b[1;32m   3149\u001b[0m         \u001b[38;5;28;01mreturn\u001b[39;00m topic_model\n\u001b[1;32m   3151\u001b[0m \u001b[38;5;66;03m# Load from directory or HF\u001b[39;00m\n",
      "File \u001b[0;32m~/anaconda3/envs/reu/lib/python3.11/site-packages/joblib/numpy_pickle.py:648\u001b[0m, in \u001b[0;36mload\u001b[0;34m(filename, mmap_mode)\u001b[0m\n\u001b[1;32m    646\u001b[0m     filename \u001b[38;5;241m=\u001b[39m \u001b[38;5;28mgetattr\u001b[39m(fobj, \u001b[38;5;124m'\u001b[39m\u001b[38;5;124mname\u001b[39m\u001b[38;5;124m'\u001b[39m, \u001b[38;5;124m'\u001b[39m\u001b[38;5;124m'\u001b[39m)\n\u001b[1;32m    647\u001b[0m     \u001b[38;5;28;01mwith\u001b[39;00m _read_fileobject(fobj, filename, mmap_mode) \u001b[38;5;28;01mas\u001b[39;00m fobj:\n\u001b[0;32m--> 648\u001b[0m         obj \u001b[38;5;241m=\u001b[39m _unpickle(fobj)\n\u001b[1;32m    649\u001b[0m \u001b[38;5;28;01melse\u001b[39;00m:\n\u001b[1;32m    650\u001b[0m     \u001b[38;5;28;01mwith\u001b[39;00m \u001b[38;5;28mopen\u001b[39m(filename, \u001b[38;5;124m'\u001b[39m\u001b[38;5;124mrb\u001b[39m\u001b[38;5;124m'\u001b[39m) \u001b[38;5;28;01mas\u001b[39;00m f:\n",
      "File \u001b[0;32m~/anaconda3/envs/reu/lib/python3.11/site-packages/joblib/numpy_pickle.py:577\u001b[0m, in \u001b[0;36m_unpickle\u001b[0;34m(fobj, filename, mmap_mode)\u001b[0m\n\u001b[1;32m    575\u001b[0m obj \u001b[38;5;241m=\u001b[39m \u001b[38;5;28;01mNone\u001b[39;00m\n\u001b[1;32m    576\u001b[0m \u001b[38;5;28;01mtry\u001b[39;00m:\n\u001b[0;32m--> 577\u001b[0m     obj \u001b[38;5;241m=\u001b[39m unpickler\u001b[38;5;241m.\u001b[39mload()\n\u001b[1;32m    578\u001b[0m     \u001b[38;5;28;01mif\u001b[39;00m unpickler\u001b[38;5;241m.\u001b[39mcompat_mode:\n\u001b[1;32m    579\u001b[0m         warnings\u001b[38;5;241m.\u001b[39mwarn(\u001b[38;5;124m\"\u001b[39m\u001b[38;5;124mThe file \u001b[39m\u001b[38;5;124m'\u001b[39m\u001b[38;5;132;01m%s\u001b[39;00m\u001b[38;5;124m'\u001b[39m\u001b[38;5;124m has been generated with a \u001b[39m\u001b[38;5;124m\"\u001b[39m\n\u001b[1;32m    580\u001b[0m                       \u001b[38;5;124m\"\u001b[39m\u001b[38;5;124mjoblib version less than 0.10. \u001b[39m\u001b[38;5;124m\"\u001b[39m\n\u001b[1;32m    581\u001b[0m                       \u001b[38;5;124m\"\u001b[39m\u001b[38;5;124mPlease regenerate this pickle file.\u001b[39m\u001b[38;5;124m\"\u001b[39m\n\u001b[1;32m    582\u001b[0m                       \u001b[38;5;241m%\u001b[39m filename,\n\u001b[1;32m    583\u001b[0m                       \u001b[38;5;167;01mDeprecationWarning\u001b[39;00m, stacklevel\u001b[38;5;241m=\u001b[39m\u001b[38;5;241m3\u001b[39m)\n",
      "File \u001b[0;32m~/anaconda3/envs/reu/lib/python3.11/pickle.py:1213\u001b[0m, in \u001b[0;36m_Unpickler.load\u001b[0;34m(self)\u001b[0m\n\u001b[1;32m   1211\u001b[0m             \u001b[38;5;28;01mraise\u001b[39;00m \u001b[38;5;167;01mEOFError\u001b[39;00m\n\u001b[1;32m   1212\u001b[0m         \u001b[38;5;28;01massert\u001b[39;00m \u001b[38;5;28misinstance\u001b[39m(key, bytes_types)\n\u001b[0;32m-> 1213\u001b[0m         dispatch[key[\u001b[38;5;241m0\u001b[39m]](\u001b[38;5;28mself\u001b[39m)\n\u001b[1;32m   1214\u001b[0m \u001b[38;5;28;01mexcept\u001b[39;00m _Stop \u001b[38;5;28;01mas\u001b[39;00m stopinst:\n\u001b[1;32m   1215\u001b[0m     \u001b[38;5;28;01mreturn\u001b[39;00m stopinst\u001b[38;5;241m.\u001b[39mvalue\n",
      "File \u001b[0;32m~/anaconda3/envs/reu/lib/python3.11/pickle.py:1590\u001b[0m, in \u001b[0;36m_Unpickler.load_reduce\u001b[0;34m(self)\u001b[0m\n\u001b[1;32m   1588\u001b[0m args \u001b[38;5;241m=\u001b[39m stack\u001b[38;5;241m.\u001b[39mpop()\n\u001b[1;32m   1589\u001b[0m func \u001b[38;5;241m=\u001b[39m stack[\u001b[38;5;241m-\u001b[39m\u001b[38;5;241m1\u001b[39m]\n\u001b[0;32m-> 1590\u001b[0m stack[\u001b[38;5;241m-\u001b[39m\u001b[38;5;241m1\u001b[39m] \u001b[38;5;241m=\u001b[39m func(\u001b[38;5;241m*\u001b[39margs)\n",
      "File \u001b[0;32m~/anaconda3/envs/reu/lib/python3.11/site-packages/torch/storage.py:381\u001b[0m, in \u001b[0;36m_load_from_bytes\u001b[0;34m(b)\u001b[0m\n\u001b[1;32m    380\u001b[0m \u001b[38;5;28;01mdef\u001b[39;00m \u001b[38;5;21m_load_from_bytes\u001b[39m(b):\n\u001b[0;32m--> 381\u001b[0m     \u001b[38;5;28;01mreturn\u001b[39;00m torch\u001b[38;5;241m.\u001b[39mload(io\u001b[38;5;241m.\u001b[39mBytesIO(b))\n",
      "File \u001b[0;32m~/anaconda3/envs/reu/lib/python3.11/site-packages/torch/serialization.py:1040\u001b[0m, in \u001b[0;36mload\u001b[0;34m(f, map_location, pickle_module, weights_only, mmap, **pickle_load_args)\u001b[0m\n\u001b[1;32m   1038\u001b[0m     \u001b[38;5;28;01mexcept\u001b[39;00m \u001b[38;5;167;01mRuntimeError\u001b[39;00m \u001b[38;5;28;01mas\u001b[39;00m e:\n\u001b[1;32m   1039\u001b[0m         \u001b[38;5;28;01mraise\u001b[39;00m pickle\u001b[38;5;241m.\u001b[39mUnpicklingError(UNSAFE_MESSAGE \u001b[38;5;241m+\u001b[39m \u001b[38;5;28mstr\u001b[39m(e)) \u001b[38;5;28;01mfrom\u001b[39;00m \u001b[38;5;28;01mNone\u001b[39;00m\n\u001b[0;32m-> 1040\u001b[0m \u001b[38;5;28;01mreturn\u001b[39;00m _legacy_load(opened_file, map_location, pickle_module, \u001b[38;5;241m*\u001b[39m\u001b[38;5;241m*\u001b[39mpickle_load_args)\n",
      "File \u001b[0;32m~/anaconda3/envs/reu/lib/python3.11/site-packages/torch/serialization.py:1272\u001b[0m, in \u001b[0;36m_legacy_load\u001b[0;34m(f, map_location, pickle_module, **pickle_load_args)\u001b[0m\n\u001b[1;32m   1270\u001b[0m unpickler \u001b[38;5;241m=\u001b[39m UnpicklerWrapper(f, \u001b[38;5;241m*\u001b[39m\u001b[38;5;241m*\u001b[39mpickle_load_args)\n\u001b[1;32m   1271\u001b[0m unpickler\u001b[38;5;241m.\u001b[39mpersistent_load \u001b[38;5;241m=\u001b[39m persistent_load\n\u001b[0;32m-> 1272\u001b[0m result \u001b[38;5;241m=\u001b[39m unpickler\u001b[38;5;241m.\u001b[39mload()\n\u001b[1;32m   1274\u001b[0m deserialized_storage_keys \u001b[38;5;241m=\u001b[39m pickle_module\u001b[38;5;241m.\u001b[39mload(f, \u001b[38;5;241m*\u001b[39m\u001b[38;5;241m*\u001b[39mpickle_load_args)\n\u001b[1;32m   1276\u001b[0m \u001b[38;5;28;01mif\u001b[39;00m torch\u001b[38;5;241m.\u001b[39m_guards\u001b[38;5;241m.\u001b[39mactive_fake_mode() \u001b[38;5;129;01mis\u001b[39;00m \u001b[38;5;28;01mNone\u001b[39;00m:\n",
      "File \u001b[0;32m~/anaconda3/envs/reu/lib/python3.11/site-packages/torch/serialization.py:1205\u001b[0m, in \u001b[0;36m_legacy_load.<locals>.persistent_load\u001b[0;34m(saved_id)\u001b[0m\n\u001b[1;32m   1203\u001b[0m     obj \u001b[38;5;241m=\u001b[39m cast(Storage, torch\u001b[38;5;241m.\u001b[39mUntypedStorage(nbytes))\n\u001b[1;32m   1204\u001b[0m     obj\u001b[38;5;241m.\u001b[39m_torch_load_uninitialized \u001b[38;5;241m=\u001b[39m \u001b[38;5;28;01mTrue\u001b[39;00m\n\u001b[0;32m-> 1205\u001b[0m     obj \u001b[38;5;241m=\u001b[39m restore_location(obj, location)\n\u001b[1;32m   1206\u001b[0m \u001b[38;5;66;03m# TODO: Once we decide to break serialization FC, we can\u001b[39;00m\n\u001b[1;32m   1207\u001b[0m \u001b[38;5;66;03m# stop wrapping with TypedStorage\u001b[39;00m\n\u001b[1;32m   1208\u001b[0m typed_storage \u001b[38;5;241m=\u001b[39m torch\u001b[38;5;241m.\u001b[39mstorage\u001b[38;5;241m.\u001b[39mTypedStorage(\n\u001b[1;32m   1209\u001b[0m     wrap_storage\u001b[38;5;241m=\u001b[39mobj,\n\u001b[1;32m   1210\u001b[0m     dtype\u001b[38;5;241m=\u001b[39mdtype,\n\u001b[1;32m   1211\u001b[0m     _internal\u001b[38;5;241m=\u001b[39m\u001b[38;5;28;01mTrue\u001b[39;00m)\n",
      "File \u001b[0;32m~/anaconda3/envs/reu/lib/python3.11/site-packages/torch/serialization.py:390\u001b[0m, in \u001b[0;36mdefault_restore_location\u001b[0;34m(storage, location)\u001b[0m\n\u001b[1;32m    388\u001b[0m \u001b[38;5;28;01mdef\u001b[39;00m \u001b[38;5;21mdefault_restore_location\u001b[39m(storage, location):\n\u001b[1;32m    389\u001b[0m     \u001b[38;5;28;01mfor\u001b[39;00m _, _, fn \u001b[38;5;129;01min\u001b[39;00m _package_registry:\n\u001b[0;32m--> 390\u001b[0m         result \u001b[38;5;241m=\u001b[39m fn(storage, location)\n\u001b[1;32m    391\u001b[0m         \u001b[38;5;28;01mif\u001b[39;00m result \u001b[38;5;129;01mis\u001b[39;00m \u001b[38;5;129;01mnot\u001b[39;00m \u001b[38;5;28;01mNone\u001b[39;00m:\n\u001b[1;32m    392\u001b[0m             \u001b[38;5;28;01mreturn\u001b[39;00m result\n",
      "File \u001b[0;32m~/anaconda3/envs/reu/lib/python3.11/site-packages/torch/serialization.py:265\u001b[0m, in \u001b[0;36m_cuda_deserialize\u001b[0;34m(obj, location)\u001b[0m\n\u001b[1;32m    263\u001b[0m \u001b[38;5;28;01mdef\u001b[39;00m \u001b[38;5;21m_cuda_deserialize\u001b[39m(obj, location):\n\u001b[1;32m    264\u001b[0m     \u001b[38;5;28;01mif\u001b[39;00m location\u001b[38;5;241m.\u001b[39mstartswith(\u001b[38;5;124m'\u001b[39m\u001b[38;5;124mcuda\u001b[39m\u001b[38;5;124m'\u001b[39m):\n\u001b[0;32m--> 265\u001b[0m         device \u001b[38;5;241m=\u001b[39m validate_cuda_device(location)\n\u001b[1;32m    266\u001b[0m         \u001b[38;5;28;01mif\u001b[39;00m \u001b[38;5;28mgetattr\u001b[39m(obj, \u001b[38;5;124m\"\u001b[39m\u001b[38;5;124m_torch_load_uninitialized\u001b[39m\u001b[38;5;124m\"\u001b[39m, \u001b[38;5;28;01mFalse\u001b[39;00m):\n\u001b[1;32m    267\u001b[0m             \u001b[38;5;28;01mwith\u001b[39;00m torch\u001b[38;5;241m.\u001b[39mcuda\u001b[38;5;241m.\u001b[39mdevice(device):\n",
      "File \u001b[0;32m~/anaconda3/envs/reu/lib/python3.11/site-packages/torch/serialization.py:249\u001b[0m, in \u001b[0;36mvalidate_cuda_device\u001b[0;34m(location)\u001b[0m\n\u001b[1;32m    246\u001b[0m device \u001b[38;5;241m=\u001b[39m torch\u001b[38;5;241m.\u001b[39mcuda\u001b[38;5;241m.\u001b[39m_utils\u001b[38;5;241m.\u001b[39m_get_device_index(location, \u001b[38;5;28;01mTrue\u001b[39;00m)\n\u001b[1;32m    248\u001b[0m \u001b[38;5;28;01mif\u001b[39;00m \u001b[38;5;129;01mnot\u001b[39;00m torch\u001b[38;5;241m.\u001b[39mcuda\u001b[38;5;241m.\u001b[39mis_available():\n\u001b[0;32m--> 249\u001b[0m     \u001b[38;5;28;01mraise\u001b[39;00m \u001b[38;5;167;01mRuntimeError\u001b[39;00m(\u001b[38;5;124m'\u001b[39m\u001b[38;5;124mAttempting to deserialize object on a CUDA \u001b[39m\u001b[38;5;124m'\u001b[39m\n\u001b[1;32m    250\u001b[0m                        \u001b[38;5;124m'\u001b[39m\u001b[38;5;124mdevice but torch.cuda.is_available() is False. \u001b[39m\u001b[38;5;124m'\u001b[39m\n\u001b[1;32m    251\u001b[0m                        \u001b[38;5;124m'\u001b[39m\u001b[38;5;124mIf you are running on a CPU-only machine, \u001b[39m\u001b[38;5;124m'\u001b[39m\n\u001b[1;32m    252\u001b[0m                        \u001b[38;5;124m'\u001b[39m\u001b[38;5;124mplease use torch.load with map_location=torch.device(\u001b[39m\u001b[38;5;130;01m\\'\u001b[39;00m\u001b[38;5;124mcpu\u001b[39m\u001b[38;5;130;01m\\'\u001b[39;00m\u001b[38;5;124m) \u001b[39m\u001b[38;5;124m'\u001b[39m\n\u001b[1;32m    253\u001b[0m                        \u001b[38;5;124m'\u001b[39m\u001b[38;5;124mto map your storages to the CPU.\u001b[39m\u001b[38;5;124m'\u001b[39m)\n\u001b[1;32m    254\u001b[0m device_count \u001b[38;5;241m=\u001b[39m torch\u001b[38;5;241m.\u001b[39mcuda\u001b[38;5;241m.\u001b[39mdevice_count()\n\u001b[1;32m    255\u001b[0m \u001b[38;5;28;01mif\u001b[39;00m device \u001b[38;5;241m>\u001b[39m\u001b[38;5;241m=\u001b[39m device_count:\n",
      "\u001b[0;31mRuntimeError\u001b[0m: Attempting to deserialize object on a CUDA device but torch.cuda.is_available() is False. If you are running on a CPU-only machine, please use torch.load with map_location=torch.device('cpu') to map your storages to the CPU."
     ]
    }
   ],
   "source": [
    "with tf.device('/cpu:0'):\n",
    "    BerTopic(CNNtestset, 'BertTopics')"
   ]
  },
  {
   "cell_type": "code",
   "execution_count": 179,
   "id": "5346aaf3-2a90-4dbc-83ca-b35339e778af",
   "metadata": {},
   "outputs": [
    {
     "data": {
      "text/plain": [
       "85156"
      ]
     },
     "execution_count": 179,
     "metadata": {},
     "output_type": "execute_result"
    }
   ],
   "source": [
    "len(fulldata)"
   ]
  },
  {
   "cell_type": "code",
   "execution_count": null,
   "id": "656e8241-49e3-429f-af07-7779abde9db1",
   "metadata": {},
   "outputs": [],
   "source": []
  }
 ],
 "metadata": {
  "kernelspec": {
   "display_name": "Python 3 (ipykernel)",
   "language": "python",
   "name": "python3"
  },
  "language_info": {
   "codemirror_mode": {
    "name": "ipython",
    "version": 3
   },
   "file_extension": ".py",
   "mimetype": "text/x-python",
   "name": "python",
   "nbconvert_exporter": "python",
   "pygments_lexer": "ipython3",
   "version": "3.11.9"
  }
 },
 "nbformat": 4,
 "nbformat_minor": 5
}

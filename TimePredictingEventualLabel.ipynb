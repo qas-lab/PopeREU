{
 "cells": [
  {
   "cell_type": "code",
   "execution_count": 10,
   "id": "71f33e61-e0d6-46b6-aca6-174bfbd21e6e",
   "metadata": {},
   "outputs": [],
   "source": [
    "%%capture\n",
    "import pandas as pd\n",
    "import zipfile\n",
    "!pip install torch\n",
    "from sklearn.feature_extraction.text import CountVectorizer\n",
    "from sklearn.naive_bayes import MultinomialNB\n",
    "from sklearn.model_selection import train_test_split\n",
    "from sklearn.metrics import accuracy_score, classification_report\n",
    "from sklearn.svm import SVC\n",
    "from sklearn.feature_extraction.text import TfidfVectorizer\n",
    "from sklearn.neural_network import MLPClassifier\n",
    "import torch\n",
    "\n",
    "df = pd.read_csv(zipfile.ZipFile('sentiAnalysis.zip').open('sentiAnalysis.csv'))"
   ]
  },
  {
   "cell_type": "code",
   "execution_count": 13,
   "id": "0f375837-14c6-47bd-ae07-1bb0c36bb3d8",
   "metadata": {},
   "outputs": [],
   "source": [
    "def categorize_label(label):\n",
    "    if 'FIXED' in label.upper():  # Convert to uppercase and check for 'FIXED'\n",
    "        return 'FIXED'\n",
    "    else:\n",
    "        return 'NOTFIXED'\n",
    "\n",
    "df['eventual'] = df['Resolution'].apply(categorize_label)"
   ]
  },
  {
   "cell_type": "code",
   "execution_count": 3,
   "id": "24c8c4c6-fd94-4fb3-a3bf-e0d8e29427bc",
   "metadata": {},
   "outputs": [
    {
     "data": {
      "text/html": [
       "<div>\n",
       "<style scoped>\n",
       "    .dataframe tbody tr th:only-of-type {\n",
       "        vertical-align: middle;\n",
       "    }\n",
       "\n",
       "    .dataframe tbody tr th {\n",
       "        vertical-align: top;\n",
       "    }\n",
       "\n",
       "    .dataframe thead th {\n",
       "        text-align: right;\n",
       "    }\n",
       "</style>\n",
       "<table border=\"1\" class=\"dataframe\">\n",
       "  <thead>\n",
       "    <tr style=\"text-align: right;\">\n",
       "      <th></th>\n",
       "      <th>Issue_id</th>\n",
       "      <th>Priority</th>\n",
       "      <th>Component</th>\n",
       "      <th>Duplicated_issue</th>\n",
       "      <th>Title</th>\n",
       "      <th>Description</th>\n",
       "      <th>Status</th>\n",
       "      <th>Resolution</th>\n",
       "      <th>Version</th>\n",
       "      <th>Created_time</th>\n",
       "      <th>Resolved_time</th>\n",
       "      <th>Duration_hours</th>\n",
       "      <th>label</th>\n",
       "      <th>Pos_Score</th>\n",
       "      <th>Neg_Score</th>\n",
       "      <th>emotion</th>\n",
       "      <th>Emotionality</th>\n",
       "      <th>eventual</th>\n",
       "    </tr>\n",
       "  </thead>\n",
       "  <tbody>\n",
       "    <tr>\n",
       "      <th>0</th>\n",
       "      <td>1</td>\n",
       "      <td>P3</td>\n",
       "      <td>Team</td>\n",
       "      <td>NaN</td>\n",
       "      <td>Usability issue with external editors (1GE6IRL)</td>\n",
       "      <td>- setup project contain * .gif resource ; - re...</td>\n",
       "      <td>CLOSED</td>\n",
       "      <td>FIXED</td>\n",
       "      <td>2.0</td>\n",
       "      <td>2001-10-11 01:34:00+00:00</td>\n",
       "      <td>2012-02-09 20:57:47+00:00</td>\n",
       "      <td>90571.383333</td>\n",
       "      <td>long</td>\n",
       "      <td>0.051768</td>\n",
       "      <td>0.065657</td>\n",
       "      <td>negative</td>\n",
       "      <td>0.117424</td>\n",
       "      <td>FIXED</td>\n",
       "    </tr>\n",
       "    <tr>\n",
       "      <th>1</th>\n",
       "      <td>2</td>\n",
       "      <td>P5</td>\n",
       "      <td>Team</td>\n",
       "      <td>NaN</td>\n",
       "      <td>Opening repository resources doesnt honor type...</td>\n",
       "      <td>open repository resource always open default t...</td>\n",
       "      <td>RESOLVED</td>\n",
       "      <td>FIXED</td>\n",
       "      <td>2.0</td>\n",
       "      <td>2001-10-11 01:34:00+00:00</td>\n",
       "      <td>2002-05-07 14:33:56+00:00</td>\n",
       "      <td>5004.983333</td>\n",
       "      <td>short</td>\n",
       "      <td>0.020833</td>\n",
       "      <td>0.056818</td>\n",
       "      <td>negative</td>\n",
       "      <td>0.077652</td>\n",
       "      <td>FIXED</td>\n",
       "    </tr>\n",
       "    <tr>\n",
       "      <th>2</th>\n",
       "      <td>3</td>\n",
       "      <td>P5</td>\n",
       "      <td>Team</td>\n",
       "      <td>NaN</td>\n",
       "      <td>Sync does not indicate deletion (1GIEN83)</td>\n",
       "      <td>km ( 10/2/2001 5:55:18 pm ) ; pr deletion indi...</td>\n",
       "      <td>RESOLVED</td>\n",
       "      <td>FIXED</td>\n",
       "      <td>2.0</td>\n",
       "      <td>2001-10-11 01:34:00+00:00</td>\n",
       "      <td>2010-05-07 14:28:53+00:00</td>\n",
       "      <td>75132.900000</td>\n",
       "      <td>long</td>\n",
       "      <td>0.086364</td>\n",
       "      <td>0.036364</td>\n",
       "      <td>positive</td>\n",
       "      <td>0.122727</td>\n",
       "      <td>FIXED</td>\n",
       "    </tr>\n",
       "    <tr>\n",
       "      <th>3</th>\n",
       "      <td>4</td>\n",
       "      <td>P5</td>\n",
       "      <td>Team</td>\n",
       "      <td>NaN</td>\n",
       "      <td>need better error message if catching up over ...</td>\n",
       "      <td>- become synchronize project repository ; - us...</td>\n",
       "      <td>RESOLVED</td>\n",
       "      <td>FIXED</td>\n",
       "      <td>2.0</td>\n",
       "      <td>2001-10-11 01:34:00+00:00</td>\n",
       "      <td>2002-03-01 21:27:31+00:00</td>\n",
       "      <td>3403.883333</td>\n",
       "      <td>short</td>\n",
       "      <td>0.049342</td>\n",
       "      <td>0.092105</td>\n",
       "      <td>negative</td>\n",
       "      <td>0.141447</td>\n",
       "      <td>FIXED</td>\n",
       "    </tr>\n",
       "    <tr>\n",
       "      <th>4</th>\n",
       "      <td>5</td>\n",
       "      <td>P3</td>\n",
       "      <td>Team</td>\n",
       "      <td>NaN</td>\n",
       "      <td>ISharingManager sharing API inconsistent (1GAU...</td>\n",
       "      <td>getting/setting manage state resource ; method...</td>\n",
       "      <td>RESOLVED</td>\n",
       "      <td>WONTFIX</td>\n",
       "      <td>2.0</td>\n",
       "      <td>2001-10-11 01:34:00+00:00</td>\n",
       "      <td>2008-08-15 12:04:36+00:00</td>\n",
       "      <td>60010.500000</td>\n",
       "      <td>long</td>\n",
       "      <td>0.085227</td>\n",
       "      <td>0.005682</td>\n",
       "      <td>positive</td>\n",
       "      <td>0.090909</td>\n",
       "      <td>NOTFIXED</td>\n",
       "    </tr>\n",
       "    <tr>\n",
       "      <th>...</th>\n",
       "      <td>...</td>\n",
       "      <td>...</td>\n",
       "      <td>...</td>\n",
       "      <td>...</td>\n",
       "      <td>...</td>\n",
       "      <td>...</td>\n",
       "      <td>...</td>\n",
       "      <td>...</td>\n",
       "      <td>...</td>\n",
       "      <td>...</td>\n",
       "      <td>...</td>\n",
       "      <td>...</td>\n",
       "      <td>...</td>\n",
       "      <td>...</td>\n",
       "      <td>...</td>\n",
       "      <td>...</td>\n",
       "      <td>...</td>\n",
       "      <td>...</td>\n",
       "    </tr>\n",
       "    <tr>\n",
       "      <th>68119</th>\n",
       "      <td>229777</td>\n",
       "      <td>P3</td>\n",
       "      <td>UI</td>\n",
       "      <td>NaN</td>\n",
       "      <td>[Viewers] Wrong argument in the first statemen...</td>\n",
       "      <td>build id : 3.3 ( i sure mean build id ; 3.3 ec...</td>\n",
       "      <td>RESOLVED</td>\n",
       "      <td>FIXED</td>\n",
       "      <td>3.3</td>\n",
       "      <td>2008-05-01 13:47:00+00:00</td>\n",
       "      <td>2008-05-10 14:06:07+00:00</td>\n",
       "      <td>216.316667</td>\n",
       "      <td>short</td>\n",
       "      <td>0.064024</td>\n",
       "      <td>0.027439</td>\n",
       "      <td>positive</td>\n",
       "      <td>0.091463</td>\n",
       "      <td>FIXED</td>\n",
       "    </tr>\n",
       "    <tr>\n",
       "      <th>68120</th>\n",
       "      <td>229779</td>\n",
       "      <td>P3</td>\n",
       "      <td>UI</td>\n",
       "      <td>NaN</td>\n",
       "      <td>NPE in performance tests</td>\n",
       "      <td>several npes within ui session test prevent ru...</td>\n",
       "      <td>VERIFIED</td>\n",
       "      <td>FIXED</td>\n",
       "      <td>3.4</td>\n",
       "      <td>2008-05-01 13:52:00+00:00</td>\n",
       "      <td>2008-05-20 14:12:14+00:00</td>\n",
       "      <td>456.333333</td>\n",
       "      <td>short</td>\n",
       "      <td>0.033333</td>\n",
       "      <td>0.033333</td>\n",
       "      <td>negative</td>\n",
       "      <td>0.066667</td>\n",
       "      <td>FIXED</td>\n",
       "    </tr>\n",
       "    <tr>\n",
       "      <th>68121</th>\n",
       "      <td>229782</td>\n",
       "      <td>P3</td>\n",
       "      <td>UI</td>\n",
       "      <td>NaN</td>\n",
       "      <td>Performance tests for ICU Collator</td>\n",
       "      <td>i20080501-0100 ; ; use collator ( see dependan...</td>\n",
       "      <td>VERIFIED</td>\n",
       "      <td>FIXED</td>\n",
       "      <td>3.4</td>\n",
       "      <td>2008-05-01 14:05:00+00:00</td>\n",
       "      <td>2009-06-01 18:25:12+00:00</td>\n",
       "      <td>9508.333333</td>\n",
       "      <td>long</td>\n",
       "      <td>0.025000</td>\n",
       "      <td>0.000000</td>\n",
       "      <td>positive</td>\n",
       "      <td>0.025000</td>\n",
       "      <td>FIXED</td>\n",
       "    </tr>\n",
       "    <tr>\n",
       "      <th>68122</th>\n",
       "      <td>229789</td>\n",
       "      <td>P3</td>\n",
       "      <td>UI</td>\n",
       "      <td>NaN</td>\n",
       "      <td>[Examples] examples plugins create duplicate m...</td>\n",
       "      <td>create attachment 98318 ; screenshot ; ; i2008...</td>\n",
       "      <td>VERIFIED</td>\n",
       "      <td>FIXED</td>\n",
       "      <td>3.4</td>\n",
       "      <td>2008-05-01 15:02:00+00:00</td>\n",
       "      <td>2008-05-31 01:57:57+00:00</td>\n",
       "      <td>706.916667</td>\n",
       "      <td>short</td>\n",
       "      <td>0.092105</td>\n",
       "      <td>0.013158</td>\n",
       "      <td>positive</td>\n",
       "      <td>0.105263</td>\n",
       "      <td>FIXED</td>\n",
       "    </tr>\n",
       "    <tr>\n",
       "      <th>68123</th>\n",
       "      <td>229792</td>\n",
       "      <td>P3</td>\n",
       "      <td>Team</td>\n",
       "      <td>NaN</td>\n",
       "      <td>Collapse All and Expand All buttons are separated</td>\n",
       "      <td>build id : m20080221-1800 ; ; step reproduce :...</td>\n",
       "      <td>RESOLVED</td>\n",
       "      <td>NOT_ECLIPSE</td>\n",
       "      <td>3.3.2</td>\n",
       "      <td>2008-05-01 15:20:00+00:00</td>\n",
       "      <td>2008-05-07 11:06:41+00:00</td>\n",
       "      <td>139.766667</td>\n",
       "      <td>short</td>\n",
       "      <td>0.040000</td>\n",
       "      <td>0.090000</td>\n",
       "      <td>negative</td>\n",
       "      <td>0.130000</td>\n",
       "      <td>NOTFIXED</td>\n",
       "    </tr>\n",
       "  </tbody>\n",
       "</table>\n",
       "<p>68124 rows × 18 columns</p>\n",
       "</div>"
      ],
      "text/plain": [
       "       Issue_id Priority Component  Duplicated_issue  \\\n",
       "0             1       P3      Team               NaN   \n",
       "1             2       P5      Team               NaN   \n",
       "2             3       P5      Team               NaN   \n",
       "3             4       P5      Team               NaN   \n",
       "4             5       P3      Team               NaN   \n",
       "...         ...      ...       ...               ...   \n",
       "68119    229777       P3        UI               NaN   \n",
       "68120    229779       P3        UI               NaN   \n",
       "68121    229782       P3        UI               NaN   \n",
       "68122    229789       P3        UI               NaN   \n",
       "68123    229792       P3      Team               NaN   \n",
       "\n",
       "                                                   Title  \\\n",
       "0        Usability issue with external editors (1GE6IRL)   \n",
       "1      Opening repository resources doesnt honor type...   \n",
       "2              Sync does not indicate deletion (1GIEN83)   \n",
       "3      need better error message if catching up over ...   \n",
       "4      ISharingManager sharing API inconsistent (1GAU...   \n",
       "...                                                  ...   \n",
       "68119  [Viewers] Wrong argument in the first statemen...   \n",
       "68120                           NPE in performance tests   \n",
       "68121                 Performance tests for ICU Collator   \n",
       "68122  [Examples] examples plugins create duplicate m...   \n",
       "68123  Collapse All and Expand All buttons are separated   \n",
       "\n",
       "                                             Description    Status  \\\n",
       "0      - setup project contain * .gif resource ; - re...    CLOSED   \n",
       "1      open repository resource always open default t...  RESOLVED   \n",
       "2      km ( 10/2/2001 5:55:18 pm ) ; pr deletion indi...  RESOLVED   \n",
       "3      - become synchronize project repository ; - us...  RESOLVED   \n",
       "4      getting/setting manage state resource ; method...  RESOLVED   \n",
       "...                                                  ...       ...   \n",
       "68119  build id : 3.3 ( i sure mean build id ; 3.3 ec...  RESOLVED   \n",
       "68120  several npes within ui session test prevent ru...  VERIFIED   \n",
       "68121  i20080501-0100 ; ; use collator ( see dependan...  VERIFIED   \n",
       "68122  create attachment 98318 ; screenshot ; ; i2008...  VERIFIED   \n",
       "68123  build id : m20080221-1800 ; ; step reproduce :...  RESOLVED   \n",
       "\n",
       "        Resolution Version               Created_time  \\\n",
       "0            FIXED     2.0  2001-10-11 01:34:00+00:00   \n",
       "1            FIXED     2.0  2001-10-11 01:34:00+00:00   \n",
       "2            FIXED     2.0  2001-10-11 01:34:00+00:00   \n",
       "3            FIXED     2.0  2001-10-11 01:34:00+00:00   \n",
       "4          WONTFIX     2.0  2001-10-11 01:34:00+00:00   \n",
       "...            ...     ...                        ...   \n",
       "68119        FIXED     3.3  2008-05-01 13:47:00+00:00   \n",
       "68120        FIXED     3.4  2008-05-01 13:52:00+00:00   \n",
       "68121        FIXED     3.4  2008-05-01 14:05:00+00:00   \n",
       "68122        FIXED     3.4  2008-05-01 15:02:00+00:00   \n",
       "68123  NOT_ECLIPSE   3.3.2  2008-05-01 15:20:00+00:00   \n",
       "\n",
       "                   Resolved_time  Duration_hours  label  Pos_Score  Neg_Score  \\\n",
       "0      2012-02-09 20:57:47+00:00    90571.383333   long   0.051768   0.065657   \n",
       "1      2002-05-07 14:33:56+00:00     5004.983333  short   0.020833   0.056818   \n",
       "2      2010-05-07 14:28:53+00:00    75132.900000   long   0.086364   0.036364   \n",
       "3      2002-03-01 21:27:31+00:00     3403.883333  short   0.049342   0.092105   \n",
       "4      2008-08-15 12:04:36+00:00    60010.500000   long   0.085227   0.005682   \n",
       "...                          ...             ...    ...        ...        ...   \n",
       "68119  2008-05-10 14:06:07+00:00      216.316667  short   0.064024   0.027439   \n",
       "68120  2008-05-20 14:12:14+00:00      456.333333  short   0.033333   0.033333   \n",
       "68121  2009-06-01 18:25:12+00:00     9508.333333   long   0.025000   0.000000   \n",
       "68122  2008-05-31 01:57:57+00:00      706.916667  short   0.092105   0.013158   \n",
       "68123  2008-05-07 11:06:41+00:00      139.766667  short   0.040000   0.090000   \n",
       "\n",
       "        emotion  Emotionality  eventual  \n",
       "0      negative      0.117424     FIXED  \n",
       "1      negative      0.077652     FIXED  \n",
       "2      positive      0.122727     FIXED  \n",
       "3      negative      0.141447     FIXED  \n",
       "4      positive      0.090909  NOTFIXED  \n",
       "...         ...           ...       ...  \n",
       "68119  positive      0.091463     FIXED  \n",
       "68120  negative      0.066667     FIXED  \n",
       "68121  positive      0.025000     FIXED  \n",
       "68122  positive      0.105263     FIXED  \n",
       "68123  negative      0.130000  NOTFIXED  \n",
       "\n",
       "[68124 rows x 18 columns]"
      ]
     },
     "execution_count": 3,
     "metadata": {},
     "output_type": "execute_result"
    }
   ],
   "source": [
    "df"
   ]
  },
  {
   "cell_type": "code",
   "execution_count": 21,
   "id": "6b4b4c31-3d44-43b0-b6ed-d53d09b5db57",
   "metadata": {},
   "outputs": [],
   "source": [
    "def SVMmodel(df, feature_cols, target_col, test_size=0.2, random_state=42):\n",
    "    # Fill missing values in feature columns\n",
    "    df[feature_cols] = df[feature_cols].fillna(' ')\n",
    "\n",
    "    # Combine feature columns into a single column for vectorization\n",
    "    df['combined'] = df[feature_cols].apply(lambda row: ' '.join(row.values.astype(str)), axis=1)\n",
    "\n",
    "    # Encode the combined text column\n",
    "    vectorizer = CountVectorizer()\n",
    "    X = vectorizer.fit_transform(df['combined'])\n",
    "\n",
    "    # Encode the target column\n",
    "    y = df[target_col]\n",
    "\n",
    "    # Ensure X and y have the same length\n",
    "    assert X.shape[0] == len(y), \"Features and labels have inconsistent lengths.\"\n",
    "\n",
    "    # Split the data into training and testing sets\n",
    "    X_train, X_test, y_train, y_test = train_test_split(X, y, test_size=test_size, random_state=random_state)\n",
    "\n",
    "    # Initialize and train the SVM model\n",
    "    model = SVC()\n",
    "    model.fit(X_train, y_train)\n",
    "    # Make predictions\n",
    "    y_pred = model.predict(X_test)\n",
    "    # Evaluate the model\n",
    "    accuracy = accuracy_score(y_test, y_pred)\n",
    "    report = classification_report(y_test, y_pred)\n",
    "    \n",
    "    print(f'Accuracy: {accuracy}')\n",
    "    print('Classification Report:')\n",
    "    print(report)\n",
    "    \n",
    "    return accuracy, report, model\n"
   ]
  },
  {
   "cell_type": "code",
   "execution_count": 9,
   "id": "0cd13c26-bb6b-4a6e-80d4-f056767aa256",
   "metadata": {},
   "outputs": [],
   "source": [
    "def MLPmodel(df, input_columns, target_column, test_size=0.25, max_features=1000, hidden_layer_sizes=(64, 32), activation='relu', max_iter=100, random_state=42):\n",
    "    \"\"\"\n",
    "    Train and evaluate a neural network model on the provided DataFrame.\n",
    "    \n",
    "    Parameters:\n",
    "    - df: DataFrame containing the data.\n",
    "    - input_columns: List of column names to be used as input features.\n",
    "    - target_column: Name of the column to be used as the target variable.\n",
    "    - test_size: Proportion of the dataset to include in the test split.\n",
    "    - max_features: Maximum number of features for TF-IDF vectorization.\n",
    "    - hidden_layer_sizes: The ith element represents the number of neurons in the ith hidden layer.\n",
    "    - activation: Activation function for the hidden layer.\n",
    "    - max_iter: Maximum number of iterations for training the neural network.\n",
    "    - random_state: Seed used by the random number generator.\n",
    "    \n",
    "    Returns:\n",
    "    - accuracy: Test accuracy of the trained model.\n",
    "    \"\"\"\n",
    "    # Fill NaN values with a space\n",
    "    \n",
    "    df.fillna(' ', inplace=True)\n",
    "    \n",
    "    # Concatenate input columns to form the feature set\n",
    "    X = df[input_columns].apply(lambda row: ' '.join(row.values.astype(str)), axis=1)\n",
    "    y = df[target_column]  # Target variable\n",
    "\n",
    "    # Split the data\n",
    "    X_train, X_test, y_train, y_test = train_test_split(X, y, test_size=test_size, random_state=random_state)\n",
    "\n",
    "    # Vectorize the text data\n",
    "    vectorizer = TfidfVectorizer(max_features=max_features)\n",
    "    X_train_vec = vectorizer.fit_transform(X_train)\n",
    "    X_test_vec = vectorizer.transform(X_test)\n",
    "\n",
    "    # Initialize and train the MLPClassifier\n",
    "    model = MLPClassifier(hidden_layer_sizes=hidden_layer_sizes, activation=activation, max_iter=max_iter, random_state=random_state)\n",
    "    model.fit(X_train_vec, y_train)\n",
    "\n",
    "    # Make predictions on the test set\n",
    "    y_pred = model.predict(X_test_vec)\n",
    "\n",
    "    # Evaluate the model\n",
    "    accuracy = accuracy_score(y_test, y_pred)\n",
    "    print(\"Test Accuracy:\", accuracy)\n"
   ]
  },
  {
   "cell_type": "code",
   "execution_count": 5,
   "id": "7d70b891-b6fc-4a1a-b1b2-bff8da57617b",
   "metadata": {},
   "outputs": [],
   "source": [
    "##Creating a function to train a naive bayes\n",
    "def NBmodel(df, feature_cols, target_col, test_size=0.2, random_state=42):\n",
    "\n",
    "\n",
    "    # Fill missing values in feature columns\n",
    "    df[feature_cols] = df[feature_cols].fillna(' ')\n",
    "\n",
    "    # Combine feature columns into a single column for vectorization\n",
    "    df['combined'] = df[feature_cols].apply(lambda row: ' '.join(row.values.astype(str)), axis=1)\n",
    "\n",
    "    # Encode the combined text column\n",
    "    vectorizer = CountVectorizer()\n",
    "    X = vectorizer.fit_transform(df['combined'])\n",
    "\n",
    "    # Encode the target column\n",
    "    y = df[target_col]\n",
    "\n",
    "    # Ensure X and y have the same length\n",
    "    assert X.shape[0] == len(y), \"Features and labels have inconsistent lengths.\"\n",
    "\n",
    "    # Split the data into training and testing sets\n",
    "    X_train, X_test, y_train, y_test = train_test_split(X, y, test_size=test_size, random_state=random_state)\n",
    "\n",
    "    # Initialize and train the Naive Bayes model\n",
    "    model = MultinomialNB()\n",
    "    model.fit(X_train, y_train)\n",
    "\n",
    "    # Make predictions\n",
    "    y_pred = model.predict(X_test)\n",
    "\n",
    "    # Evaluate the model\n",
    "    accuracy = accuracy_score(y_test, y_pred)\n",
    "    report = classification_report(y_test, y_pred)\n",
    "    \n",
    "    print(f'Accuracy: {accuracy}')\n",
    "    print('Classification Report:')\n",
    "    print(report)\n",
    "    \n",
    "    return accuracy, report"
   ]
  },
  {
   "cell_type": "code",
   "execution_count": 14,
   "id": "31061585-8522-4207-be4c-860d4315367b",
   "metadata": {
    "scrolled": true
   },
   "outputs": [
    {
     "ename": "NameError",
     "evalue": "name '_C' is not defined",
     "output_type": "error",
     "traceback": [
      "\u001b[0;31m---------------------------------------------------------------------------\u001b[0m",
      "\u001b[0;31mNameError\u001b[0m                                 Traceback (most recent call last)",
      "Cell \u001b[0;32mIn[14], line 1\u001b[0m\n\u001b[0;32m----> 1\u001b[0m \u001b[38;5;28;01mimport\u001b[39;00m \u001b[38;5;21;01mtorch\u001b[39;00m\n\u001b[1;32m      2\u001b[0m \u001b[38;5;28;01mif\u001b[39;00m torch\u001b[38;5;241m.\u001b[39mcuda\u001b[38;5;241m.\u001b[39mis_available():\n\u001b[1;32m      3\u001b[0m     \u001b[38;5;28mprint\u001b[39m(\u001b[38;5;124m\"\u001b[39m\u001b[38;5;124mCUDA is available. Number of GPUs:\u001b[39m\u001b[38;5;124m\"\u001b[39m, torch\u001b[38;5;241m.\u001b[39mcuda\u001b[38;5;241m.\u001b[39mdevice_count())\n",
      "File \u001b[0;32m~/anaconda3/envs/reu/lib/python3.11/site-packages/torch/__init__.py:562\u001b[0m\n\u001b[1;32m    548\u001b[0m         \u001b[38;5;28;01mraise\u001b[39;00m \u001b[38;5;167;01mImportError\u001b[39;00m(textwrap\u001b[38;5;241m.\u001b[39mdedent(\u001b[38;5;124m'''\u001b[39m\n\u001b[1;32m    549\u001b[0m \u001b[38;5;124m            Failed to load PyTorch C extensions:\u001b[39m\n\u001b[1;32m    550\u001b[0m \u001b[38;5;124m                It appears that PyTorch has loaded the `torch/_C` folder\u001b[39m\n\u001b[0;32m   (...)\u001b[0m\n\u001b[1;32m    558\u001b[0m \u001b[38;5;124m                or by running Python from a different directory.\u001b[39m\n\u001b[1;32m    559\u001b[0m \u001b[38;5;124m            \u001b[39m\u001b[38;5;124m'''\u001b[39m)\u001b[38;5;241m.\u001b[39mstrip()) \u001b[38;5;28;01mfrom\u001b[39;00m \u001b[38;5;28;01mNone\u001b[39;00m\n\u001b[1;32m    560\u001b[0m     \u001b[38;5;28;01mraise\u001b[39;00m  \u001b[38;5;66;03m# If __file__ is not None the cause is unknown, so just re-raise.\u001b[39;00m\n\u001b[0;32m--> 562\u001b[0m \u001b[38;5;28;01mfor\u001b[39;00m name \u001b[38;5;129;01min\u001b[39;00m \u001b[38;5;28mdir\u001b[39m(_C):\n\u001b[1;32m    563\u001b[0m     \u001b[38;5;28;01mif\u001b[39;00m name[\u001b[38;5;241m0\u001b[39m] \u001b[38;5;241m!=\u001b[39m \u001b[38;5;124m'\u001b[39m\u001b[38;5;124m_\u001b[39m\u001b[38;5;124m'\u001b[39m \u001b[38;5;129;01mand\u001b[39;00m \u001b[38;5;129;01mnot\u001b[39;00m name\u001b[38;5;241m.\u001b[39mendswith(\u001b[38;5;124m'\u001b[39m\u001b[38;5;124mBase\u001b[39m\u001b[38;5;124m'\u001b[39m):\n\u001b[1;32m    564\u001b[0m         __all__\u001b[38;5;241m.\u001b[39mappend(name)\n",
      "\u001b[0;31mNameError\u001b[0m: name '_C' is not defined"
     ]
    }
   ],
   "source": [
    "import torch\n",
    "if torch.cuda.is_available():\n",
    "    print(\"CUDA is available. Number of GPUs:\", torch.cuda.device_count())\n",
    "    print(\"CUDA device name:\", torch.cuda.get_device_name(6))\n",
    "else:\n",
    "    print(\"CUDA is not available.\")\n",
    "torch.cuda.set_device(torch.device(\"cuda:6\"))\n",
    "device = torch.device(\"cuda\" if torch.cuda.is_available() else \"cpu\")"
   ]
  },
  {
   "cell_type": "code",
   "execution_count": 24,
   "id": "d6144556-70c7-418e-8b1e-9096ed3096a5",
   "metadata": {},
   "outputs": [
    {
     "name": "stdout",
     "output_type": "stream",
     "text": [
      "Accuracy: 0.6548256880733945\n",
      "Classification Report:\n",
      "              precision    recall  f1-score   support\n",
      "\n",
      "       FIXED       0.63      0.69      0.66      6573\n",
      "    NOTFIXED       0.68      0.62      0.65      7052\n",
      "\n",
      "    accuracy                           0.65     13625\n",
      "   macro avg       0.66      0.66      0.65     13625\n",
      "weighted avg       0.66      0.65      0.65     13625\n",
      "\n"
     ]
    },
    {
     "data": {
      "text/plain": [
       "(0.6548256880733945,\n",
       " '              precision    recall  f1-score   support\\n\\n       FIXED       0.63      0.69      0.66      6573\\n    NOTFIXED       0.68      0.62      0.65      7052\\n\\n    accuracy                           0.65     13625\\n   macro avg       0.66      0.66      0.65     13625\\nweighted avg       0.66      0.65      0.65     13625\\n')"
      ]
     },
     "execution_count": 24,
     "metadata": {},
     "output_type": "execute_result"
    }
   ],
   "source": [
    "SVMmodel(df, feature_cols=['Component', 'Title', 'Description','emotion','Emotionality', 'label','Duration_hours', 'Priority'], target_col='eventual')"
   ]
  },
  {
   "cell_type": "code",
   "execution_count": 6,
   "id": "012a19fc-49a2-44e6-8de1-719a1d482241",
   "metadata": {},
   "outputs": [
    {
     "name": "stdout",
     "output_type": "stream",
     "text": [
      "Accuracy: 0.6538715596330276\n",
      "Classification Report:\n",
      "              precision    recall  f1-score   support\n",
      "\n",
      "       FIXED       0.63      0.69      0.66      6573\n",
      "    NOTFIXED       0.68      0.62      0.65      7052\n",
      "\n",
      "    accuracy                           0.65     13625\n",
      "   macro avg       0.66      0.66      0.65     13625\n",
      "weighted avg       0.66      0.65      0.65     13625\n",
      "\n"
     ]
    },
    {
     "data": {
      "text/plain": [
       "(0.6538715596330276,\n",
       " '              precision    recall  f1-score   support\\n\\n       FIXED       0.63      0.69      0.66      6573\\n    NOTFIXED       0.68      0.62      0.65      7052\\n\\n    accuracy                           0.65     13625\\n   macro avg       0.66      0.66      0.65     13625\\nweighted avg       0.66      0.65      0.65     13625\\n')"
      ]
     },
     "execution_count": 6,
     "metadata": {},
     "output_type": "execute_result"
    }
   ],
   "source": [
    "SVM1 = SVMmodel(df, feature_cols=['Component', 'Title', 'Description', 'label','Duration_hours', 'Priority'], target_col='eventual')"
   ]
  },
  {
   "cell_type": "code",
   "execution_count": 22,
   "id": "3cbf46da-f277-4eff-909e-271c816fb37a",
   "metadata": {},
   "outputs": [
    {
     "name": "stdout",
     "output_type": "stream",
     "text": [
      "Accuracy: 0.6540917431192661\n",
      "Classification Report:\n",
      "              precision    recall  f1-score   support\n",
      "\n",
      "       FIXED       0.63      0.69      0.66      6573\n",
      "    NOTFIXED       0.68      0.62      0.65      7052\n",
      "\n",
      "    accuracy                           0.65     13625\n",
      "   macro avg       0.66      0.66      0.65     13625\n",
      "weighted avg       0.66      0.65      0.65     13625\n",
      "\n"
     ]
    }
   ],
   "source": [
    "SVM2 = SVMmodel(df, feature_cols=['Component', 'Title', 'emotion','Description', 'label','Duration_hours', 'Priority'], target_col='eventual')"
   ]
  },
  {
   "cell_type": "code",
   "execution_count": 23,
   "id": "bb4a9d86-2eeb-44fd-a4a9-ca88ff99ed65",
   "metadata": {},
   "outputs": [
    {
     "name": "stdout",
     "output_type": "stream",
     "text": [
      "Accuracy: 0.6541651376146789\n",
      "Classification Report:\n",
      "              precision    recall  f1-score   support\n",
      "\n",
      "       FIXED       0.63      0.69      0.66      6573\n",
      "    NOTFIXED       0.68      0.62      0.65      7052\n",
      "\n",
      "    accuracy                           0.65     13625\n",
      "   macro avg       0.66      0.66      0.65     13625\n",
      "weighted avg       0.66      0.65      0.65     13625\n",
      "\n"
     ]
    }
   ],
   "source": [
    "SVM3 = SVMmodel(df, feature_cols=['Component', 'Title', 'Emotionality','Description', 'label','Duration_hours', 'Priority'], target_col='eventual')"
   ]
  },
  {
   "cell_type": "code",
   "execution_count": 24,
   "id": "b01cc036-4dbe-4e0c-9372-eab68653b970",
   "metadata": {},
   "outputs": [
    {
     "name": "stdout",
     "output_type": "stream",
     "text": [
      "Accuracy: 0.6939449541284404\n",
      "Classification Report:\n",
      "              precision    recall  f1-score   support\n",
      "\n",
      "       FIXED       0.70      0.64      0.67      6573\n",
      "    NOTFIXED       0.69      0.74      0.72      7052\n",
      "\n",
      "    accuracy                           0.69     13625\n",
      "   macro avg       0.69      0.69      0.69     13625\n",
      "weighted avg       0.69      0.69      0.69     13625\n",
      "\n"
     ]
    }
   ],
   "source": [
    "SVM4 = SVMmodel(df, feature_cols=['Component', 'Title', 'emotion', 'label','Duration_hours', 'Priority'], target_col='eventual')"
   ]
  },
  {
   "cell_type": "code",
   "execution_count": 25,
   "id": "5b75f0a6-4e1a-4bd8-9afb-45a3cd573c2d",
   "metadata": {},
   "outputs": [
    {
     "name": "stdout",
     "output_type": "stream",
     "text": [
      "Accuracy: 0.6572477064220184\n",
      "Classification Report:\n",
      "              precision    recall  f1-score   support\n",
      "\n",
      "       FIXED       0.67      0.56      0.61      6573\n",
      "    NOTFIXED       0.65      0.75      0.69      7052\n",
      "\n",
      "    accuracy                           0.66     13625\n",
      "   macro avg       0.66      0.65      0.65     13625\n",
      "weighted avg       0.66      0.66      0.65     13625\n",
      "\n"
     ]
    }
   ],
   "source": [
    "SVM5 = SVMmodel(df, feature_cols=['Component', 'Title', 'emotion', 'Priority'], target_col='eventual')"
   ]
  },
  {
   "cell_type": "code",
   "execution_count": 28,
   "id": "bd65c202-4def-4763-9474-052945dae35a",
   "metadata": {},
   "outputs": [
    {
     "name": "stdout",
     "output_type": "stream",
     "text": [
      "Test Accuracy: 0.595795901591216\n"
     ]
    },
    {
     "name": "stderr",
     "output_type": "stream",
     "text": [
      "/home/spope/anaconda3/envs/reu/lib/python3.11/site-packages/sklearn/neural_network/_multilayer_perceptron.py:690: ConvergenceWarning: Stochastic Optimizer: Maximum iterations (100) reached and the optimization hasn't converged yet.\n",
      "  warnings.warn(\n"
     ]
    }
   ],
   "source": [
    "MLPmodel(df, input_columns=['Component', 'Title', 'Description','emotion','Emotionality','Priority'], target_column='eventual')"
   ]
  },
  {
   "cell_type": "code",
   "execution_count": 27,
   "id": "d11019ec-54a9-4add-aa7e-bfd7f1acbcb3",
   "metadata": {},
   "outputs": [
    {
     "name": "stdout",
     "output_type": "stream",
     "text": [
      "Test Accuracy: 0.3854148317773472\n"
     ]
    },
    {
     "name": "stderr",
     "output_type": "stream",
     "text": [
      "/home/spope/anaconda3/envs/reu/lib/python3.11/site-packages/sklearn/neural_network/_multilayer_perceptron.py:690: ConvergenceWarning: Stochastic Optimizer: Maximum iterations (100) reached and the optimization hasn't converged yet.\n",
      "  warnings.warn(\n"
     ]
    }
   ],
   "source": [
    "MLPmodel(df, input_columns=['Component', 'Title', 'Description','emotion','Emotionality','Priority'], target_column='Resolution')"
   ]
  },
  {
   "cell_type": "code",
   "execution_count": 29,
   "id": "8b2402e3-f665-4003-a71d-1dc085c2b164",
   "metadata": {},
   "outputs": [
    {
     "name": "stderr",
     "output_type": "stream",
     "text": [
      "/home/spope/anaconda3/envs/reu/lib/python3.11/site-packages/sklearn/metrics/_classification.py:1517: UndefinedMetricWarning: Precision is ill-defined and being set to 0.0 in labels with no predicted samples. Use `zero_division` parameter to control this behavior.\n",
      "  _warn_prf(average, modifier, f\"{metric.capitalize()} is\", len(result))\n",
      "/home/spope/anaconda3/envs/reu/lib/python3.11/site-packages/sklearn/metrics/_classification.py:1517: UndefinedMetricWarning: Precision is ill-defined and being set to 0.0 in labels with no predicted samples. Use `zero_division` parameter to control this behavior.\n",
      "  _warn_prf(average, modifier, f\"{metric.capitalize()} is\", len(result))\n"
     ]
    },
    {
     "name": "stdout",
     "output_type": "stream",
     "text": [
      "Accuracy: 0.5048807339449541\n",
      "Classification Report:\n",
      "              precision    recall  f1-score   support\n",
      "\n",
      "   DUPLICATE       0.38      0.11      0.17      2373\n",
      "       FIXED       0.52      0.96      0.67      6573\n",
      "     INVALID       0.52      0.04      0.07      1190\n",
      "  NDUPLICATE       0.00      0.00      0.00       267\n",
      " NOT_ECLIPSE       0.00      0.00      0.00        34\n",
      "     WONTFIX       0.43      0.14      0.21      1734\n",
      "  WORKSFORME       0.42      0.01      0.01      1454\n",
      "\n",
      "    accuracy                           0.50     13625\n",
      "   macro avg       0.32      0.18      0.16     13625\n",
      "weighted avg       0.46      0.50      0.39     13625\n",
      "\n"
     ]
    },
    {
     "name": "stderr",
     "output_type": "stream",
     "text": [
      "/home/spope/anaconda3/envs/reu/lib/python3.11/site-packages/sklearn/metrics/_classification.py:1517: UndefinedMetricWarning: Precision is ill-defined and being set to 0.0 in labels with no predicted samples. Use `zero_division` parameter to control this behavior.\n",
      "  _warn_prf(average, modifier, f\"{metric.capitalize()} is\", len(result))\n"
     ]
    }
   ],
   "source": [
    "SVM5 = SVMmodel(df, feature_cols=['Component', 'Title', 'emotion', 'Priority'], target_col='Resolution')"
   ]
  },
  {
   "cell_type": "code",
   "execution_count": 30,
   "id": "1ee70004-77e6-470f-a792-069b97b4577b",
   "metadata": {},
   "outputs": [
    {
     "name": "stdout",
     "output_type": "stream",
     "text": [
      "Accuracy: 0.4836697247706422\n",
      "Classification Report:\n",
      "              precision    recall  f1-score   support\n",
      "\n",
      "   DUPLICATE       0.29      0.20      0.24      2373\n",
      "       FIXED       0.53      0.87      0.66      6573\n",
      "     INVALID       0.32      0.06      0.10      1190\n",
      "  NDUPLICATE       0.00      0.00      0.00       267\n",
      " NOT_ECLIPSE       0.00      0.00      0.00        34\n",
      "     WONTFIX       0.35      0.16      0.22      1734\n",
      "  WORKSFORME       0.23      0.03      0.06      1454\n",
      "\n",
      "    accuracy                           0.48     13625\n",
      "   macro avg       0.25      0.19      0.18     13625\n",
      "weighted avg       0.40      0.48      0.40     13625\n",
      "\n"
     ]
    },
    {
     "name": "stderr",
     "output_type": "stream",
     "text": [
      "/home/spope/anaconda3/envs/reu/lib/python3.11/site-packages/sklearn/metrics/_classification.py:1517: UndefinedMetricWarning: Precision is ill-defined and being set to 0.0 in labels with no predicted samples. Use `zero_division` parameter to control this behavior.\n",
      "  _warn_prf(average, modifier, f\"{metric.capitalize()} is\", len(result))\n",
      "/home/spope/anaconda3/envs/reu/lib/python3.11/site-packages/sklearn/metrics/_classification.py:1517: UndefinedMetricWarning: Precision is ill-defined and being set to 0.0 in labels with no predicted samples. Use `zero_division` parameter to control this behavior.\n",
      "  _warn_prf(average, modifier, f\"{metric.capitalize()} is\", len(result))\n",
      "/home/spope/anaconda3/envs/reu/lib/python3.11/site-packages/sklearn/metrics/_classification.py:1517: UndefinedMetricWarning: Precision is ill-defined and being set to 0.0 in labels with no predicted samples. Use `zero_division` parameter to control this behavior.\n",
      "  _warn_prf(average, modifier, f\"{metric.capitalize()} is\", len(result))\n"
     ]
    },
    {
     "data": {
      "text/plain": [
       "(0.4836697247706422,\n",
       " '              precision    recall  f1-score   support\\n\\n   DUPLICATE       0.29      0.20      0.24      2373\\n       FIXED       0.53      0.87      0.66      6573\\n     INVALID       0.32      0.06      0.10      1190\\n  NDUPLICATE       0.00      0.00      0.00       267\\n NOT_ECLIPSE       0.00      0.00      0.00        34\\n     WONTFIX       0.35      0.16      0.22      1734\\n  WORKSFORME       0.23      0.03      0.06      1454\\n\\n    accuracy                           0.48     13625\\n   macro avg       0.25      0.19      0.18     13625\\nweighted avg       0.40      0.48      0.40     13625\\n')"
      ]
     },
     "execution_count": 30,
     "metadata": {},
     "output_type": "execute_result"
    }
   ],
   "source": [
    "NBmodel(df, feature_cols = ['Component', 'Title', 'emotion','Emotionality','Priority'], target_col = 'Resolution')"
   ]
  },
  {
   "cell_type": "code",
   "execution_count": 25,
   "id": "03e0ec02-d62c-42d1-8041-8892a8905cbc",
   "metadata": {},
   "outputs": [
    {
     "name": "stdout",
     "output_type": "stream",
     "text": [
      "Test Accuracy: 0.6202806646703071\n"
     ]
    }
   ],
   "source": [
    "MLPmodel(df, input_columns=['Component', 'Title', 'Description','emotion','Emotionality', 'label','Duration_hours', 'Priority'], target_column='eventual')"
   ]
  },
  {
   "cell_type": "code",
   "execution_count": 28,
   "id": "9804adbb-04d5-40c7-8a96-679e6c40ccb9",
   "metadata": {},
   "outputs": [
    {
     "name": "stdout",
     "output_type": "stream",
     "text": [
      "Accuracy: 0.5556697247706422\n",
      "Classification Report:\n",
      "              precision    recall  f1-score   support\n",
      "\n",
      "       FIXED       0.52      0.93      0.67      6573\n",
      "    NOTFIXED       0.76      0.20      0.32      7052\n",
      "\n",
      "    accuracy                           0.56     13625\n",
      "   macro avg       0.64      0.57      0.50     13625\n",
      "weighted avg       0.65      0.56      0.49     13625\n",
      "\n"
     ]
    },
    {
     "data": {
      "text/plain": [
       "(0.5556697247706422,\n",
       " '              precision    recall  f1-score   support\\n\\n       FIXED       0.52      0.93      0.67      6573\\n    NOTFIXED       0.76      0.20      0.32      7052\\n\\n    accuracy                           0.56     13625\\n   macro avg       0.64      0.57      0.50     13625\\nweighted avg       0.65      0.56      0.49     13625\\n')"
      ]
     },
     "execution_count": 28,
     "metadata": {},
     "output_type": "execute_result"
    }
   ],
   "source": [
    "NBmodel(df, feature_cols = ['Component', 'Title', 'Description','emotion','Emotionality', 'label','Duration_hours','Priority'], target_col = 'eventual')"
   ]
  },
  {
   "cell_type": "code",
   "execution_count": 27,
   "id": "3d2d268e-9456-48ef-8365-a02dcaab3599",
   "metadata": {},
   "outputs": [
    {
     "name": "stdout",
     "output_type": "stream",
     "text": [
      "Test Accuracy: 0.6900945334977394\n"
     ]
    }
   ],
   "source": [
    "MLPmodel(df, input_columns=['Component', 'Title', 'Description','emotion','Emotionality','Priority'], target_column='label')"
   ]
  },
  {
   "cell_type": "code",
   "execution_count": 29,
   "id": "1ae4fc14-8716-4a58-9060-0949eef5f1bf",
   "metadata": {},
   "outputs": [
    {
     "name": "stdout",
     "output_type": "stream",
     "text": [
      "Test Accuracy: 0.755328518583759\n"
     ]
    },
    {
     "name": "stderr",
     "output_type": "stream",
     "text": [
      "/home/spope/anaconda3/envs/reu/lib/python3.11/site-packages/sklearn/neural_network/_multilayer_perceptron.py:690: ConvergenceWarning: Stochastic Optimizer: Maximum iterations (100) reached and the optimization hasn't converged yet.\n",
      "  warnings.warn(\n"
     ]
    }
   ],
   "source": [
    "MLPmodel(df, input_columns=['emotion','Emotionality','Priority'], target_column='label')"
   ]
  },
  {
   "cell_type": "code",
   "execution_count": 30,
   "id": "782c871d-af7d-48ca-be9b-a7a801fc1f55",
   "metadata": {},
   "outputs": [
    {
     "name": "stdout",
     "output_type": "stream",
     "text": [
      "Test Accuracy: 0.7579707592038049\n"
     ]
    }
   ],
   "source": [
    "MLPmodel(df, input_columns=['Emotionality','Priority'], target_column='label')"
   ]
  },
  {
   "cell_type": "code",
   "execution_count": 31,
   "id": "6b133fd9-cd89-4866-be34-88ddf6965c5e",
   "metadata": {},
   "outputs": [
    {
     "name": "stdout",
     "output_type": "stream",
     "text": [
      "Test Accuracy: 0.7644882860665845\n"
     ]
    }
   ],
   "source": [
    "MLPmodel(df, input_columns=['emotion','Priority'], target_column='label')"
   ]
  },
  {
   "cell_type": "code",
   "execution_count": 32,
   "id": "230d2d80-eb8b-48c9-8c34-23f2905a1152",
   "metadata": {},
   "outputs": [
    {
     "name": "stdout",
     "output_type": "stream",
     "text": [
      "Test Accuracy: 0.5748341260055193\n"
     ]
    },
    {
     "name": "stderr",
     "output_type": "stream",
     "text": [
      "/home/spope/anaconda3/envs/reu/lib/python3.11/site-packages/sklearn/neural_network/_multilayer_perceptron.py:690: ConvergenceWarning: Stochastic Optimizer: Maximum iterations (100) reached and the optimization hasn't converged yet.\n",
      "  warnings.warn(\n"
     ]
    }
   ],
   "source": [
    "MLPmodel(df, input_columns=['emotion','Emotionality', 'label','Duration_hours', 'Priority'], target_column='eventual')"
   ]
  },
  {
   "cell_type": "code",
   "execution_count": 33,
   "id": "4f6c55d1-487e-44af-b1b0-627f1b7f7f12",
   "metadata": {},
   "outputs": [
    {
     "name": "stdout",
     "output_type": "stream",
     "text": [
      "Test Accuracy: 0.5777112324584581\n"
     ]
    },
    {
     "name": "stderr",
     "output_type": "stream",
     "text": [
      "/home/spope/anaconda3/envs/reu/lib/python3.11/site-packages/sklearn/neural_network/_multilayer_perceptron.py:690: ConvergenceWarning: Stochastic Optimizer: Maximum iterations (100) reached and the optimization hasn't converged yet.\n",
      "  warnings.warn(\n"
     ]
    }
   ],
   "source": [
    "MLPmodel(df, input_columns=['emotion','Emotionality', 'label', 'Priority'], target_column='eventual')"
   ]
  },
  {
   "cell_type": "code",
   "execution_count": 44,
   "id": "488e2d3c-7967-4738-8b66-9a14fde60554",
   "metadata": {},
   "outputs": [
    {
     "name": "stdout",
     "output_type": "stream",
     "text": [
      "Test Accuracy: 0.5666138218542658\n"
     ]
    },
    {
     "name": "stderr",
     "output_type": "stream",
     "text": [
      "/home/spope/anaconda3/envs/reu/lib/python3.11/site-packages/sklearn/neural_network/_multilayer_perceptron.py:690: ConvergenceWarning: Stochastic Optimizer: Maximum iterations (100) reached and the optimization hasn't converged yet.\n",
      "  warnings.warn(\n"
     ]
    }
   ],
   "source": [
    "MLPmodel(df, input_columns=['emotion','Emotionality','Duration_hours', 'Priority'], target_column='eventual')"
   ]
  },
  {
   "cell_type": "code",
   "execution_count": 36,
   "id": "04b5d232-0cee-4816-aa2f-aace4a07550a",
   "metadata": {},
   "outputs": [
    {
     "name": "stdout",
     "output_type": "stream",
     "text": [
      "Test Accuracy: 0.6007280840819682\n"
     ]
    },
    {
     "name": "stderr",
     "output_type": "stream",
     "text": [
      "/home/spope/anaconda3/envs/reu/lib/python3.11/site-packages/sklearn/neural_network/_multilayer_perceptron.py:690: ConvergenceWarning: Stochastic Optimizer: Maximum iterations (100) reached and the optimization hasn't converged yet.\n",
      "  warnings.warn(\n"
     ]
    }
   ],
   "source": [
    "MLPmodel(df, input_columns=['emotion','label','Duration_hours', 'Priority'], target_column='eventual')"
   ]
  },
  {
   "cell_type": "code",
   "execution_count": 37,
   "id": "b284cdce-b760-4f20-a272-b3ddf216085a",
   "metadata": {},
   "outputs": [
    {
     "name": "stdout",
     "output_type": "stream",
     "text": [
      "Test Accuracy: 0.5734836474663848\n"
     ]
    },
    {
     "name": "stderr",
     "output_type": "stream",
     "text": [
      "/home/spope/anaconda3/envs/reu/lib/python3.11/site-packages/sklearn/neural_network/_multilayer_perceptron.py:690: ConvergenceWarning: Stochastic Optimizer: Maximum iterations (100) reached and the optimization hasn't converged yet.\n",
      "  warnings.warn(\n"
     ]
    }
   ],
   "source": [
    "MLPmodel(df, input_columns=['Emotionality', 'label', 'Priority'], target_column='eventual')"
   ]
  },
  {
   "cell_type": "code",
   "execution_count": 40,
   "id": "c2f0f036-0197-4ea6-bd30-c1a595edb64c",
   "metadata": {},
   "outputs": [
    {
     "name": "stdout",
     "output_type": "stream",
     "text": [
      "Test Accuracy: 0.57230931830192\n"
     ]
    }
   ],
   "source": [
    "MLPmodel(df, input_columns=['emotion','label', 'Priority'], target_column='eventual')"
   ]
  },
  {
   "cell_type": "code",
   "execution_count": 45,
   "id": "53638d21-f059-44e4-804e-01b26bb7db28",
   "metadata": {},
   "outputs": [
    {
     "name": "stdout",
     "output_type": "stream",
     "text": [
      "Test Accuracy: 0.5791791439140391\n"
     ]
    },
    {
     "name": "stderr",
     "output_type": "stream",
     "text": [
      "/home/spope/anaconda3/envs/reu/lib/python3.11/site-packages/sklearn/neural_network/_multilayer_perceptron.py:690: ConvergenceWarning: Stochastic Optimizer: Maximum iterations (100) reached and the optimization hasn't converged yet.\n",
      "  warnings.warn(\n"
     ]
    }
   ],
   "source": [
    "MLPmodel(df, input_columns=['Emotionality','Duration_hours', 'Priority'], target_column='eventual')"
   ]
  },
  {
   "cell_type": "code",
   "execution_count": 46,
   "id": "8952de85-a5e7-4a49-af0c-a957dad83ec7",
   "metadata": {},
   "outputs": [
    {
     "name": "stdout",
     "output_type": "stream",
     "text": [
      "Test Accuracy: 0.5885150607715343\n"
     ]
    },
    {
     "name": "stderr",
     "output_type": "stream",
     "text": [
      "/home/spope/anaconda3/envs/reu/lib/python3.11/site-packages/sklearn/neural_network/_multilayer_perceptron.py:690: ConvergenceWarning: Stochastic Optimizer: Maximum iterations (100) reached and the optimization hasn't converged yet.\n",
      "  warnings.warn(\n"
     ]
    }
   ],
   "source": [
    "MLPmodel(df, input_columns=['emotion','label','Duration_hours',], target_column='eventual')"
   ]
  },
  {
   "cell_type": "code",
   "execution_count": 47,
   "id": "80d5d8ac-96f4-4276-a695-89ddffe03172",
   "metadata": {},
   "outputs": [
    {
     "name": "stdout",
     "output_type": "stream",
     "text": [
      "Test Accuracy: 0.5620926545710763\n"
     ]
    }
   ],
   "source": [
    "MLPmodel(df, input_columns=['emotion','label'], target_column='eventual')"
   ]
  },
  {
   "cell_type": "code",
   "execution_count": 48,
   "id": "6824d857-b6b1-45e1-9289-17af49b65dcf",
   "metadata": {},
   "outputs": [
    {
     "name": "stdout",
     "output_type": "stream",
     "text": [
      "Test Accuracy: 0.5834067289061123\n"
     ]
    },
    {
     "name": "stderr",
     "output_type": "stream",
     "text": [
      "/home/spope/anaconda3/envs/reu/lib/python3.11/site-packages/sklearn/neural_network/_multilayer_perceptron.py:690: ConvergenceWarning: Stochastic Optimizer: Maximum iterations (100) reached and the optimization hasn't converged yet.\n",
      "  warnings.warn(\n"
     ]
    }
   ],
   "source": [
    "MLPmodel(df, input_columns=['emotion','Duration_hours',], target_column='eventual')"
   ]
  },
  {
   "cell_type": "code",
   "execution_count": 52,
   "id": "53b84bee-e796-41e8-9906-aa1029761643",
   "metadata": {},
   "outputs": [
    {
     "name": "stdout",
     "output_type": "stream",
     "text": [
      "Test Accuracy: 0.6219834419587811\n"
     ]
    }
   ],
   "source": [
    "MLPmodel(df, input_columns=['Component', 'Title', 'Description','emotion','Emotionality','Priority', 'label','Duration_hours'], target_column='eventual')"
   ]
  },
  {
   "cell_type": "code",
   "execution_count": 54,
   "id": "c9f21d0b-8b45-4a91-a70d-874df19f65ca",
   "metadata": {},
   "outputs": [
    {
     "name": "stdout",
     "output_type": "stream",
     "text": [
      "Test Accuracy: 0.6100640009394633\n"
     ]
    }
   ],
   "source": [
    "MLPmodel(df, input_columns=['Title', 'Description','emotion','Emotionality','Priority', 'label','Duration_hours'], target_column= 'eventual')"
   ]
  },
  {
   "cell_type": "code",
   "execution_count": 55,
   "id": "ccfbfc5c-99d8-42ce-bd4e-c6366799f020",
   "metadata": {},
   "outputs": [
    {
     "name": "stdout",
     "output_type": "stream",
     "text": [
      "Test Accuracy: 0.6112383301039281\n"
     ]
    },
    {
     "name": "stderr",
     "output_type": "stream",
     "text": [
      "/home/spope/anaconda3/envs/reu/lib/python3.11/site-packages/sklearn/neural_network/_multilayer_perceptron.py:690: ConvergenceWarning: Stochastic Optimizer: Maximum iterations (100) reached and the optimization hasn't converged yet.\n",
      "  warnings.warn(\n"
     ]
    }
   ],
   "source": [
    "MLPmodel(df, input_columns=['Component','Description','emotion','Emotionality','Priority', 'label','Duration_hours'], target_column='eventual')"
   ]
  },
  {
   "cell_type": "code",
   "execution_count": 56,
   "id": "2341dd10-bee7-4ad2-9f42-58530afa0e09",
   "metadata": {},
   "outputs": [
    {
     "name": "stdout",
     "output_type": "stream",
     "text": [
      "Test Accuracy: 0.5797663084962715\n"
     ]
    },
    {
     "name": "stderr",
     "output_type": "stream",
     "text": [
      "/home/spope/anaconda3/envs/reu/lib/python3.11/site-packages/sklearn/neural_network/_multilayer_perceptron.py:690: ConvergenceWarning: Stochastic Optimizer: Maximum iterations (100) reached and the optimization hasn't converged yet.\n",
      "  warnings.warn(\n"
     ]
    }
   ],
   "source": [
    "MLPmodel(df, input_columns=['Component', 'emotion','Emotionality','Priority', 'label','Duration_hours'], target_column='eventual')"
   ]
  },
  {
   "cell_type": "code",
   "execution_count": 58,
   "id": "a5eebcc2-3eaf-487f-9151-2d7a7a89c619",
   "metadata": {},
   "outputs": [
    {
     "name": "stdout",
     "output_type": "stream",
     "text": [
      "Test Accuracy: 0.5927426457636076\n"
     ]
    },
    {
     "name": "stderr",
     "output_type": "stream",
     "text": [
      "/home/spope/anaconda3/envs/reu/lib/python3.11/site-packages/sklearn/neural_network/_multilayer_perceptron.py:690: ConvergenceWarning: Stochastic Optimizer: Maximum iterations (100) reached and the optimization hasn't converged yet.\n",
      "  warnings.warn(\n"
     ]
    }
   ],
   "source": [
    "MLPmodel(df, input_columns=['Description','label','Duration_hours'], target_column='eventual')"
   ]
  },
  {
   "cell_type": "code",
   "execution_count": 59,
   "id": "e3a38e77-0eb9-4880-95c4-c7114a74c58d",
   "metadata": {},
   "outputs": [
    {
     "name": "stdout",
     "output_type": "stream",
     "text": [
      "Test Accuracy: 0.6014913980388703\n"
     ]
    },
    {
     "name": "stderr",
     "output_type": "stream",
     "text": [
      "/home/spope/anaconda3/envs/reu/lib/python3.11/site-packages/sklearn/neural_network/_multilayer_perceptron.py:690: ConvergenceWarning: Stochastic Optimizer: Maximum iterations (100) reached and the optimization hasn't converged yet.\n",
      "  warnings.warn(\n"
     ]
    }
   ],
   "source": [
    "MLPmodel(df, input_columns=['Component','label','Duration_hours'], target_column='eventual')"
   ]
  },
  {
   "cell_type": "code",
   "execution_count": 60,
   "id": "869300f7-5c4b-4b5a-abfe-c2ac6d4b0092",
   "metadata": {},
   "outputs": [
    {
     "name": "stdout",
     "output_type": "stream",
     "text": [
      "Test Accuracy: 0.5817626680758616\n"
     ]
    },
    {
     "name": "stderr",
     "output_type": "stream",
     "text": [
      "/home/spope/anaconda3/envs/reu/lib/python3.11/site-packages/sklearn/neural_network/_multilayer_perceptron.py:690: ConvergenceWarning: Stochastic Optimizer: Maximum iterations (100) reached and the optimization hasn't converged yet.\n",
      "  warnings.warn(\n"
     ]
    }
   ],
   "source": [
    "MLPmodel(df, input_columns=['Title','label','Duration_hours'], target_column='eventual')"
   ]
  },
  {
   "cell_type": "code",
   "execution_count": 61,
   "id": "eed4cc10-8f03-4bff-9dff-0a5b7ed0a6b2",
   "metadata": {},
   "outputs": [
    {
     "name": "stdout",
     "output_type": "stream",
     "text": [
      "Test Accuracy: 0.6085373730256591\n"
     ]
    },
    {
     "name": "stderr",
     "output_type": "stream",
     "text": [
      "/home/spope/anaconda3/envs/reu/lib/python3.11/site-packages/sklearn/neural_network/_multilayer_perceptron.py:690: ConvergenceWarning: Stochastic Optimizer: Maximum iterations (100) reached and the optimization hasn't converged yet.\n",
      "  warnings.warn(\n"
     ]
    }
   ],
   "source": [
    "MLPmodel(df, input_columns=['Priority','label','Duration_hours'], target_column='eventual')"
   ]
  },
  {
   "cell_type": "code",
   "execution_count": 62,
   "id": "b8c07587-e622-447a-a178-0b49b9fac015",
   "metadata": {},
   "outputs": [
    {
     "name": "stdout",
     "output_type": "stream",
     "text": [
      "Test Accuracy: 0.5983207092948153\n"
     ]
    }
   ],
   "source": [
    "MLPmodel(df, input_columns=['Priority','Title', 'label','Duration_hours'], target_column='eventual')"
   ]
  },
  {
   "cell_type": "code",
   "execution_count": 63,
   "id": "71187c98-d4b8-4773-a6a1-c2c831f26d8a",
   "metadata": {},
   "outputs": [
    {
     "name": "stdout",
     "output_type": "stream",
     "text": [
      "Test Accuracy: 0.5828195643238799\n"
     ]
    },
    {
     "name": "stderr",
     "output_type": "stream",
     "text": [
      "/home/spope/anaconda3/envs/reu/lib/python3.11/site-packages/sklearn/neural_network/_multilayer_perceptron.py:690: ConvergenceWarning: Stochastic Optimizer: Maximum iterations (100) reached and the optimization hasn't converged yet.\n",
      "  warnings.warn(\n"
     ]
    }
   ],
   "source": [
    "MLPmodel(df, input_columns=['Priority','Title', 'emotion'], target_column='eventual')"
   ]
  },
  {
   "cell_type": "code",
   "execution_count": 64,
   "id": "37132551-28b0-45a2-a482-5db5531c5a8c",
   "metadata": {},
   "outputs": [
    {
     "name": "stdout",
     "output_type": "stream",
     "text": [
      "Test Accuracy: 0.5746579766308496\n"
     ]
    },
    {
     "name": "stderr",
     "output_type": "stream",
     "text": [
      "/home/spope/anaconda3/envs/reu/lib/python3.11/site-packages/sklearn/neural_network/_multilayer_perceptron.py:690: ConvergenceWarning: Stochastic Optimizer: Maximum iterations (100) reached and the optimization hasn't converged yet.\n",
      "  warnings.warn(\n"
     ]
    }
   ],
   "source": [
    "MLPmodel(df, input_columns=['Priority','Title', 'emotion', 'Emotionality'], target_column='eventual')"
   ]
  },
  {
   "cell_type": "code",
   "execution_count": 65,
   "id": "6a0cba48-8067-49c6-8b71-f354b6c76ef9",
   "metadata": {},
   "outputs": [
    {
     "name": "stdout",
     "output_type": "stream",
     "text": [
      "Test Accuracy: 0.6900945334977394\n"
     ]
    }
   ],
   "source": [
    "MLPmodel(df, input_columns=['Component', 'Title', 'Description','emotion','Emotionality','Priority',], target_column='label')"
   ]
  },
  {
   "cell_type": "code",
   "execution_count": 66,
   "id": "3c192926-3dc4-41df-82df-b5af31bf68b3",
   "metadata": {},
   "outputs": [
    {
     "name": "stdout",
     "output_type": "stream",
     "text": [
      "Test Accuracy: 0.6802301685162351\n"
     ]
    }
   ],
   "source": [
    "MLPmodel(df, input_columns=['Title','emotion','Emotionality','Priority'], target_column='label')"
   ]
  },
  {
   "cell_type": "code",
   "execution_count": 67,
   "id": "d3af556f-7fd0-4531-b304-ba27ce07fd9c",
   "metadata": {},
   "outputs": [
    {
     "name": "stdout",
     "output_type": "stream",
     "text": [
      "Test Accuracy: 0.736715401326992\n"
     ]
    },
    {
     "name": "stderr",
     "output_type": "stream",
     "text": [
      "/home/spope/anaconda3/envs/reu/lib/python3.11/site-packages/sklearn/neural_network/_multilayer_perceptron.py:690: ConvergenceWarning: Stochastic Optimizer: Maximum iterations (100) reached and the optimization hasn't converged yet.\n",
      "  warnings.warn(\n"
     ]
    }
   ],
   "source": [
    "MLPmodel(df, input_columns=['Component','emotion','Emotionality','Priority'], target_column='label')"
   ]
  },
  {
   "cell_type": "code",
   "execution_count": 68,
   "id": "8882e385-3b99-418c-91d1-2618badfa31c",
   "metadata": {},
   "outputs": [
    {
     "name": "stderr",
     "output_type": "stream",
     "text": [
      "/home/spope/anaconda3/envs/reu/lib/python3.11/site-packages/sklearn/neural_network/_multilayer_perceptron.py:690: ConvergenceWarning: Stochastic Optimizer: Maximum iterations (100) reached and the optimization hasn't converged yet.\n",
      "  warnings.warn(\n"
     ]
    },
    {
     "name": "stdout",
     "output_type": "stream",
     "text": [
      "Test Accuracy: 0.6795842874757795\n"
     ]
    }
   ],
   "source": [
    "MLPmodel(df, input_columns=['Description','emotion','Emotionality','Priority'], target_column='label')"
   ]
  },
  {
   "cell_type": "code",
   "execution_count": 69,
   "id": "59439d6d-378d-4bbd-9112-3859bfe34c59",
   "metadata": {},
   "outputs": [
    {
     "name": "stdout",
     "output_type": "stream",
     "text": [
      "Test Accuracy: 0.7461100346427103\n"
     ]
    },
    {
     "name": "stderr",
     "output_type": "stream",
     "text": [
      "/home/spope/anaconda3/envs/reu/lib/python3.11/site-packages/sklearn/neural_network/_multilayer_perceptron.py:690: ConvergenceWarning: Stochastic Optimizer: Maximum iterations (100) reached and the optimization hasn't converged yet.\n",
      "  warnings.warn(\n"
     ]
    }
   ],
   "source": [
    "MLPmodel(df, input_columns=['Component','Emotionality','Priority'], target_column='label')"
   ]
  },
  {
   "cell_type": "code",
   "execution_count": 70,
   "id": "1b789322-a5bd-40a5-8486-f3649c8e8903",
   "metadata": {},
   "outputs": [
    {
     "name": "stdout",
     "output_type": "stream",
     "text": [
      "Test Accuracy: 0.7715929775115965\n"
     ]
    }
   ],
   "source": [
    "MLPmodel(df, input_columns=['Component','emotion','Priority'], target_column='label')"
   ]
  },
  {
   "cell_type": "code",
   "execution_count": 71,
   "id": "e3c74974-07ad-4a2b-91f8-f80ad367dac0",
   "metadata": {},
   "outputs": [
    {
     "name": "stdout",
     "output_type": "stream",
     "text": [
      "Test Accuracy: 0.7253244084316834\n"
     ]
    },
    {
     "name": "stderr",
     "output_type": "stream",
     "text": [
      "/home/spope/anaconda3/envs/reu/lib/python3.11/site-packages/sklearn/neural_network/_multilayer_perceptron.py:690: ConvergenceWarning: Stochastic Optimizer: Maximum iterations (100) reached and the optimization hasn't converged yet.\n",
      "  warnings.warn(\n"
     ]
    }
   ],
   "source": [
    "MLPmodel(df, input_columns=['Component','emotion','Emotionality',], target_column='label')"
   ]
  },
  {
   "cell_type": "code",
   "execution_count": 72,
   "id": "d4b70670-88da-4eeb-ad93-3900c0064d0d",
   "metadata": {},
   "outputs": [
    {
     "name": "stdout",
     "output_type": "stream",
     "text": [
      "Test Accuracy: 0.7715342610533733\n"
     ]
    }
   ],
   "source": [
    "MLPmodel(df, input_columns=['Component','Priority'], target_column='label')"
   ]
  },
  {
   "cell_type": "code",
   "execution_count": 73,
   "id": "e35e88f8-0eb1-404b-a609-03c5d4f7a067",
   "metadata": {
    "scrolled": true
   },
   "outputs": [
    {
     "data": {
      "text/html": [
       "<div>\n",
       "<style scoped>\n",
       "    .dataframe tbody tr th:only-of-type {\n",
       "        vertical-align: middle;\n",
       "    }\n",
       "\n",
       "    .dataframe tbody tr th {\n",
       "        vertical-align: top;\n",
       "    }\n",
       "\n",
       "    .dataframe thead th {\n",
       "        text-align: right;\n",
       "    }\n",
       "</style>\n",
       "<table border=\"1\" class=\"dataframe\">\n",
       "  <thead>\n",
       "    <tr style=\"text-align: right;\">\n",
       "      <th></th>\n",
       "      <th>Issue_id</th>\n",
       "      <th>Priority</th>\n",
       "      <th>Component</th>\n",
       "      <th>Duplicated_issue</th>\n",
       "      <th>Title</th>\n",
       "      <th>Description</th>\n",
       "      <th>Status</th>\n",
       "      <th>Resolution</th>\n",
       "      <th>Version</th>\n",
       "      <th>Created_time</th>\n",
       "      <th>Resolved_time</th>\n",
       "      <th>Duration_hours</th>\n",
       "      <th>label</th>\n",
       "      <th>Pos_Score</th>\n",
       "      <th>Neg_Score</th>\n",
       "      <th>emotion</th>\n",
       "      <th>Emotionality</th>\n",
       "      <th>eventual</th>\n",
       "      <th>combined</th>\n",
       "    </tr>\n",
       "  </thead>\n",
       "  <tbody>\n",
       "    <tr>\n",
       "      <th>0</th>\n",
       "      <td>1</td>\n",
       "      <td>P3</td>\n",
       "      <td>Team</td>\n",
       "      <td></td>\n",
       "      <td>Usability issue with external editors (1GE6IRL)</td>\n",
       "      <td>- setup project contain * .gif resource ; - re...</td>\n",
       "      <td>CLOSED</td>\n",
       "      <td>FIXED</td>\n",
       "      <td>2.0</td>\n",
       "      <td>2001-10-11 01:34:00+00:00</td>\n",
       "      <td>2012-02-09 20:57:47+00:00</td>\n",
       "      <td>90571.383333</td>\n",
       "      <td>long</td>\n",
       "      <td>0.051768</td>\n",
       "      <td>0.065657</td>\n",
       "      <td>negative</td>\n",
       "      <td>0.117424</td>\n",
       "      <td>FIXED</td>\n",
       "      <td>Team Usability issue with external editors (1G...</td>\n",
       "    </tr>\n",
       "    <tr>\n",
       "      <th>1</th>\n",
       "      <td>2</td>\n",
       "      <td>P5</td>\n",
       "      <td>Team</td>\n",
       "      <td></td>\n",
       "      <td>Opening repository resources doesnt honor type...</td>\n",
       "      <td>open repository resource always open default t...</td>\n",
       "      <td>RESOLVED</td>\n",
       "      <td>FIXED</td>\n",
       "      <td>2.0</td>\n",
       "      <td>2001-10-11 01:34:00+00:00</td>\n",
       "      <td>2002-05-07 14:33:56+00:00</td>\n",
       "      <td>5004.983333</td>\n",
       "      <td>short</td>\n",
       "      <td>0.020833</td>\n",
       "      <td>0.056818</td>\n",
       "      <td>negative</td>\n",
       "      <td>0.077652</td>\n",
       "      <td>FIXED</td>\n",
       "      <td>Team Opening repository resources doesnt honor...</td>\n",
       "    </tr>\n",
       "    <tr>\n",
       "      <th>2</th>\n",
       "      <td>3</td>\n",
       "      <td>P5</td>\n",
       "      <td>Team</td>\n",
       "      <td></td>\n",
       "      <td>Sync does not indicate deletion (1GIEN83)</td>\n",
       "      <td>km ( 10/2/2001 5:55:18 pm ) ; pr deletion indi...</td>\n",
       "      <td>RESOLVED</td>\n",
       "      <td>FIXED</td>\n",
       "      <td>2.0</td>\n",
       "      <td>2001-10-11 01:34:00+00:00</td>\n",
       "      <td>2010-05-07 14:28:53+00:00</td>\n",
       "      <td>75132.900000</td>\n",
       "      <td>long</td>\n",
       "      <td>0.086364</td>\n",
       "      <td>0.036364</td>\n",
       "      <td>positive</td>\n",
       "      <td>0.122727</td>\n",
       "      <td>FIXED</td>\n",
       "      <td>Team Sync does not indicate deletion (1GIEN83)...</td>\n",
       "    </tr>\n",
       "    <tr>\n",
       "      <th>3</th>\n",
       "      <td>4</td>\n",
       "      <td>P5</td>\n",
       "      <td>Team</td>\n",
       "      <td></td>\n",
       "      <td>need better error message if catching up over ...</td>\n",
       "      <td>- become synchronize project repository ; - us...</td>\n",
       "      <td>RESOLVED</td>\n",
       "      <td>FIXED</td>\n",
       "      <td>2.0</td>\n",
       "      <td>2001-10-11 01:34:00+00:00</td>\n",
       "      <td>2002-03-01 21:27:31+00:00</td>\n",
       "      <td>3403.883333</td>\n",
       "      <td>short</td>\n",
       "      <td>0.049342</td>\n",
       "      <td>0.092105</td>\n",
       "      <td>negative</td>\n",
       "      <td>0.141447</td>\n",
       "      <td>FIXED</td>\n",
       "      <td>Team need better error message if catching up ...</td>\n",
       "    </tr>\n",
       "    <tr>\n",
       "      <th>4</th>\n",
       "      <td>5</td>\n",
       "      <td>P3</td>\n",
       "      <td>Team</td>\n",
       "      <td></td>\n",
       "      <td>ISharingManager sharing API inconsistent (1GAU...</td>\n",
       "      <td>getting/setting manage state resource ; method...</td>\n",
       "      <td>RESOLVED</td>\n",
       "      <td>WONTFIX</td>\n",
       "      <td>2.0</td>\n",
       "      <td>2001-10-11 01:34:00+00:00</td>\n",
       "      <td>2008-08-15 12:04:36+00:00</td>\n",
       "      <td>60010.500000</td>\n",
       "      <td>long</td>\n",
       "      <td>0.085227</td>\n",
       "      <td>0.005682</td>\n",
       "      <td>positive</td>\n",
       "      <td>0.090909</td>\n",
       "      <td>NOTFIXED</td>\n",
       "      <td>Team ISharingManager sharing API inconsistent ...</td>\n",
       "    </tr>\n",
       "    <tr>\n",
       "      <th>...</th>\n",
       "      <td>...</td>\n",
       "      <td>...</td>\n",
       "      <td>...</td>\n",
       "      <td>...</td>\n",
       "      <td>...</td>\n",
       "      <td>...</td>\n",
       "      <td>...</td>\n",
       "      <td>...</td>\n",
       "      <td>...</td>\n",
       "      <td>...</td>\n",
       "      <td>...</td>\n",
       "      <td>...</td>\n",
       "      <td>...</td>\n",
       "      <td>...</td>\n",
       "      <td>...</td>\n",
       "      <td>...</td>\n",
       "      <td>...</td>\n",
       "      <td>...</td>\n",
       "      <td>...</td>\n",
       "    </tr>\n",
       "    <tr>\n",
       "      <th>68119</th>\n",
       "      <td>229777</td>\n",
       "      <td>P3</td>\n",
       "      <td>UI</td>\n",
       "      <td></td>\n",
       "      <td>[Viewers] Wrong argument in the first statemen...</td>\n",
       "      <td>build id : 3.3 ( i sure mean build id ; 3.3 ec...</td>\n",
       "      <td>RESOLVED</td>\n",
       "      <td>FIXED</td>\n",
       "      <td>3.3</td>\n",
       "      <td>2008-05-01 13:47:00+00:00</td>\n",
       "      <td>2008-05-10 14:06:07+00:00</td>\n",
       "      <td>216.316667</td>\n",
       "      <td>short</td>\n",
       "      <td>0.064024</td>\n",
       "      <td>0.027439</td>\n",
       "      <td>positive</td>\n",
       "      <td>0.091463</td>\n",
       "      <td>FIXED</td>\n",
       "      <td>UI [Viewers] Wrong argument in the first state...</td>\n",
       "    </tr>\n",
       "    <tr>\n",
       "      <th>68120</th>\n",
       "      <td>229779</td>\n",
       "      <td>P3</td>\n",
       "      <td>UI</td>\n",
       "      <td></td>\n",
       "      <td>NPE in performance tests</td>\n",
       "      <td>several npes within ui session test prevent ru...</td>\n",
       "      <td>VERIFIED</td>\n",
       "      <td>FIXED</td>\n",
       "      <td>3.4</td>\n",
       "      <td>2008-05-01 13:52:00+00:00</td>\n",
       "      <td>2008-05-20 14:12:14+00:00</td>\n",
       "      <td>456.333333</td>\n",
       "      <td>short</td>\n",
       "      <td>0.033333</td>\n",
       "      <td>0.033333</td>\n",
       "      <td>negative</td>\n",
       "      <td>0.066667</td>\n",
       "      <td>FIXED</td>\n",
       "      <td>UI NPE in performance tests several npes withi...</td>\n",
       "    </tr>\n",
       "    <tr>\n",
       "      <th>68121</th>\n",
       "      <td>229782</td>\n",
       "      <td>P3</td>\n",
       "      <td>UI</td>\n",
       "      <td></td>\n",
       "      <td>Performance tests for ICU Collator</td>\n",
       "      <td>i20080501-0100 ; ; use collator ( see dependan...</td>\n",
       "      <td>VERIFIED</td>\n",
       "      <td>FIXED</td>\n",
       "      <td>3.4</td>\n",
       "      <td>2008-05-01 14:05:00+00:00</td>\n",
       "      <td>2009-06-01 18:25:12+00:00</td>\n",
       "      <td>9508.333333</td>\n",
       "      <td>long</td>\n",
       "      <td>0.025000</td>\n",
       "      <td>0.000000</td>\n",
       "      <td>positive</td>\n",
       "      <td>0.025000</td>\n",
       "      <td>FIXED</td>\n",
       "      <td>UI Performance tests for ICU Collator i2008050...</td>\n",
       "    </tr>\n",
       "    <tr>\n",
       "      <th>68122</th>\n",
       "      <td>229789</td>\n",
       "      <td>P3</td>\n",
       "      <td>UI</td>\n",
       "      <td></td>\n",
       "      <td>[Examples] examples plugins create duplicate m...</td>\n",
       "      <td>create attachment 98318 ; screenshot ; ; i2008...</td>\n",
       "      <td>VERIFIED</td>\n",
       "      <td>FIXED</td>\n",
       "      <td>3.4</td>\n",
       "      <td>2008-05-01 15:02:00+00:00</td>\n",
       "      <td>2008-05-31 01:57:57+00:00</td>\n",
       "      <td>706.916667</td>\n",
       "      <td>short</td>\n",
       "      <td>0.092105</td>\n",
       "      <td>0.013158</td>\n",
       "      <td>positive</td>\n",
       "      <td>0.105263</td>\n",
       "      <td>FIXED</td>\n",
       "      <td>UI [Examples] examples plugins create duplicat...</td>\n",
       "    </tr>\n",
       "    <tr>\n",
       "      <th>68123</th>\n",
       "      <td>229792</td>\n",
       "      <td>P3</td>\n",
       "      <td>Team</td>\n",
       "      <td></td>\n",
       "      <td>Collapse All and Expand All buttons are separated</td>\n",
       "      <td>build id : m20080221-1800 ; ; step reproduce :...</td>\n",
       "      <td>RESOLVED</td>\n",
       "      <td>NOT_ECLIPSE</td>\n",
       "      <td>3.3.2</td>\n",
       "      <td>2008-05-01 15:20:00+00:00</td>\n",
       "      <td>2008-05-07 11:06:41+00:00</td>\n",
       "      <td>139.766667</td>\n",
       "      <td>short</td>\n",
       "      <td>0.040000</td>\n",
       "      <td>0.090000</td>\n",
       "      <td>negative</td>\n",
       "      <td>0.130000</td>\n",
       "      <td>NOTFIXED</td>\n",
       "      <td>Team Collapse All and Expand All buttons are s...</td>\n",
       "    </tr>\n",
       "  </tbody>\n",
       "</table>\n",
       "<p>68124 rows × 19 columns</p>\n",
       "</div>"
      ],
      "text/plain": [
       "       Issue_id Priority Component Duplicated_issue  \\\n",
       "0             1       P3      Team                    \n",
       "1             2       P5      Team                    \n",
       "2             3       P5      Team                    \n",
       "3             4       P5      Team                    \n",
       "4             5       P3      Team                    \n",
       "...         ...      ...       ...              ...   \n",
       "68119    229777       P3        UI                    \n",
       "68120    229779       P3        UI                    \n",
       "68121    229782       P3        UI                    \n",
       "68122    229789       P3        UI                    \n",
       "68123    229792       P3      Team                    \n",
       "\n",
       "                                                   Title  \\\n",
       "0        Usability issue with external editors (1GE6IRL)   \n",
       "1      Opening repository resources doesnt honor type...   \n",
       "2              Sync does not indicate deletion (1GIEN83)   \n",
       "3      need better error message if catching up over ...   \n",
       "4      ISharingManager sharing API inconsistent (1GAU...   \n",
       "...                                                  ...   \n",
       "68119  [Viewers] Wrong argument in the first statemen...   \n",
       "68120                           NPE in performance tests   \n",
       "68121                 Performance tests for ICU Collator   \n",
       "68122  [Examples] examples plugins create duplicate m...   \n",
       "68123  Collapse All and Expand All buttons are separated   \n",
       "\n",
       "                                             Description    Status  \\\n",
       "0      - setup project contain * .gif resource ; - re...    CLOSED   \n",
       "1      open repository resource always open default t...  RESOLVED   \n",
       "2      km ( 10/2/2001 5:55:18 pm ) ; pr deletion indi...  RESOLVED   \n",
       "3      - become synchronize project repository ; - us...  RESOLVED   \n",
       "4      getting/setting manage state resource ; method...  RESOLVED   \n",
       "...                                                  ...       ...   \n",
       "68119  build id : 3.3 ( i sure mean build id ; 3.3 ec...  RESOLVED   \n",
       "68120  several npes within ui session test prevent ru...  VERIFIED   \n",
       "68121  i20080501-0100 ; ; use collator ( see dependan...  VERIFIED   \n",
       "68122  create attachment 98318 ; screenshot ; ; i2008...  VERIFIED   \n",
       "68123  build id : m20080221-1800 ; ; step reproduce :...  RESOLVED   \n",
       "\n",
       "        Resolution Version               Created_time  \\\n",
       "0            FIXED     2.0  2001-10-11 01:34:00+00:00   \n",
       "1            FIXED     2.0  2001-10-11 01:34:00+00:00   \n",
       "2            FIXED     2.0  2001-10-11 01:34:00+00:00   \n",
       "3            FIXED     2.0  2001-10-11 01:34:00+00:00   \n",
       "4          WONTFIX     2.0  2001-10-11 01:34:00+00:00   \n",
       "...            ...     ...                        ...   \n",
       "68119        FIXED     3.3  2008-05-01 13:47:00+00:00   \n",
       "68120        FIXED     3.4  2008-05-01 13:52:00+00:00   \n",
       "68121        FIXED     3.4  2008-05-01 14:05:00+00:00   \n",
       "68122        FIXED     3.4  2008-05-01 15:02:00+00:00   \n",
       "68123  NOT_ECLIPSE   3.3.2  2008-05-01 15:20:00+00:00   \n",
       "\n",
       "                   Resolved_time  Duration_hours  label  Pos_Score  Neg_Score  \\\n",
       "0      2012-02-09 20:57:47+00:00    90571.383333   long   0.051768   0.065657   \n",
       "1      2002-05-07 14:33:56+00:00     5004.983333  short   0.020833   0.056818   \n",
       "2      2010-05-07 14:28:53+00:00    75132.900000   long   0.086364   0.036364   \n",
       "3      2002-03-01 21:27:31+00:00     3403.883333  short   0.049342   0.092105   \n",
       "4      2008-08-15 12:04:36+00:00    60010.500000   long   0.085227   0.005682   \n",
       "...                          ...             ...    ...        ...        ...   \n",
       "68119  2008-05-10 14:06:07+00:00      216.316667  short   0.064024   0.027439   \n",
       "68120  2008-05-20 14:12:14+00:00      456.333333  short   0.033333   0.033333   \n",
       "68121  2009-06-01 18:25:12+00:00     9508.333333   long   0.025000   0.000000   \n",
       "68122  2008-05-31 01:57:57+00:00      706.916667  short   0.092105   0.013158   \n",
       "68123  2008-05-07 11:06:41+00:00      139.766667  short   0.040000   0.090000   \n",
       "\n",
       "        emotion  Emotionality  eventual  \\\n",
       "0      negative      0.117424     FIXED   \n",
       "1      negative      0.077652     FIXED   \n",
       "2      positive      0.122727     FIXED   \n",
       "3      negative      0.141447     FIXED   \n",
       "4      positive      0.090909  NOTFIXED   \n",
       "...         ...           ...       ...   \n",
       "68119  positive      0.091463     FIXED   \n",
       "68120  negative      0.066667     FIXED   \n",
       "68121  positive      0.025000     FIXED   \n",
       "68122  positive      0.105263     FIXED   \n",
       "68123  negative      0.130000  NOTFIXED   \n",
       "\n",
       "                                                combined  \n",
       "0      Team Usability issue with external editors (1G...  \n",
       "1      Team Opening repository resources doesnt honor...  \n",
       "2      Team Sync does not indicate deletion (1GIEN83)...  \n",
       "3      Team need better error message if catching up ...  \n",
       "4      Team ISharingManager sharing API inconsistent ...  \n",
       "...                                                  ...  \n",
       "68119  UI [Viewers] Wrong argument in the first state...  \n",
       "68120  UI NPE in performance tests several npes withi...  \n",
       "68121  UI Performance tests for ICU Collator i2008050...  \n",
       "68122  UI [Examples] examples plugins create duplicat...  \n",
       "68123  Team Collapse All and Expand All buttons are s...  \n",
       "\n",
       "[68124 rows x 19 columns]"
      ]
     },
     "execution_count": 73,
     "metadata": {},
     "output_type": "execute_result"
    }
   ],
   "source": [
    "df"
   ]
  },
  {
   "cell_type": "code",
   "execution_count": 75,
   "id": "d3262e00-9e42-4503-aede-6352117324e1",
   "metadata": {},
   "outputs": [],
   "source": [
    "df2 = df\n",
    "df2['difference']= df2['Pos_Score']- df2['Neg_Score']"
   ]
  },
  {
   "cell_type": "code",
   "execution_count": null,
   "id": "9c17478e-68d2-4a4e-86ec-a81bc6c9aac1",
   "metadata": {},
   "outputs": [],
   "source": [
    "MLPmodel(df, input_columns=['Component','difference','Priority'], target_column='label')"
   ]
  },
  {
   "cell_type": "code",
   "execution_count": null,
   "id": "557e8172-be1e-4f37-b1c0-4ebd8aed70d7",
   "metadata": {},
   "outputs": [],
   "source": []
  }
 ],
 "metadata": {
  "kernelspec": {
   "display_name": "Python 3 (ipykernel)",
   "language": "python",
   "name": "python3"
  },
  "language_info": {
   "codemirror_mode": {
    "name": "ipython",
    "version": 3
   },
   "file_extension": ".py",
   "mimetype": "text/x-python",
   "name": "python",
   "nbconvert_exporter": "python",
   "pygments_lexer": "ipython3",
   "version": "3.11.9"
  }
 },
 "nbformat": 4,
 "nbformat_minor": 5
}
